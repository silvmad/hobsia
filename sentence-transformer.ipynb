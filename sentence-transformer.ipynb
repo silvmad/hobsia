{
 "cells": [
  {
   "cell_type": "markdown",
   "id": "651bf326-5035-41e0-8990-da7107fb3a90",
   "metadata": {},
   "source": [
    "### Imports et initialisations"
   ]
  },
  {
   "cell_type": "code",
   "execution_count": 1,
   "id": "628a012e-6b65-4e79-933e-4c3c7430f6d6",
   "metadata": {},
   "outputs": [],
   "source": [
    "import numpy as np\n",
    "import os\n",
    "import tensorflow as tf\n",
    "import tensorflow.keras as keras\n",
    "import random\n",
    "import re\n",
    "from nltk.corpus import stopwords\n",
    "from sklearn.cluster import KMeans\n",
    "from sklearn.decomposition import PCA\n",
    "import matplotlib.pyplot as plt\n",
    "import clustertools\n",
    "from clustertools import *\n",
    "#import torch"
   ]
  },
  {
   "cell_type": "code",
   "execution_count": 13,
   "id": "7f2a323c-859f-4053-b8e8-f293892064de",
   "metadata": {},
   "outputs": [],
   "source": [
    "#répertoire dans lequel seront stockés les clusters, doit se terminer obligatoirement par /\n",
    "cluster_dir = \"clusters/1M_Std_clusters/som_400/\"\n",
    "#clean_dataset_file = \"clusters/1M_Std_clusters/som_400/som_400_cluster_349_raw_msg.txt\"\n",
    "raw_dataset_file = \"clusters/1M_Std_clusters/som_400/som_400_cluster_349_raw_msg.txt\""
   ]
  },
  {
   "cell_type": "markdown",
   "id": "d125480d-b2be-44e6-91a3-879075e01fbb",
   "metadata": {},
   "source": [
    "##### Récupération des tweets"
   ]
  },
  {
   "cell_type": "code",
   "execution_count": 24,
   "id": "2899c31e-2e00-4b2c-b3a3-0fe7b62a7636",
   "metadata": {},
   "outputs": [],
   "source": [
    "#with open(clean_dataset_file, \"r\") as file:\n",
    "#    lines = file.readlines()\n",
    "    \n",
    "#global_clean_sample = [line.split() for line in lines]\n",
    "#clean_sample = [line[:-1] for line in lines if line[-1] == '\\n']\n",
    "\n",
    "with open(raw_dataset_file, \"r\") as file:\n",
    "    raw_dataset = file.read().splitlines()\n",
    "    \n",
    "clean_dataset = [line.split() for line in raw_sample]"
   ]
  },
  {
   "cell_type": "markdown",
   "id": "9c189033-a236-435d-8d86-083e27232997",
   "metadata": {},
   "source": [
    "### Encodage à l'aide d'un transformer pré entraîné\n",
    "\n",
    "On charge le modèle depuis le disque"
   ]
  },
  {
   "cell_type": "code",
   "execution_count": 4,
   "id": "8bdbb5cc-a5bc-42d5-9850-c6f71aa3a3a1",
   "metadata": {},
   "outputs": [],
   "source": [
    "from sentence_transformers import SentenceTransformer\n",
    "\n",
    "model = SentenceTransformer(\"models/model_multilangue\")"
   ]
  },
  {
   "cell_type": "code",
   "execution_count": 6,
   "id": "1c4024dc-4809-4f52-9b0f-a4e6ab905ea3",
   "metadata": {},
   "outputs": [
    {
     "name": "stdout",
     "output_type": "stream",
     "text": [
      "CPU times: user 5.11 s, sys: 1.48 s, total: 6.59 s\n",
      "Wall time: 23.6 s\n"
     ]
    }
   ],
   "source": [
    "%%time\n",
    "encoded_dataset = model.encode(raw_dataset)"
   ]
  },
  {
   "cell_type": "code",
   "execution_count": 76,
   "id": "7521895b-21ae-47de-afdb-436cf93afb4c",
   "metadata": {},
   "outputs": [],
   "source": [
    "#clean_sample"
   ]
  },
  {
   "cell_type": "markdown",
   "id": "ee88ac58-0e90-4250-a216-2338a93ef7df",
   "metadata": {},
   "source": [
    "### Visualisation du dataset\n",
    "\n",
    "- On réalise une réduction de dimension afin de visualiser les données dans une grille en deux dimensions\n",
    "- On utilise pour cela la méthode PCA"
   ]
  },
  {
   "cell_type": "code",
   "execution_count": 9,
   "id": "c7c3357c-589d-4bce-9013-c9c1bd1915d9",
   "metadata": {},
   "outputs": [
    {
     "name": "stdout",
     "output_type": "stream",
     "text": [
      "CPU times: user 324 ms, sys: 967 ms, total: 1.29 s\n",
      "Wall time: 247 ms\n"
     ]
    }
   ],
   "source": [
    "%%time\n",
    "\n",
    "pca = PCA(n_components=2)\n",
    "\n",
    "#On crée une version en deux dimensions de notre jeu de données\n",
    "two_dim_dataset = pca.fit_transform(encoded_dataset)"
   ]
  },
  {
   "cell_type": "code",
   "execution_count": 10,
   "id": "2f87e103-96de-435f-b9fa-224d3b3ab008",
   "metadata": {},
   "outputs": [],
   "source": [
    "#On utilise la matrice transposée de notre jeu de données pour pouvoir visualiser les données\n",
    "b = two_dim_dataset.T\n",
    "\n",
    "#Taille des figures\n",
    "plt.rcParams[\"figure.figsize\"] = (10,10)\n",
    "plt.rcParams[\"lines.markersize\"] = 3"
   ]
  },
  {
   "cell_type": "code",
   "execution_count": 25,
   "id": "6a4ce774-9337-4cae-b590-91a9a0964c5d",
   "metadata": {},
   "outputs": [],
   "source": [
    "\n",
    "\n",
    "init_globals(clean_dataset, raw_dataset, two_dim_dataset, cluster_dir)"
   ]
  },
  {
   "cell_type": "code",
   "execution_count": 12,
   "id": "bf2d2636-485e-4847-896e-5f8767fd78d5",
   "metadata": {},
   "outputs": [
    {
     "data": {
      "image/png": "[encoded data removed]",
      "text/plain": [
       "<Figure size 720x720 with 1 Axes>"
      ]
     },
     "metadata": {
      "needs_background": "light"
     },
     "output_type": "display_data"
    }
   ],
   "source": [
    "#Affichage des données\n",
    "plt.plot(b[0], b[1], 'r.')\n",
    "plt.show()"
   ]
  },
  {
   "cell_type": "markdown",
   "id": "dc77dc31-9bfb-4977-8a06-ad744f69f11c",
   "metadata": {},
   "source": [
    "### Kmeans"
   ]
  },
  {
   "cell_type": "code",
   "execution_count": 16,
   "id": "e40728af-123f-4cc4-9414-9da24afd8bf2",
   "metadata": {},
   "outputs": [],
   "source": [
    "n_clust = 4"
   ]
  },
  {
   "cell_type": "code",
   "execution_count": 17,
   "id": "ee94c766-7d09-4afe-bf1e-2aa87d02794d",
   "metadata": {},
   "outputs": [
    {
     "name": "stdout",
     "output_type": "stream",
     "text": [
      "CPU times: user 6.01 s, sys: 3.75 s, total: 9.75 s\n",
      "Wall time: 1.32 s\n"
     ]
    }
   ],
   "source": [
    "%%time\n",
    "km_model = KMeans(n_clusters=n_clust, random_state=0)\n",
    "kmeans = km_model.fit(encoded_dataset)"
   ]
  },
  {
   "cell_type": "code",
   "execution_count": 19,
   "id": "1242d490-5307-4493-9305-0fdfbb320ebb",
   "metadata": {},
   "outputs": [
    {
     "name": "stdout",
     "output_type": "stream",
     "text": [
      "huggingface/tokenizers: The current process just got forked, after parallelism has already been used. Disabling parallelism to avoid deadlocks...\n",
      "To disable this warning, you can either:\n",
      "\t- Avoid using `tokenizers` before the fork if possible\n",
      "\t- Explicitly set the environment variable TOKENIZERS_PARALLELISM=(true | false)\n"
     ]
    }
   ],
   "source": [
    "km_pred = kmeans.predict(encoded_dataset)"
   ]
  },
  {
   "cell_type": "code",
   "execution_count": 28,
   "id": "01170c23-7a10-4a93-8f4b-3d5e99a29296",
   "metadata": {},
   "outputs": [],
   "source": [
    "#km_centers = c = [[r[0] for r in w2v.similar_by_vector(center)] for center in km_model.cluster_centers_]"
   ]
  },
  {
   "cell_type": "code",
   "execution_count": 54,
   "id": "625d7b68-733a-4684-8fbc-8173bb327b11",
   "metadata": {},
   "outputs": [],
   "source": [
    "res = build_res_dict(km_pred)"
   ]
  },
  {
   "cell_type": "code",
   "execution_count": 35,
   "id": "7d648c40-266a-448d-a6c5-2b235ec4a3a3",
   "metadata": {},
   "outputs": [],
   "source": [
    "wlists, mlists, cmlists, e2dmlists, mfw, hkw, clust_n_msg = parse(km_pred)"
   ]
  },
  {
   "cell_type": "code",
   "execution_count": 36,
   "id": "c80ff568-2afc-4abe-87b7-df36c48de223",
   "metadata": {},
   "outputs": [],
   "source": [
    "print_clusters_info(clust_n_msg, mfw, hkw, [])"
   ]
  },
  {
   "cell_type": "code",
   "execution_count": 50,
   "id": "a65b99ef-fd1b-4623-a778-3edf3cf05ed1",
   "metadata": {},
   "outputs": [
    {
     "name": "stdout",
     "output_type": "stream",
     "text": [
      "['MÈRE', 'mer', 'DE', 'LA', 'salope', 'c', 'pour', 'oh', 'mais', 'du', 'Mais', 'suis', 'On', '#SPACEAFROOO', 'PUTE', 'Ah', 'lui', 'ca', 'bz', 'me']\n",
      "['mer', 'MÈRE', 'tu', 'lui', 'mais', 'C’est', 'enculé', 'Les', 'va', 'Oh', 'SA', 'bon', 'sale', 'plus', 'trop', 'du', 'elle', 'tout', \"c'est\", 'c']\n",
      "['sale', 'Ma', 'te', 'dit', 'me', 'elle', 'trop', 'pour', 'va', 'tu', '«', 'niquez', 'j’ai', 'avec', '»', 'mais', 'Ta', 'vie', 'Oh', 'Le']\n",
      "['plus', 'mon', 'niquez', 'Ta', 'Ma', 'si', 'dans', 'aussi', 'dit', 'lui', 'leur', 'ce', 'Les', 'bz', 'ton', 'père', 'Oh', 'Mais', 'fait', 'Vos']\n"
     ]
    }
   ],
   "source": [
    "for m in mfw.values(): print(m)"
   ]
  },
  {
   "cell_type": "code",
   "execution_count": 52,
   "id": "37bbf7e0-a7a0-4137-b05c-81eb7719f0e9",
   "metadata": {},
   "outputs": [],
   "source": [
    "save_clusters_info(clust_n_msg, mfw, hkw, \"km_4_transformer\", centers=[])"
   ]
  },
  {
   "cell_type": "code",
   "execution_count": 55,
   "id": "83e1757a-5aec-463e-81e6-34577282f642",
   "metadata": {},
   "outputs": [
    {
     "data": {
      "image/png": "[encoded data removed]",
      "text/plain": [
       "<Figure size 720x720 with 1 Axes>"
      ]
     },
     "metadata": {
      "needs_background": "light"
     },
     "output_type": "display_data"
    }
   ],
   "source": [
    "plot_results(res)"
   ]
  },
  {
   "cell_type": "markdown",
   "id": "27af5e61-a139-41e9-a35c-d5e1a776538b",
   "metadata": {},
   "source": [
    "### SOM"
   ]
  },
  {
   "cell_type": "code",
   "execution_count": 56,
   "id": "8e46ef7f-1bb6-4d28-b607-d29bf8bfb07f",
   "metadata": {},
   "outputs": [],
   "source": [
    "from sklearn_som.som import SOM"
   ]
  },
  {
   "cell_type": "code",
   "execution_count": 58,
   "id": "8be0565b-1eb7-4e07-8568-aeecec12c645",
   "metadata": {},
   "outputs": [],
   "source": [
    "som_normalized_dataset = np.array([vect / np.linalg.norm(vect) if np.linalg.norm(vect) != 0 else vect for vect in encoded_dataset])"
   ]
  },
  {
   "cell_type": "code",
   "execution_count": 60,
   "id": "c919a7b3-119c-4853-93a3-58cbc11a2c68",
   "metadata": {},
   "outputs": [
    {
     "name": "stdout",
     "output_type": "stream",
     "text": [
      "CPU times: user 467 ms, sys: 0 ns, total: 467 ms\n",
      "Wall time: 469 ms\n"
     ]
    }
   ],
   "source": [
    "%%time\n",
    "\n",
    "som = SOM(m=2, n=2, dim=512)\n",
    "som.fit(som_normalized_dataset)"
   ]
  },
  {
   "cell_type": "code",
   "execution_count": 61,
   "id": "e3782332-8cf9-4963-a515-4434407ffbe9",
   "metadata": {},
   "outputs": [
    {
     "name": "stdout",
     "output_type": "stream",
     "text": [
      "CPU times: user 35.1 ms, sys: 4.81 ms, total: 39.9 ms\n",
      "Wall time: 35.2 ms\n"
     ]
    }
   ],
   "source": [
    "%%time\n",
    "\n",
    "som_pred = som.predict(som_normalized_dataset)"
   ]
  },
  {
   "cell_type": "code",
   "execution_count": 31,
   "id": "12c49fdb-6622-4e42-8e42-857e3aff4998",
   "metadata": {},
   "outputs": [],
   "source": [
    "som_centers = [[r[0] for r in w2v.similar_by_vector(center)] for center in som.weights]"
   ]
  },
  {
   "cell_type": "code",
   "execution_count": 63,
   "id": "1d0a6583-b44c-4390-9639-14c8c321778e",
   "metadata": {},
   "outputs": [
    {
     "name": "stdout",
     "output_type": "stream",
     "text": [
      "Cluster 0 : 95 messages\n",
      "33 messages contiennent un mot-clé haineux (soit 34.74%)\n",
      "Les 20 mots les plus fréquents : MÈRE mer DE LA salope c pour oh mais du Mais suis On #SPACEAFROOO PUTE Ah lui ca bz me \n",
      "\n",
      "\n",
      "Cluster 1 : 248 messages\n",
      "83 messages contiennent un mot-clé haineux (soit 33.47%)\n",
      "Les 20 mots les plus fréquents : mer MÈRE lui tu C’est enculé Les mais Oh SA va bon sale plus trop du elle tout c'est c \n",
      "\n",
      "\n",
      "Cluster 2 : 102 messages\n",
      "12 messages contiennent un mot-clé haineux (soit 11.76%)\n",
      "Les 20 mots les plus fréquents : plus mon niquez Ta Ma si dans aussi dit lui leur ce Les bz ton père Oh Mais fait Vos \n",
      "\n",
      "\n",
      "Cluster 3 : 283 messages\n",
      "45 messages contiennent un mot-clé haineux (soit 15.90%)\n",
      "Les 20 mots les plus fréquents : sale Ma te va tu « dit me elle trop pour » niquez j’ai mais avec Ta vie Oh Le \n",
      "\n",
      "\n"
     ]
    },
    {
     "data": {
      "image/png": "[encoded data removed]",
      "text/plain": [
       "<Figure size 720x720 with 1 Axes>"
      ]
     },
     "metadata": {
      "needs_background": "light"
     },
     "output_type": "display_data"
    }
   ],
   "source": [
    "parse_no_save(som_pred, #\"som\", som_centers)\n",
    "              [])"
   ]
  },
  {
   "cell_type": "code",
   "execution_count": 3,
   "id": "f0d4cac7-cde1-4e39-b0a4-11c4ad164b96",
   "metadata": {},
   "outputs": [],
   "source": []
  },
  {
   "cell_type": "code",
   "execution_count": 30,
   "id": "550892ef-5863-4a3f-98e3-922d9dc7d4df",
   "metadata": {},
   "outputs": [],
   "source": [
    "import importlib\n",
    "import clustertools"
   ]
  },
  {
   "cell_type": "code",
   "execution_count": 51,
   "id": "8a72f2fc-20ed-4c6b-8ba9-f1ff3f00ca4f",
   "metadata": {},
   "outputs": [],
   "source": [
    "importlib.reload(clustertools)\n",
    "from clustertools import *"
   ]
  },
  {
   "cell_type": "code",
   "execution_count": null,
   "id": "acbac1cc-33b7-42c0-afbf-2ef04f3a3b96",
   "metadata": {},
   "outputs": [],
   "source": []
  }
 ],
 "metadata": {
  "kernelspec": {
   "display_name": "Python 3 (ipykernel)",
   "language": "python",
   "name": "python3"
  },
  "language_info": {
   "codemirror_mode": {
    "name": "ipython",
    "version": 3
   },
   "file_extension": ".py",
   "mimetype": "text/x-python",
   "name": "python",
   "nbconvert_exporter": "python",
   "pygments_lexer": "ipython3",
   "version": "3.9.2"
  }
 },
 "nbformat": 4,
 "nbformat_minor": 5
}
