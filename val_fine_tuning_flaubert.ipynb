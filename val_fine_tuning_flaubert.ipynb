{
 "cells": [
  {
   "cell_type": "code",
   "execution_count": 1,
   "id": "14c0f06b-c3c3-4fb7-870b-0c5879680e48",
   "metadata": {},
   "outputs": [],
   "source": [
    "import torch\n",
    "from transformers import FlaubertModel, FlaubertTokenizer, FlaubertForSequenceClassification, Trainer, TrainingArguments\n",
    "import pandas as pd\n",
    "from sklearn.model_selection import train_test_split\n",
    "from sklearn.metrics import confusion_matrix\n",
    "import matplotlib.pyplot as plt\n",
    "import itertools\n",
    "import numpy as np\n",
    "import random\n",
    "from confmat import plot_confusion_matrix"
   ]
  },
  {
   "cell_type": "markdown",
   "id": "7520a1a5-1699-4488-b2d6-ec27ce56f3e5",
   "metadata": {
    "tags": []
   },
   "source": [
    "### Charger un modèle Flaubert pré-entrainé \n",
    "\n",
    "On utilise la classe FlaubertForSequenceClassification afin de l'utiliser pour de la classification\n",
    "\n",
    "On enregistre le modèle sur le disque afin de ne pas avoir à le retélécharger"
   ]
  },
  {
   "cell_type": "code",
   "execution_count": 36,
   "id": "9b7be41b-e18b-4be5-8394-5f01c80dfc37",
   "metadata": {},
   "outputs": [],
   "source": [
    "classifier = FlaubertForSequenceClassification.from_pretrained('flaubert/flaubert_base_cased')"
   ]
  },
  {
   "cell_type": "code",
   "execution_count": 37,
   "id": "bf984156-ff3f-43d7-9199-07ecbee92d2b",
   "metadata": {},
   "outputs": [],
   "source": [
    "classifier.save_pretrained(\"models/flaubert_pretrained_classification_model\")"
   ]
  },
  {
   "cell_type": "markdown",
   "id": "75c678be-f0bf-4559-ad2d-6adb61df7a33",
   "metadata": {
    "jp-MarkdownHeadingCollapsed": true,
    "tags": []
   },
   "source": [
    "### Charger le modèle depuis le disque"
   ]
  },
  {
   "cell_type": "code",
   "execution_count": 2,
   "id": "8c2e8901-e63a-49ad-bc34-a5517f305924",
   "metadata": {},
   "outputs": [],
   "source": [
    "tok_dir = 'models/flaubert_pretrained_tokenizer'\n",
    "class_dir = 'models/flaubert_pretrained_classification_model'"
   ]
  },
  {
   "cell_type": "code",
   "execution_count": 3,
   "id": "d89f36b9-6188-45dd-8ed2-5d5affdebf92",
   "metadata": {},
   "outputs": [],
   "source": [
    "tokenizer = FlaubertTokenizer.from_pretrained(tok_dir, do_lowercase=False)\n",
    "classifier = FlaubertForSequenceClassification.from_pretrained(class_dir)"
   ]
  },
  {
   "cell_type": "markdown",
   "id": "93f33d9a-9d08-4393-b010-f50a99e10139",
   "metadata": {
    "jp-MarkdownHeadingCollapsed": true,
    "tags": []
   },
   "source": [
    "### Charger les données"
   ]
  },
  {
   "cell_type": "code",
   "execution_count": 4,
   "id": "f3beb5cb-77e1-4898-8edc-31b15f1a748b",
   "metadata": {},
   "outputs": [],
   "source": [
    "data_hate = pd.read_pickle(\"data_hate.pkl\")"
   ]
  },
  {
   "cell_type": "code",
   "execution_count": 5,
   "id": "2273aefa-fcc2-46a8-9522-ae4c404818cb",
   "metadata": {},
   "outputs": [],
   "source": [
    "tweets = list(data_hate['tweet'])\n",
    "labels = list(data_hate['sentiment'])"
   ]
  },
  {
   "cell_type": "markdown",
   "id": "59399d69-ba69-41e1-9591-63162e3c63b9",
   "metadata": {},
   "source": [
    "### Équilibrer le jeu de données à la hache"
   ]
  },
  {
   "cell_type": "code",
   "execution_count": 6,
   "id": "2ef1e159-5883-4fbd-ba22-d9b3f8c57f57",
   "metadata": {},
   "outputs": [],
   "source": [
    "nlist = []\n",
    "hlist = []\n",
    "for m, lab in zip(tweets, labels):\n",
    "    if (lab == 1):\n",
    "        hlist.append((m, 1))\n",
    "    else:\n",
    "        nlist.append((m, 0))"
   ]
  },
  {
   "cell_type": "code",
   "execution_count": 7,
   "id": "6580b537-dcee-4f21-9dbe-e64f174b06db",
   "metadata": {},
   "outputs": [],
   "source": [
    "hsample = random.Random(0).sample(hlist, len(nlist))"
   ]
  },
  {
   "cell_type": "code",
   "execution_count": 8,
   "id": "48d8f034-3863-40ee-bc76-72abbb4f9491",
   "metadata": {},
   "outputs": [],
   "source": [
    "balanced_dataset = hsample + nlist\n",
    "random.Random(0).shuffle(balanced_dataset)"
   ]
  },
  {
   "cell_type": "code",
   "execution_count": 9,
   "id": "45379356-fe53-490b-a99b-72ed534cdcd0",
   "metadata": {},
   "outputs": [],
   "source": [
    "btweets = []\n",
    "blabels = []\n",
    "for m, lab in balanced_dataset:\n",
    "    btweets.append(m)\n",
    "    blabels.append(lab)"
   ]
  },
  {
   "cell_type": "markdown",
   "id": "435e5c8b-6ddb-4e15-bf4e-a0185cef7a0c",
   "metadata": {},
   "source": [
    "### Séparation jeu d'entraînement / jeu de test"
   ]
  },
  {
   "cell_type": "code",
   "execution_count": 10,
   "id": "f2ac1db9-4ef8-4ed6-ac39-b8766f91e309",
   "metadata": {},
   "outputs": [],
   "source": [
    "train_tweets, test_tweets, train_labels, test_labels = train_test_split(btweets, blabels, test_size=0.2, random_state=0)"
   ]
  },
  {
   "cell_type": "markdown",
   "id": "9d62a1aa-3d0c-4ddb-871f-693aba1e316a",
   "metadata": {
    "tags": []
   },
   "source": [
    "### Préparation des jeux de données \n",
    "\n",
    "- Tokenisation.\n",
    "- Création d'une classe héritant de Dataset pour recueillir le jeu de données. Cette classe doit implémenter deux méthodes :\n",
    "  - Une méthode prenant un indice en argument et renvoyant l'entrée correspondante sous forme d'un dictionnaire.\n",
    "  - une méthode renvoyant la taille du jeu de données\n",
    "- Deux instanciation de cette classe pour le jeu d'entraînement et de test."
   ]
  },
  {
   "cell_type": "code",
   "execution_count": 11,
   "id": "6b2fe2bb-a5f3-4dd9-a3fc-af809f30915f",
   "metadata": {},
   "outputs": [],
   "source": [
    "train_encodings = tokenizer(train_tweets, padding=True, truncation=True, max_length=512, return_tensors=\"pt\")\n",
    "test_encodings = tokenizer(test_tweets, padding=True, truncation=True, max_length=512, return_tensors=\"pt\")"
   ]
  },
  {
   "cell_type": "code",
   "execution_count": 12,
   "id": "61c7dca7-e3d5-41d8-9a21-0367cdc63527",
   "metadata": {},
   "outputs": [],
   "source": [
    "class FrTwitterHateDataset(torch.utils.data.Dataset):\n",
    "    def __init__(self, encodings, labels):\n",
    "        self.encodings = encodings\n",
    "        self.labels = labels\n",
    "\n",
    "    def __getitem__(self, idx):\n",
    "        item = {key: torch.tensor(val[idx]) for key, val in self.encodings.items()}\n",
    "        item['labels'] = torch.tensor(self.labels[idx])\n",
    "        return item\n",
    "\n",
    "    def __len__(self):\n",
    "        return len(self.labels)"
   ]
  },
  {
   "cell_type": "code",
   "execution_count": 13,
   "id": "c7684174-f7b6-4f92-a443-ef699250ce26",
   "metadata": {},
   "outputs": [],
   "source": [
    "train_dataset = FrTwitterHateDataset(train_encodings, train_labels)\n",
    "test_dataset = FrTwitterHateDataset(test_encodings, test_labels)"
   ]
  },
  {
   "cell_type": "markdown",
   "id": "489edc67-835c-4fbc-9459-e89b2f38a588",
   "metadata": {},
   "source": [
    "### Réglage fin\n",
    "On utilise les classes TrainingArguments et Trainer qui simplifient le processus"
   ]
  },
  {
   "cell_type": "code",
   "execution_count": 14,
   "id": "8b5415a7-b6c4-4a28-a0f7-8ad4acb74a10",
   "metadata": {},
   "outputs": [],
   "source": [
    "training_args = TrainingArguments(\n",
    "    output_dir='./results',          # output directory\n",
    "    num_train_epochs=3,              # total number of training epochs\n",
    "    per_device_train_batch_size=16,  # batch size per device during training\n",
    "    per_device_eval_batch_size=64,   # batch size for evaluation\n",
    "    warmup_steps=500,                # number of warmup steps for learning rate scheduler\n",
    "    weight_decay=0.01,               # strength of weight decay\n",
    "    logging_dir='./logs',            # directory for storing logs\n",
    "    logging_steps=10,\n",
    ")\n",
    "\n",
    "trainer = Trainer(\n",
    "    model=classifier,                         # the instantiated 🤗 Transformers model to be trained\n",
    "    args=training_args,                  # training arguments, defined above\n",
    "    train_dataset=train_dataset,         # training dataset\n",
    ")"
   ]
  },
  {
   "cell_type": "code",
   "execution_count": 15,
   "id": "2c969195-8c92-4f28-a549-c8783764f148",
   "metadata": {},
   "outputs": [
    {
     "name": "stderr",
     "output_type": "stream",
     "text": [
      "/home/victor/data/fidle/fidle-env/lib/python3.9/site-packages/transformers/optimization.py:306: FutureWarning: This implementation of AdamW is deprecated and will be removed in a future version. Use the PyTorch implementation torch.optim.AdamW instead, or set `no_deprecation_warning=True` to disable this warning\n",
      "  warnings.warn(\n",
      "***** Running training *****\n",
      "  Num examples = 1313\n",
      "  Num Epochs = 3\n",
      "  Instantaneous batch size per device = 16\n",
      "  Total train batch size (w. parallel, distributed & accumulation) = 16\n",
      "  Gradient Accumulation steps = 1\n",
      "  Total optimization steps = 249\n",
      "/tmp/ipykernel_14621/823565030.py:7: UserWarning: To copy construct from a tensor, it is recommended to use sourceTensor.clone().detach() or sourceTensor.clone().detach().requires_grad_(True), rather than torch.tensor(sourceTensor).\n",
      "  item = {key: torch.tensor(val[idx]) for key, val in self.encodings.items()}\n"
     ]
    },
    {
     "data": {
      "text/html": [
       "\n",
       "    <div>\n",
       "      \n",
       "      <progress value='249' max='249' style='width:300px; height:20px; vertical-align: middle;'></progress>\n",
       "      [249/249 01:35, Epoch 3/3]\n",
       "    </div>\n",
       "    <table border=\"1\" class=\"dataframe\">\n",
       "  <thead>\n",
       " <tr style=\"text-align: left;\">\n",
       "      <th>Step</th>\n",
       "      <th>Training Loss</th>\n",
       "    </tr>\n",
       "  </thead>\n",
       "  <tbody>\n",
       "    <tr>\n",
       "      <td>10</td>\n",
       "      <td>0.877600</td>\n",
       "    </tr>\n",
       "    <tr>\n",
       "      <td>20</td>\n",
       "      <td>0.826900</td>\n",
       "    </tr>\n",
       "    <tr>\n",
       "      <td>30</td>\n",
       "      <td>0.944500</td>\n",
       "    </tr>\n",
       "    <tr>\n",
       "      <td>40</td>\n",
       "      <td>0.813100</td>\n",
       "    </tr>\n",
       "    <tr>\n",
       "      <td>50</td>\n",
       "      <td>0.708700</td>\n",
       "    </tr>\n",
       "    <tr>\n",
       "      <td>60</td>\n",
       "      <td>0.752800</td>\n",
       "    </tr>\n",
       "    <tr>\n",
       "      <td>70</td>\n",
       "      <td>0.744800</td>\n",
       "    </tr>\n",
       "    <tr>\n",
       "      <td>80</td>\n",
       "      <td>0.690000</td>\n",
       "    </tr>\n",
       "    <tr>\n",
       "      <td>90</td>\n",
       "      <td>0.780200</td>\n",
       "    </tr>\n",
       "    <tr>\n",
       "      <td>100</td>\n",
       "      <td>0.761800</td>\n",
       "    </tr>\n",
       "    <tr>\n",
       "      <td>110</td>\n",
       "      <td>0.690700</td>\n",
       "    </tr>\n",
       "    <tr>\n",
       "      <td>120</td>\n",
       "      <td>0.724200</td>\n",
       "    </tr>\n",
       "    <tr>\n",
       "      <td>130</td>\n",
       "      <td>0.707900</td>\n",
       "    </tr>\n",
       "    <tr>\n",
       "      <td>140</td>\n",
       "      <td>0.748400</td>\n",
       "    </tr>\n",
       "    <tr>\n",
       "      <td>150</td>\n",
       "      <td>0.724500</td>\n",
       "    </tr>\n",
       "    <tr>\n",
       "      <td>160</td>\n",
       "      <td>0.743500</td>\n",
       "    </tr>\n",
       "    <tr>\n",
       "      <td>170</td>\n",
       "      <td>0.664500</td>\n",
       "    </tr>\n",
       "    <tr>\n",
       "      <td>180</td>\n",
       "      <td>0.666600</td>\n",
       "    </tr>\n",
       "    <tr>\n",
       "      <td>190</td>\n",
       "      <td>0.634900</td>\n",
       "    </tr>\n",
       "    <tr>\n",
       "      <td>200</td>\n",
       "      <td>0.698700</td>\n",
       "    </tr>\n",
       "    <tr>\n",
       "      <td>210</td>\n",
       "      <td>0.656600</td>\n",
       "    </tr>\n",
       "    <tr>\n",
       "      <td>220</td>\n",
       "      <td>0.752300</td>\n",
       "    </tr>\n",
       "    <tr>\n",
       "      <td>230</td>\n",
       "      <td>0.645700</td>\n",
       "    </tr>\n",
       "    <tr>\n",
       "      <td>240</td>\n",
       "      <td>0.788600</td>\n",
       "    </tr>\n",
       "  </tbody>\n",
       "</table><p>"
      ],
      "text/plain": [
       "<IPython.core.display.HTML object>"
      ]
     },
     "metadata": {},
     "output_type": "display_data"
    },
    {
     "name": "stderr",
     "output_type": "stream",
     "text": [
      "\n",
      "\n",
      "Training completed. Do not forget to share your model on huggingface.co/models =)\n",
      "\n",
      "\n"
     ]
    },
    {
     "name": "stdout",
     "output_type": "stream",
     "text": [
      "CPU times: user 1min 25s, sys: 11 s, total: 1min 36s\n",
      "Wall time: 1min 36s\n"
     ]
    },
    {
     "data": {
      "text/plain": [
       "TrainOutput(global_step=249, training_loss=0.7412082526578482, metrics={'train_runtime': 96.3935, 'train_samples_per_second': 40.864, 'train_steps_per_second': 2.583, 'total_flos': 82420243976772.0, 'train_loss': 0.7412082526578482, 'epoch': 3.0})"
      ]
     },
     "execution_count": 15,
     "metadata": {},
     "output_type": "execute_result"
    }
   ],
   "source": [
    "%%time\n",
    "trainer.train()"
   ]
  },
  {
   "cell_type": "markdown",
   "id": "2fdbef36-5a74-459f-b00c-95c35f5884a0",
   "metadata": {
    "tags": []
   },
   "source": [
    "### Prédiction sur le jeu de test"
   ]
  },
  {
   "cell_type": "code",
   "execution_count": 17,
   "id": "f8880f72-9fc6-4278-8577-bd6ea107ddc8",
   "metadata": {},
   "outputs": [],
   "source": [
    "test_pred = []\n",
    "for n in range(0, len(test_tweets), 10):\n",
    "    phrases = test_tweets[n:n+10]\n",
    "    enc = tokenizer(phrases, padding=True, truncation=True, max_length=512, return_tensors='pt')\n",
    "    enc.to('cuda:0')\n",
    "    with torch.no_grad():\n",
    "        outp = classifier(**enc)\n",
    "    pred = torch.nn.functional.softmax(outp.logits, dim=1)\n",
    "    labels = torch.argmax(pred, dim=1)\n",
    "    test_pred.append(labels)"
   ]
  },
  {
   "cell_type": "code",
   "execution_count": 18,
   "id": "fbedea6d-d2fb-45bf-afdb-5c1dbe116a1c",
   "metadata": {},
   "outputs": [],
   "source": [
    "cat_pred = torch.cat(test_pred)"
   ]
  },
  {
   "cell_type": "markdown",
   "id": "4c78b7e9-5ef8-4089-acfb-9e6bec8794d4",
   "metadata": {},
   "source": [
    "### Matrice de confusion\n",
    "Malgré l'équilibrage du jeu de données, le modèle est complètement biaisé vers le haineux"
   ]
  },
  {
   "cell_type": "code",
   "execution_count": 19,
   "id": "ee5199a4-a17f-4ad2-90c4-60fe249c599f",
   "metadata": {},
   "outputs": [
    {
     "data": {
      "image/png": "[encoded data removed]",
      "text/plain": [
       "<Figure size 720x576 with 2 Axes>"
      ]
     },
     "metadata": {
      "needs_background": "light"
     },
     "output_type": "display_data"
    }
   ],
   "source": [
    "plot_confusion_matrix(test_labels, cat_pred.cpu(), [0, 1])"
   ]
  },
  {
   "cell_type": "code",
   "execution_count": null,
   "id": "dd00ac72-50c6-4785-9428-ad99bd9c92c1",
   "metadata": {},
   "outputs": [],
   "source": []
  }
 ],
 "metadata": {
  "kernelspec": {
   "display_name": "Python 3 (ipykernel)",
   "language": "python",
   "name": "python3"
  },
  "language_info": {
   "codemirror_mode": {
    "name": "ipython",
    "version": 3
   },
   "file_extension": ".py",
   "mimetype": "text/x-python",
   "name": "python",
   "nbconvert_exporter": "python",
   "pygments_lexer": "ipython3",
   "version": "3.9.2"
  }
 },
 "nbformat": 4,
 "nbformat_minor": 5
}
