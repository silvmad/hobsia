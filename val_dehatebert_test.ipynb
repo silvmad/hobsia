{
 "cells": [
  {
   "cell_type": "markdown",
   "id": "7b03d136-7bad-473f-8bc4-fc3d8f495e72",
   "metadata": {},
   "source": [
    "### Imports et initialisations"
   ]
  },
  {
   "cell_type": "code",
   "execution_count": 2,
   "id": "aeec8234-51ce-4a34-8cbf-0a02f698f4c8",
   "metadata": {},
   "outputs": [],
   "source": [
    "from transformers import AutoTokenizer, AutoModelForSequenceClassification\n",
    "import torch\n",
    "import random"
   ]
  },
  {
   "cell_type": "code",
   "execution_count": 3,
   "id": "8447c3e6-6a8f-4d38-a7ca-5efefe2fb3d9",
   "metadata": {},
   "outputs": [],
   "source": [
    "raw_dataset_file = \"datasets/haine2022_oversampling_africain.txt\""
   ]
  },
  {
   "cell_type": "markdown",
   "id": "adb071e4-dbab-4220-b506-9826985fd7ab",
   "metadata": {},
   "source": [
    "### Chargement des données"
   ]
  },
  {
   "cell_type": "code",
   "execution_count": 22,
   "id": "0bf20469-1a48-4420-b99a-d88a2c1fe9c3",
   "metadata": {},
   "outputs": [],
   "source": [
    "with open(raw_dataset_file, \"r\") as file:\n",
    "    raw_dataset = file.read().splitlines()"
   ]
  },
  {
   "cell_type": "markdown",
   "id": "1c78a422-4181-40e9-9746-2043e2f6f6b8",
   "metadata": {},
   "source": [
    "On prend un échantillon de messages"
   ]
  },
  {
   "cell_type": "code",
   "execution_count": 30,
   "id": "ca7eac92-9507-48b1-8fb7-63c82a5e9cd3",
   "metadata": {},
   "outputs": [],
   "source": [
    "sample_size = 30\n",
    "\n",
    "idx_list = random.Random(2).sample(range(len(raw_dataset)), sample_size)\n",
    "raw_sample = [raw_dataset[i] for i in idx_list]"
   ]
  },
  {
   "cell_type": "markdown",
   "id": "786ef2fa-89db-45e3-8af9-10f6fcc6688d",
   "metadata": {},
   "source": [
    "### Chargement du modèle et classification des données\n",
    "\n",
    "#### Chargement depuis huggingface"
   ]
  },
  {
   "cell_type": "code",
   "execution_count": null,
   "id": "eb8d6135-a059-4f3c-8a34-47cf0b90d9aa",
   "metadata": {},
   "outputs": [],
   "source": [
    "tokenizer = AutoTokenizer.from_pretrained(\"Hate-speech-CNERG/dehatebert-mono-french\")\n",
    "model = AutoModelForSequenceClassification.from_pretrained(\"Hate-speech-CNERG/dehatebert-mono-french\")"
   ]
  },
  {
   "cell_type": "markdown",
   "id": "46567acc-1fbd-49cb-a2a2-f8a53bca347d",
   "metadata": {},
   "source": [
    "#### Chargement depuis le disque"
   ]
  },
  {
   "cell_type": "code",
   "execution_count": 7,
   "id": "e4930448-da12-4370-997d-4df868b7c0f0",
   "metadata": {},
   "outputs": [],
   "source": [
    "tokenizer = AutoTokenizer.from_pretrained(\"models/dehatebert_tokenizer\")\n",
    "model = AutoModelForSequenceClassification.from_pretrained(\"models/dehatebert_model\")"
   ]
  },
  {
   "cell_type": "markdown",
   "id": "e4ce9aa8-03ca-4af5-9548-61a4931899cb",
   "metadata": {},
   "source": [
    "Utilisation de la carte graphique si disponible"
   ]
  },
  {
   "cell_type": "code",
   "execution_count": 9,
   "id": "653e1e1b-9c72-4189-ad6c-1abb25234feb",
   "metadata": {},
   "outputs": [],
   "source": [
    "device = torch.device('cuda') if torch.cuda.is_available() else torch.device('cpu')\n",
    "r = model.to(device)"
   ]
  },
  {
   "cell_type": "markdown",
   "id": "f818f29a-840c-4c3b-ac24-733658f0a164",
   "metadata": {},
   "source": [
    "### Classification de l'échantillon"
   ]
  },
  {
   "cell_type": "code",
   "execution_count": 31,
   "id": "6cd4c71c-83b8-44e1-9a20-59d13e38c83e",
   "metadata": {},
   "outputs": [
    {
     "name": "stdout",
     "output_type": "stream",
     "text": [
      "CPU times: user 292 ms, sys: 13.2 ms, total: 305 ms\n",
      "Wall time: 293 ms\n"
     ]
    }
   ],
   "source": [
    "%%time\n",
    "\n",
    "predicted_classes_id = []\n",
    "step = 10\n",
    "max = 30\n",
    "for i in range(0, max, step):\n",
    "    inp = tokenizer(raw_sample[i:i+step], return_tensors='pt', padding=True, truncation=True)\n",
    "    inp.to(device)\n",
    "    with torch.no_grad():\n",
    "        logits = model(**inp).logits\n",
    "    predicted_classes_id += [elt.argmax().item() for elt in logits]"
   ]
  },
  {
   "cell_type": "markdown",
   "id": "a5105b05-e142-4833-9baf-2f513214152f",
   "metadata": {},
   "source": [
    "### Regroupement des messages par classe"
   ]
  },
  {
   "cell_type": "code",
   "execution_count": 32,
   "id": "ebf2f61c-a3c1-423e-a2d5-0787e14b05a0",
   "metadata": {},
   "outputs": [
    {
     "name": "stdout",
     "output_type": "stream",
     "text": [
      "17 messages haineux sur 30\n"
     ]
    }
   ],
   "source": [
    "n = 0\n",
    "haineux = []\n",
    "non_haineux = []\n",
    "for i, msg in enumerate(raw_sample):#[:max]):\n",
    "    if (predicted_classes_id[i] == 1):\n",
    "        haineux.append(msg)\n",
    "        n += 1\n",
    "    else :\n",
    "        non_haineux.append(msg)\n",
    "print(\"{} messages haineux sur {}\".format(n, len(raw_sample)))"
   ]
  },
  {
   "cell_type": "markdown",
   "id": "af21d733-1d94-4958-a2bd-10ae8b4900ba",
   "metadata": {},
   "source": [
    "#### Les messages classifiés comme haineux\n",
    "- 2 messages litigieux\n",
    "- 9 faux positifs\n",
    "- 6 messages réellement haineux"
   ]
  },
  {
   "cell_type": "code",
   "execution_count": 33,
   "id": "03d88df6-3e26-4c7b-a0f9-a7825c5e942e",
   "metadata": {},
   "outputs": [
    {
     "name": "stdout",
     "output_type": "stream",
     "text": [
      "Par contre critiquer et lâcher des « t’as un gros ventre » elles savent ces petasses\n",
      "Marre de voir ce vieux babouin , pilier du Siècle , même quand il fait semblant de critiquer la gauche. Ras-le-bol de ces vieilles r*mbières qui commentent la vie politique française devant la même gourdasse décolorée.\n",
      "si mané etait pas noir tu parlerais meme pas de lui sale acteur\n",
      "En plus les gens en français peuvent dire sale noir et ils disent rien par rapport au mot noir💀\n",
      "khel c’est renoi et ça veut pas dire sale macaque au cas où\n",
      "Celui avec le jean bleu indigo, il a voulu faire le bogoss de l'équipe. Il abuse, même l'ak était noir ... Il dira au procès que son jean noir était en train de sécher ou qu'il était au sale ...\n",
      "Liverpool a marqué juste après ta réponse sale chat noir\n",
      "vendredi je serais brune, samedi j’suis blonde purée mais quel grâce d’être une negresse 😍😍😍😍\n",
      "y'a zero argument je balances des phrases eco+ tu réponds comme un babouin\n",
      "Un problème sale noir ?\n",
      "La negresse mangeuse de banane, ounga ounga ounga ralala ce peuple cette couleur de peau\n",
      "Pourquoi « sale noir » c’est raciste (oui) et « sale blanc » non ?\n",
      "Pute de blanche, arabe de service, nègre de maison, les petits fours, ses propos sur la police , Merah, j'en passe et des meilleurs. Quant à sa proximité avec les frères musulmans j'en parle même pas\n",
      "espèce de grosse pvte arrête de dire l’inverse ça existe Change le mot « blanc » par noir ou arabe et tu me diras si c’est pas raciste espèce de sale pvte\n",
      "C'est comme si demain on me traitait de raciste parce que j'ai dit à un noir \"noir de service\" 😅🤦🏿‍♂️\n",
      "T passer de noir a big nègre mon reuf tkt j'dec\n",
      "La defense mdrrr des gens pensent que l’autre babouin brésilien va pas s’amuser\n"
     ]
    }
   ],
   "source": [
    "for h in haineux: print(h)"
   ]
  },
  {
   "cell_type": "markdown",
   "id": "0a510004-58a7-4989-9544-dc50f565dd61",
   "metadata": {},
   "source": [
    "#### Les messages classifiés comme non haineux\n",
    "- un messages litigieux\n",
    "- un message haineux\n",
    "- le reste réellement non haineux"
   ]
  },
  {
   "cell_type": "code",
   "execution_count": 34,
   "id": "9dc8a619-9232-4076-9f00-3cdc0cada96d",
   "metadata": {},
   "outputs": [
    {
     "name": "stdout",
     "output_type": "stream",
     "text": [
      "Macaque macaque macaque Macaque macaque macaque Macaque macaque macaque Macaque macaque macaque Macaque macaque macaque Macaque macaque macaque Macaque macaque macaque Macaque macaque macaque Macaque macaque macaque Macaque macaque macaque Macaque macaque\n",
      "Renaud: «J'ai voté Macron… en me pinçant le nez».Ouah, quel rebelle!https://t.co/QOLaL8X1Mj\n",
      "Zhahahah il t’aurait dit tu veux quoi salé noir, le très riche Samuel n’a pas notre temps\n",
      "Solution alternative,l'homme noir est entré dans l'histoire bien avant qu'il est devenu l'homme blanc si je fais référence au théorique raciale que nos enfants nègre blanc ont inventé,pendant la période de l'esclavage.\n",
      "Oh mais doux Jesus. Traitez nous de nègre, qu’on en finisse.\n",
      "Non, la désinvolture est de changé de sujet quand on l'a soit même lancé : ici l'insulte d\"arabe de service\"/\"négre de maison\" lancé par TB....\n",
      "Nous, les gros, les lunetteux, les rouquins, les boutonneux, les mal-fringués, les enfants de divorcés, les pas trop doués, on était traité avec cruauté. Moi, +mate,+ frisée, traitée de négresse non stop. On s'en est remis. On est bien équilibré. FAIS DE MÊME.\n",
      "\"Je bois pas de Banania car ça se moquait des tirailleurs sénégalais\" c'est complètement con votre réflexion\n",
      "J'ai le bois nègre a côté de chez moi\n",
      "La journée s’est bien passée, j’étais focus sur ce que j’avais à faire, pas eu le temps de broyer du noir. J’ai même pas vu la journée passer alors que je faisais journée complète (8h30-13h/14h30-19h45). Demain repos, j’appréhende un peu la redescente…\n",
      "Évoluer en fonction du climat et en fonction de la température,toute la culture de la terre est une culture de nègre,la culture de nègre a évolué en fonction des contextes géographique et des contraintes climatique du cours nos besoins ne sont plus les mêmes.\n",
      "Je voulais acheter Métèque, j'ai regardé youtub. Résultat, je n'achète pas, je vais plutôt prendre un Ricard... Journée bonne à tous ...\n",
      "Charles NègreArles, Porte des Châtaignes1852@metmuseum\n"
     ]
    }
   ],
   "source": [
    "for n in non_haineux: print(n)"
   ]
  },
  {
   "cell_type": "markdown",
   "id": "00f370e6-8aa0-40f3-9f2e-211f7dee4742",
   "metadata": {},
   "source": [
    "### Test sur le jeu de données étiqueté\n",
    "\n",
    "On rappelle que ce jeu de données est biaisé envers le haineux"
   ]
  },
  {
   "cell_type": "code",
   "execution_count": 5,
   "id": "2c2afb53-453e-450f-a36c-0be84b31097d",
   "metadata": {},
   "outputs": [],
   "source": [
    "import pandas as pd \n",
    "data_hate = pd.read_pickle(\"data_hate.pkl\")\n",
    "tweets = list(data_hate['tweet'])\n",
    "labels = list(data_hate['sentiment'])"
   ]
  },
  {
   "cell_type": "code",
   "execution_count": 6,
   "id": "fb1cbd01-ab2e-46f0-bbb5-fe0a3fddfcec",
   "metadata": {},
   "outputs": [],
   "source": [
    "from confmat import plot_confusion_matrix"
   ]
  },
  {
   "cell_type": "code",
   "execution_count": 8,
   "id": "940c48bf-26e9-4746-9e2c-52027d7ba25d",
   "metadata": {},
   "outputs": [
    {
     "name": "stdout",
     "output_type": "stream",
     "text": [
      "CPU times: user 20.3 s, sys: 292 ms, total: 20.6 s\n",
      "Wall time: 19.7 s\n"
     ]
    }
   ],
   "source": [
    "%%time\n",
    "#en cas de pb de mémoire\n",
    "predicted_classes_id = []\n",
    "step = 10\n",
    "max = len(tweets)\n",
    "for i in range(0, max, step):\n",
    "    inp = tokenizer(tweets[i:i+step], return_tensors='pt', padding=True, truncation=True)\n",
    "    inp.to(device)\n",
    "    with torch.no_grad():\n",
    "        logits = model(**inp).logits\n",
    "    predicted_classes_id += [elt.argmax().item() for elt in logits]"
   ]
  },
  {
   "cell_type": "code",
   "execution_count": 14,
   "id": "5bca9ead-d822-4940-8308-5c401cb382b5",
   "metadata": {},
   "outputs": [],
   "source": [
    "labs = ['haineux' if (elt == 1) else 'non haineux' for elt in labels]"
   ]
  },
  {
   "cell_type": "code",
   "execution_count": 21,
   "id": "1c7b3292-89d3-4d0d-9c7d-57798244a3f0",
   "metadata": {},
   "outputs": [
    {
     "data": {
      "image/png": "[encoded data removed]",
      "text/plain": [
       "<Figure size 720x576 with 2 Axes>"
      ]
     },
     "metadata": {
      "needs_background": "light"
     },
     "output_type": "display_data"
    }
   ],
   "source": [
    "plot_confusion_matrix(labels, predicted_classes_id, [0, 1])"
   ]
  },
  {
   "cell_type": "code",
   "execution_count": null,
   "id": "ec6c5358-87e9-4da3-be91-ea2d54a3c070",
   "metadata": {},
   "outputs": [],
   "source": []
  }
 ],
 "metadata": {
  "kernelspec": {
   "display_name": "Python 3 (ipykernel)",
   "language": "python",
   "name": "python3"
  },
  "language_info": {
   "codemirror_mode": {
    "name": "ipython",
    "version": 3
   },
   "file_extension": ".py",
   "mimetype": "text/x-python",
   "name": "python",
   "nbconvert_exporter": "python",
   "pygments_lexer": "ipython3",
   "version": "3.9.2"
  }
 },
 "nbformat": 4,
 "nbformat_minor": 5
}
