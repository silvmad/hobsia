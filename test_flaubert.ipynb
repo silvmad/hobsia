{
 "cells": [
  {
   "cell_type": "code",
   "execution_count": 76,
   "id": "ab1773da-eb97-45ef-887a-dee9bb644fb1",
   "metadata": {},
   "outputs": [],
   "source": [
    "import torch\n",
    "from sklearn.cluster import KMeans\n",
    "\n",
    "import numpy as np\n",
    "import matplotlib.pyplot as plt\n",
    "from clustertools import *"
   ]
  },
  {
   "cell_type": "code",
   "execution_count": 2,
   "id": "e0162892-e218-4c3e-8f22-a6ac58d4c755",
   "metadata": {},
   "outputs": [],
   "source": [
    "from transformers import FlaubertModel, FlaubertTokenizer"
   ]
  },
  {
   "cell_type": "code",
   "execution_count": 3,
   "id": "be184dcf-f4a5-4751-b91c-a40efa40d308",
   "metadata": {},
   "outputs": [],
   "source": [
    "modelname = 'flaubert/flaubert_base_cased' "
   ]
  },
  {
   "cell_type": "code",
   "execution_count": 4,
   "id": "ec0d6a70-97c3-4682-98aa-0bccf7e27e9d",
   "metadata": {},
   "outputs": [
    {
     "name": "stderr",
     "output_type": "stream",
     "text": [
      "Some weights of the model checkpoint at flaubert/flaubert_base_cased were not used when initializing FlaubertModel: ['pred_layer.proj.weight', 'pred_layer.proj.bias']\n",
      "- This IS expected if you are initializing FlaubertModel from the checkpoint of a model trained on another task or with another architecture (e.g. initializing a BertForSequenceClassification model from a BertForPreTraining model).\n",
      "- This IS NOT expected if you are initializing FlaubertModel from the checkpoint of a model that you expect to be exactly identical (initializing a BertForSequenceClassification model from a BertForSequenceClassification model).\n"
     ]
    }
   ],
   "source": [
    "flaubert, log = FlaubertModel.from_pretrained(modelname, output_loading_info=True)"
   ]
  },
  {
   "cell_type": "code",
   "execution_count": 5,
   "id": "fad07fc4-da14-4b8d-8bf5-3d6234ce09a0",
   "metadata": {},
   "outputs": [],
   "source": [
    "flaubert_tokenizer = FlaubertTokenizer.from_pretrained(modelname, do_lowercase=False)"
   ]
  },
  {
   "cell_type": "code",
   "execution_count": 6,
   "id": "86246f85-3dd1-403d-aa76-8d4624d98033",
   "metadata": {},
   "outputs": [],
   "source": [
    "flaubert.save_pretrained(\"flaubert_pretrained_model\")"
   ]
  },
  {
   "cell_type": "code",
   "execution_count": 21,
   "id": "601a8d9a-3ca4-4dc9-8878-f368bf2419cc",
   "metadata": {},
   "outputs": [],
   "source": [
    "#méthode github flaubert\n",
    "\n",
    "def encode_sentence(sentence):\n",
    "    token_ids = torch.tensor([flaubert_tokenizer.encode(sentence)])\n",
    "\n",
    "    last_layer = flaubert(token_ids)[0]\n",
    "    return last_layer[:, 0, :]\n",
    "\n",
    "def encode_dataset(dataset):\n",
    "    dataset_encoded = []\n",
    "    for tweet in dataset:\n",
    "        dataset_encoded.append(encode_sentence(tweet))\n",
    "    return dataset_encoded"
   ]
  },
  {
   "cell_type": "code",
   "execution_count": 8,
   "id": "c89882a6-6e70-4ef6-a58e-122a306c40f5",
   "metadata": {},
   "outputs": [],
   "source": [
    "#répertoire dans lequel seront stockés les clusters, doit se terminer obligatoirement par /\n",
    "#cluster_dir = \"clusters_transformer_haine_arab/\"\n",
    "#clean_dataset_file = \"clean_t_haine2022_ovesampling_arab.csv\"\n",
    "#raw_dataset_file = \"haine2022_ovesampling_arab.csv\"\n",
    "\n",
    "#répertoire dans lequel seront stockés les clusters, doit se terminer obligatoirement par /\n",
    "cluster_dir = \"clusters/1M_Std_clusters/som_400/\"\n",
    "#clean_dataset_file = \"clusters/1M_Std_clusters/som_400/som_400_cluster_349_raw_msg.txt\"\n",
    "raw_dataset_file = \"clusters/1M_Std_clusters/som_400/som_400_cluster_349_raw_msg.txt\""
   ]
  },
  {
   "cell_type": "code",
   "execution_count": 9,
   "id": "d4e5a815-7447-44f6-ba43-4653188f5513",
   "metadata": {},
   "outputs": [],
   "source": [
    "#with open(clean_dataset_file, \"r\") as file:\n",
    "#    lines = file.readlines()\n",
    "    \n",
    "#global_clean_sample = [line.split() for line in lines]\n",
    "#clean_sample = [line[:-1] for line in lines if line[-1] == '\\n']\n",
    "\n",
    "with open(raw_dataset_file, \"r\") as file:\n",
    "    raw_dataset = file.read().splitlines()\n",
    "    \n",
    "clean_dataset = [line.split() for line in raw_dataset]"
   ]
  },
  {
   "cell_type": "code",
   "execution_count": 22,
   "id": "944dfe60-9f09-4836-8168-a9b58a977256",
   "metadata": {},
   "outputs": [
    {
     "name": "stdout",
     "output_type": "stream",
     "text": [
      "CPU times: user 1min 44s, sys: 131 ms, total: 1min 44s\n",
      "Wall time: 26.2 s\n"
     ]
    }
   ],
   "source": [
    "%%time\n",
    "encoded_dataset = encode_dataset(raw_dataset)"
   ]
  },
  {
   "cell_type": "code",
   "execution_count": 17,
   "id": "bf3ffefc-aa0a-4a26-bdae-fe16ef1a0352",
   "metadata": {},
   "outputs": [],
   "source": [
    "from sklearn.decomposition import PCA"
   ]
  },
  {
   "cell_type": "code",
   "execution_count": 50,
   "id": "07b62209-715b-4b03-a473-020388d2ada9",
   "metadata": {},
   "outputs": [],
   "source": [
    "np_encoded_dataset = np.array([e[0].detach().numpy() for e in encoded_dataset])"
   ]
  },
  {
   "cell_type": "code",
   "execution_count": 51,
   "id": "42b9f23e-e2a2-413d-801f-2f9e6472e97e",
   "metadata": {},
   "outputs": [
    {
     "data": {
      "text/plain": [
       "array([[-2.1631227 ,  0.8819384 ,  0.5645729 , ..., -2.2873962 ,\n",
       "         0.4827898 ,  0.85433507],\n",
       "       [-0.05515409, -0.27758142, -0.2079796 , ..., -2.2265449 ,\n",
       "         0.5246044 ,  2.378861  ],\n",
       "       [-0.19456512,  1.0856546 , -0.08006809, ..., -0.93637925,\n",
       "        -0.40527076,  1.9488416 ],\n",
       "       ...,\n",
       "       [ 0.47187608, -0.51984996, -2.1590195 , ..., -0.62165064,\n",
       "        -0.69177866,  0.8775446 ],\n",
       "       [ 0.2733845 , -1.1197681 , -0.2154261 , ..., -1.7609248 ,\n",
       "         1.6877371 ,  0.20899786],\n",
       "       [-1.795198  ,  0.54182094, -0.40731096, ..., -1.7043077 ,\n",
       "        -0.64929324,  0.39033082]], dtype=float32)"
      ]
     },
     "execution_count": 51,
     "metadata": {},
     "output_type": "execute_result"
    }
   ],
   "source": [
    "np_encoded_dataset"
   ]
  },
  {
   "cell_type": "code",
   "execution_count": 54,
   "id": "d05b5e57-d546-481d-af1f-237a3905a497",
   "metadata": {},
   "outputs": [
    {
     "name": "stdout",
     "output_type": "stream",
     "text": [
      "CPU times: user 576 ms, sys: 1.13 s, total: 1.71 s\n",
      "Wall time: 302 ms\n"
     ]
    }
   ],
   "source": [
    "%%time\n",
    "\n",
    "pca = PCA(n_components=2)\n",
    "\n",
    "#On crée une version en deux dimensions de notre jeu de données\n",
    "two_dim_dataset = pca.fit_transform(np_encoded_dataset)"
   ]
  },
  {
   "cell_type": "code",
   "execution_count": 57,
   "id": "abeac201-951c-4b92-a64f-1dde0a497fe4",
   "metadata": {},
   "outputs": [],
   "source": [
    "#On utilise la matrice transposée de notre jeu de données pour pouvoir visualiser les données\n",
    "b = two_dim_dataset.T\n",
    "\n",
    "#Taille des figures\n",
    "plt.rcParams[\"figure.figsize\"] = (10,10)\n",
    "plt.rcParams[\"lines.markersize\"] = 3"
   ]
  },
  {
   "cell_type": "code",
   "execution_count": 60,
   "id": "5e2b0285-2ab6-4325-9ec7-c39be5a39a1a",
   "metadata": {},
   "outputs": [],
   "source": [
    "init_globals(clean_dataset, raw_dataset, two_dim_dataset, cluster_dir)"
   ]
  },
  {
   "cell_type": "code",
   "execution_count": 61,
   "id": "56f00d4b-5d70-4a99-ba38-e8278d4f9d48",
   "metadata": {},
   "outputs": [
    {
     "data": {
      "image/png": "[encoded data removed]",
      "text/plain": [
       "<Figure size 720x720 with 1 Axes>"
      ]
     },
     "metadata": {
      "needs_background": "light"
     },
     "output_type": "display_data"
    }
   ],
   "source": [
    "#Affichage des données\n",
    "plt.plot(b[0], b[1], 'r.')\n",
    "plt.show()"
   ]
  },
  {
   "cell_type": "code",
   "execution_count": 62,
   "id": "4da491b2-6ba0-47bb-b479-1a0e1a7cc7e9",
   "metadata": {},
   "outputs": [],
   "source": [
    "from sklearn_som.som import SOM"
   ]
  },
  {
   "cell_type": "code",
   "execution_count": 64,
   "id": "37905df3-48a8-4bc3-8ad8-d7623da56a8b",
   "metadata": {},
   "outputs": [],
   "source": [
    "som_normalized_dataset = np.array([vect / np.linalg.norm(vect) if np.linalg.norm(vect) != 0 else vect for vect in np_encoded_dataset])"
   ]
  },
  {
   "cell_type": "code",
   "execution_count": 70,
   "id": "866f1b85-b2ba-444b-816e-f4cfd6274940",
   "metadata": {},
   "outputs": [
    {
     "name": "stdout",
     "output_type": "stream",
     "text": [
      "CPU times: user 596 ms, sys: 0 ns, total: 596 ms\n",
      "Wall time: 595 ms\n"
     ]
    }
   ],
   "source": [
    "%%time\n",
    "\n",
    "som = SOM(m=2, n=3, dim=768)\n",
    "som.fit(som_normalized_dataset)"
   ]
  },
  {
   "cell_type": "code",
   "execution_count": 71,
   "id": "d1111376-da5e-4db5-bd87-45d8054216bc",
   "metadata": {},
   "outputs": [
    {
     "name": "stdout",
     "output_type": "stream",
     "text": [
      "CPU times: user 26.5 ms, sys: 0 ns, total: 26.5 ms\n",
      "Wall time: 24.9 ms\n"
     ]
    }
   ],
   "source": [
    "%%time\n",
    "\n",
    "som_pred = som.predict(som_normalized_dataset)"
   ]
  },
  {
   "cell_type": "code",
   "execution_count": 73,
   "id": "1acf54fb-2614-4596-8e00-cf236c615147",
   "metadata": {},
   "outputs": [
    {
     "name": "stdout",
     "output_type": "stream",
     "text": [
      "Cluster 0 : 174 messages\n",
      "37 messages contiennent un mot-clé haineux (soit 21.26%)\n",
      "Les 20 mots les plus fréquents : niquez j’ai enculé te Les tout mer me Oh si lui bz suis mais c'est TA MÈRE sale Mais comme \n",
      "\n",
      "\n",
      "Cluster 1 : 52 messages\n",
      "9 messages contiennent un mot-clé haineux (soit 17.31%)\n",
      "Les 20 mots les plus fréquents : #SPACEAFROOO moi lui insulter pour ce bz sale Oh dans Mais vraiment chaque « » niquez après va j’ai fait \n",
      "\n",
      "\n",
      "Cluster 2 : 192 messages\n",
      "48 messages contiennent un mot-clé haineux (soit 25.00%)\n",
      "Les 20 mots les plus fréquents : pour « du mon plus dit On te fait mais C’est » Ma elle va tu trop fils sur ton \n",
      "\n",
      "\n",
      "Cluster 3 : 94 messages\n",
      "22 messages contiennent un mot-clé haineux (soit 23.40%)\n",
      "Les 20 mots les plus fréquents : vie elle trop tu enculé faut c mer suis oh SA MÈRE quoi niquez j'la aussi va bon Les sur \n",
      "\n",
      "\n",
      "Cluster 4 : 105 messages\n",
      "30 messages contiennent un mot-clé haineux (soit 28.57%)\n",
      "Les 20 mots les plus fréquents : Oh fait bz trop mais tu va MÈRE C SA plus DE Ta aussi Ma c Il Les sale me \n",
      "\n",
      "\n",
      "Cluster 5 : 111 messages\n",
      "27 messages contiennent un mot-clé haineux (soit 24.32%)\n",
      "Les 20 mots les plus fréquents : Ma dans elle salope me tu mais suis sale va dit Sa tous MÈRE LA pour se ce c'est moi \n",
      "\n",
      "\n"
     ]
    },
    {
     "data": {
      "image/png": "[encoded data removed]",
      "text/plain": [
       "<Figure size 720x720 with 1 Axes>"
      ]
     },
     "metadata": {
      "needs_background": "light"
     },
     "output_type": "display_data"
    }
   ],
   "source": [
    "parse_results(som_pred, \"som_6_flaubert\", [])"
   ]
  },
  {
   "cell_type": "markdown",
   "id": "7ca51bcc-0af1-4b04-8dd3-24d3c149e4e0",
   "metadata": {},
   "source": [
    "### Kmeans"
   ]
  },
  {
   "cell_type": "code",
   "execution_count": 77,
   "id": "d19b9311-bc11-4d37-9d62-0dea9d3525e0",
   "metadata": {},
   "outputs": [],
   "source": [
    "n_clust = 4"
   ]
  },
  {
   "cell_type": "code",
   "execution_count": 79,
   "id": "4f368f04-da8d-4fc8-b409-d11d62629d58",
   "metadata": {},
   "outputs": [
    {
     "name": "stdout",
     "output_type": "stream",
     "text": [
      "CPU times: user 3.6 s, sys: 3.22 s, total: 6.82 s\n",
      "Wall time: 942 ms\n"
     ]
    }
   ],
   "source": [
    "%%time\n",
    "km_model = KMeans(n_clusters=n_clust, random_state=0)\n",
    "kmeans = km_model.fit(np_encoded_dataset)"
   ]
  },
  {
   "cell_type": "code",
   "execution_count": 80,
   "id": "5621a6e6-c48c-46ba-8b21-25160774d87e",
   "metadata": {},
   "outputs": [],
   "source": [
    "km_pred = kmeans.predict(np_encoded_dataset)"
   ]
  },
  {
   "cell_type": "code",
   "execution_count": 28,
   "id": "e187ee04-c4d0-441e-baaa-d8f9ee917117",
   "metadata": {},
   "outputs": [],
   "source": [
    "#km_centers = c = [[r[0] for r in w2v.similar_by_vector(center)] for center in km_model.cluster_centers_]"
   ]
  },
  {
   "cell_type": "code",
   "execution_count": 81,
   "id": "0f8cb65a-565c-49e3-8a60-f500fb408864",
   "metadata": {},
   "outputs": [
    {
     "name": "stdout",
     "output_type": "stream",
     "text": [
      "Cluster 0 : 174 messages\n",
      "36 messages contiennent un mot-clé haineux (soit 20.69%)\n",
      "Les 20 mots les plus fréquents : niquez te bz j’ai Les tout mer c'est si enculé lui me suis TA MÈRE sale Mais comme mdr va \n",
      "\n",
      "\n",
      "Cluster 1 : 245 messages\n",
      "59 messages contiennent un mot-clé haineux (soit 24.08%)\n",
      "Les 20 mots les plus fréquents : Oh tu fait trop sale vie MÈRE suis SA #SPACEAFROOO ce lui bz aussi mais mer va niquez pour Les \n",
      "\n",
      "\n",
      "Cluster 2 : 91 messages\n",
      "23 messages contiennent un mot-clé haineux (soit 25.27%)\n",
      "Les 20 mots les plus fréquents : On te mais mon leur Ma Les sur comment Moi trop Mais c vie y’a dans qu’il va bz quand \n",
      "\n",
      "\n",
      "Cluster 3 : 218 messages\n",
      "55 messages contiennent un mot-clé haineux (soit 25.23%)\n",
      "Les 20 mots les plus fréquents : pour dit elle plus Ma « sale tu du me va salope dans mais lui » C'est mon même c'est \n",
      "\n",
      "\n"
     ]
    },
    {
     "data": {
      "image/png": "[encoded data removed]",
      "text/plain": [
       "<Figure size 720x720 with 1 Axes>"
      ]
     },
     "metadata": {
      "needs_background": "light"
     },
     "output_type": "display_data"
    }
   ],
   "source": [
    "parse_results(km_pred, \"km_4_flaubert\", [])"
   ]
  },
  {
   "cell_type": "code",
   "execution_count": 54,
   "id": "01c42875-58ef-4384-93df-e61996285bde",
   "metadata": {},
   "outputs": [],
   "source": [
    "res = build_res_dict(km_pred)"
   ]
  },
  {
   "cell_type": "code",
   "execution_count": 35,
   "id": "c003a5eb-1184-43f0-bb56-00ff6faa7b27",
   "metadata": {},
   "outputs": [],
   "source": [
    "wlists, mlists, cmlists, e2dmlists, mfw, hkw, clust_n_msg = parse(km_pred)"
   ]
  },
  {
   "cell_type": "code",
   "execution_count": 36,
   "id": "0de2115e-a7e2-4fa5-a0ab-c6ec6f8210d9",
   "metadata": {},
   "outputs": [],
   "source": [
    "print_clusters_info(clust_n_msg, mfw, hkw, [])"
   ]
  },
  {
   "cell_type": "code",
   "execution_count": 50,
   "id": "9312cf70-15f6-4ac9-81fc-8e3c53e649df",
   "metadata": {},
   "outputs": [
    {
     "name": "stdout",
     "output_type": "stream",
     "text": [
      "['MÈRE', 'mer', 'DE', 'LA', 'salope', 'c', 'pour', 'oh', 'mais', 'du', 'Mais', 'suis', 'On', '#SPACEAFROOO', 'PUTE', 'Ah', 'lui', 'ca', 'bz', 'me']\n",
      "['mer', 'MÈRE', 'tu', 'lui', 'mais', 'C’est', 'enculé', 'Les', 'va', 'Oh', 'SA', 'bon', 'sale', 'plus', 'trop', 'du', 'elle', 'tout', \"c'est\", 'c']\n",
      "['sale', 'Ma', 'te', 'dit', 'me', 'elle', 'trop', 'pour', 'va', 'tu', '«', 'niquez', 'j’ai', 'avec', '»', 'mais', 'Ta', 'vie', 'Oh', 'Le']\n",
      "['plus', 'mon', 'niquez', 'Ta', 'Ma', 'si', 'dans', 'aussi', 'dit', 'lui', 'leur', 'ce', 'Les', 'bz', 'ton', 'père', 'Oh', 'Mais', 'fait', 'Vos']\n"
     ]
    }
   ],
   "source": [
    "for m in mfw.values(): print(m)"
   ]
  },
  {
   "cell_type": "code",
   "execution_count": 52,
   "id": "589d8157-d246-44af-a722-b0b6396f47a3",
   "metadata": {},
   "outputs": [],
   "source": [
    "save_clusters_info(clust_n_msg, mfw, hkw, \"km_4_transformer\", centers=[])"
   ]
  },
  {
   "cell_type": "code",
   "execution_count": 55,
   "id": "4cb99b8c-1e99-433c-a5c1-45d2d9407849",
   "metadata": {},
   "outputs": [],
   "source": [
    "plot_results(res)"
   ]
  },
  {
   "cell_type": "code",
   "execution_count": 82,
   "id": "d8eae3f6-ef7b-41ef-afff-e3aa32635143",
   "metadata": {},
   "outputs": [
    {
     "data": {
      "text/plain": [
       "728"
      ]
     },
     "execution_count": 82,
     "metadata": {},
     "output_type": "execute_result"
    }
   ],
   "source": [
    "len(np_encoded_dataset)"
   ]
  },
  {
   "cell_type": "code",
   "execution_count": null,
   "id": "a321d642-4ee2-47b0-b195-4fa2adf3a90b",
   "metadata": {},
   "outputs": [],
   "source": []
  }
 ],
 "metadata": {
  "kernelspec": {
   "display_name": "Python 3 (ipykernel)",
   "language": "python",
   "name": "python3"
  },
  "language_info": {
   "codemirror_mode": {
    "name": "ipython",
    "version": 3
   },
   "file_extension": ".py",
   "mimetype": "text/x-python",
   "name": "python",
   "nbconvert_exporter": "python",
   "pygments_lexer": "ipython3",
   "version": "3.9.2"
  }
 },
 "nbformat": 4,
 "nbformat_minor": 5
}
