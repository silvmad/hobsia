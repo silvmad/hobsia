{
 "cells": [
  {
   "cell_type": "code",
   "execution_count": 4,
   "id": "ab1773da-eb97-45ef-887a-dee9bb644fb1",
   "metadata": {},
   "outputs": [],
   "source": [
    "import torch\n",
    "from sklearn.cluster import KMeans\n",
    "\n",
    "import numpy as np\n",
    "import matplotlib.pyplot as plt\n",
    "from clustertools import *"
   ]
  },
  {
   "cell_type": "code",
   "execution_count": 5,
   "id": "e0162892-e218-4c3e-8f22-a6ac58d4c755",
   "metadata": {},
   "outputs": [],
   "source": [
    "from transformers import FlaubertModel, FlaubertTokenizer, FlaubertForSequenceClassification"
   ]
  },
  {
   "cell_type": "markdown",
   "id": "097893e9-03ad-4a99-85c2-cdd174b694d1",
   "metadata": {},
   "source": [
    "### Charger le modèle depuis la base de données d'huggingface\n",
    "\n",
    "On enregistre ensuite le modèle sur le disque pour ne pas avoir à le retélécharger à chaque fois"
   ]
  },
  {
   "cell_type": "code",
   "execution_count": 2,
   "id": "3d527142-abad-493f-9bc5-87460f1b4b16",
   "metadata": {},
   "outputs": [],
   "source": [
    "modelname = 'flaubert/flaubert_base_cased' "
   ]
  },
  {
   "cell_type": "code",
   "execution_count": 10,
   "id": "d33a007a-ed24-4aba-949e-d4591103cb6d",
   "metadata": {},
   "outputs": [],
   "source": [
    "flaubert, log = FlaubertModel.from_pretrained(modelname, output_loading_info=True)\n",
    "flaubert.save_pretrained(\"flaubert_pretrained_model\")\n",
    "\n",
    "flaubert_tokenizer = FlaubertTokenizer.from_pretrained(modelname, do_lowercase=False)\n",
    "flaubert_tokenizer.save_pretrained(\"models/flaubert_pretrained_tokenizer\")"
   ]
  },
  {
   "cell_type": "markdown",
   "id": "ea96eff0-6a3b-4d31-8d9a-bec1f23a8c6f",
   "metadata": {},
   "source": [
    "### Charger le modèle depuis le disque"
   ]
  },
  {
   "cell_type": "code",
   "execution_count": 9,
   "id": "ff040a49-9240-41d2-a35a-d48b876484b6",
   "metadata": {},
   "outputs": [],
   "source": [
    "modelname = 'models/flaubert_pretrained_model' \n",
    "tok_name = 'models/flaubert_pretrained_tokenizer'"
   ]
  },
  {
   "cell_type": "code",
   "execution_count": 10,
   "id": "3a2952c4-4993-4350-8ca6-e7275012c355",
   "metadata": {},
   "outputs": [],
   "source": [
    "flaubert, log = FlaubertModel.from_pretrained(modelname, output_loading_info=True)\n",
    "flaubert_tokenizer = FlaubertTokenizer.from_pretrained(tok_name, do_lowercase=False)"
   ]
  },
  {
   "cell_type": "markdown",
   "id": "57f9bcae-e5dd-483a-bb7e-55c65125a36c",
   "metadata": {},
   "source": [
    "### Fonctions pour l'encodage"
   ]
  },
  {
   "cell_type": "code",
   "execution_count": 11,
   "id": "bb2a2351-dbe8-4e42-912b-6195bc1045bb",
   "metadata": {},
   "outputs": [],
   "source": [
    "# Fonctions prises sur le github de flaubert\n",
    "# https://github.com/getalp/Flaubert\n",
    "\n",
    "def encode_sentence(sentence):\n",
    "    token_ids = torch.tensor([flaubert_tokenizer.encode(sentence)])\n",
    "\n",
    "    last_layer = flaubert(token_ids)[0]\n",
    "    return last_layer[:, 0, :]\n",
    "\n",
    "def encode_dataset(dataset):\n",
    "    dataset_encoded = []\n",
    "    for tweet in dataset:\n",
    "        dataset_encoded.append(encode_sentence(tweet))\n",
    "    return dataset_encoded"
   ]
  },
  {
   "cell_type": "markdown",
   "id": "63e0c614-2c6e-4fa9-9961-075fc0850f33",
   "metadata": {},
   "source": [
    "### Petit aperçu de ce qu'il se passe\n",
    "\n",
    "- On prend la phrase *J'aime les pâtes fraîches* pour cet exemple\n",
    "- Le tokeniseur renvoie un dictionnaire a trois entrées.\n",
    "  - L'entrée `input_ids` contient la phrase transformée en tokens (les tokens étant remplacés par leurs codes), sous forme de liste\n",
    "  - l'entrée `token_type_ids` contient un masque qui permet de séparer deux phrases dans le cas où deux phrases sont données dans la même entrée, séparées par un token spécial. Cela n'est pas utile ici. \n",
    "  - l'entrée `attention_mask` contient les masques d'attention, cela permet au modèle de ne pas calculer l'attention pour les tokens de bourrage (padding). Ce n'est pas utile ici car il n'y a qu'une phrase en entrée, il n'y a donc pas de bourrage.\n",
    "- Ce dictionnaire est donné en entrée au modèle qui renvoie un objet de type BaseModelOutput qui correspond aux phrases encodées.\n",
    "  - L'expression `outp[0]` permet de récupérer le tenseur correspondant à l'encodage de notre phrase.\n",
    "  - Ce tenseur correspond bien à un tenseur de forme (1, 7, 768) soit 1 message de 7 tokens encodés en 768 dimensions\n",
    "  - On ne souhaite garder que l'encodage correspondant au premier token qui est un token spécial appelé token de classification et qui correspond donc à un encodage de la séquence entière, on utilise donc l'expression `outp[0][:, 0, :]`"
   ]
  },
  {
   "cell_type": "code",
   "execution_count": 39,
   "id": "c7c0ab60-a2f9-44fa-b175-f76c64e4cb2c",
   "metadata": {},
   "outputs": [],
   "source": [
    "sentences = [\"J'aime les pâtes fraîches\"]"
   ]
  },
  {
   "cell_type": "code",
   "execution_count": 40,
   "id": "9254de1b-aad8-4c28-895c-458d0c3c1bd8",
   "metadata": {},
   "outputs": [],
   "source": [
    "batch = flaubert_tokenizer(sentences, padding=True, truncation=True, max_length=512, return_tensors=\"pt\")"
   ]
  },
  {
   "cell_type": "code",
   "execution_count": 41,
   "id": "79a8ee6e-623b-4f8d-ad08-7800db87c280",
   "metadata": {},
   "outputs": [
    {
     "data": {
      "text/plain": [
       "{'input_ids': tensor([[    0,   158,   735,    22, 10177, 14310,     1]]), 'token_type_ids': tensor([[0, 0, 0, 0, 0, 0, 0]]), 'attention_mask': tensor([[1, 1, 1, 1, 1, 1, 1]])}"
      ]
     },
     "execution_count": 41,
     "metadata": {},
     "output_type": "execute_result"
    }
   ],
   "source": [
    "batch"
   ]
  },
  {
   "cell_type": "code",
   "execution_count": 42,
   "id": "4c0d21ab-2ee5-4474-b863-733c6baffec9",
   "metadata": {},
   "outputs": [
    {
     "data": {
      "text/plain": [
       "BaseModelOutput(last_hidden_state=tensor([[[-1.5572, -0.0890, -1.3929,  ..., -0.2964,  0.6465,  2.1243],\n",
       "         [-1.3848,  0.3356, -1.5585,  ..., -0.6167,  0.9209,  2.1265],\n",
       "         [-1.4799,  0.3328, -2.0771,  ..., -0.5592,  0.3642,  1.7878],\n",
       "         ...,\n",
       "         [-1.2185,  0.2984, -1.2819,  ..., -1.2340,  0.7811,  1.1475],\n",
       "         [-1.2855,  0.5238, -1.4951,  ..., -1.4727,  0.6563,  1.3550],\n",
       "         [-1.1542,  0.4628, -1.3938,  ..., -1.6033,  0.6594,  1.4823]]]), hidden_states=None, attentions=None)"
      ]
     },
     "execution_count": 42,
     "metadata": {},
     "output_type": "execute_result"
    }
   ],
   "source": [
    "with torch.no_grad():\n",
    "    outp = flaubert(**batch)\n",
    "outp"
   ]
  },
  {
   "cell_type": "code",
   "execution_count": 43,
   "id": "3f44385a-1059-454e-8c5c-dd41a3f4f655",
   "metadata": {},
   "outputs": [
    {
     "data": {
      "text/plain": [
       "tensor([[[-1.5572, -0.0890, -1.3929,  ..., -0.2964,  0.6465,  2.1243],\n",
       "         [-1.3848,  0.3356, -1.5585,  ..., -0.6167,  0.9209,  2.1265],\n",
       "         [-1.4799,  0.3328, -2.0771,  ..., -0.5592,  0.3642,  1.7878],\n",
       "         ...,\n",
       "         [-1.2185,  0.2984, -1.2819,  ..., -1.2340,  0.7811,  1.1475],\n",
       "         [-1.2855,  0.5238, -1.4951,  ..., -1.4727,  0.6563,  1.3550],\n",
       "         [-1.1542,  0.4628, -1.3938,  ..., -1.6033,  0.6594,  1.4823]]])"
      ]
     },
     "execution_count": 43,
     "metadata": {},
     "output_type": "execute_result"
    }
   ],
   "source": [
    "outp[0]"
   ]
  },
  {
   "cell_type": "code",
   "execution_count": 44,
   "id": "3e95f486-eff7-4bf1-9f45-076101379157",
   "metadata": {},
   "outputs": [
    {
     "data": {
      "text/plain": [
       "torch.Size([1, 7, 768])"
      ]
     },
     "execution_count": 44,
     "metadata": {},
     "output_type": "execute_result"
    }
   ],
   "source": [
    "outp[0].shape"
   ]
  },
  {
   "cell_type": "code",
   "execution_count": 45,
   "id": "67cccc3c-6d9d-41b4-867d-28270485e9bd",
   "metadata": {},
   "outputs": [
    {
     "data": {
      "text/plain": [
       "torch.Size([1, 768])"
      ]
     },
     "execution_count": 45,
     "metadata": {},
     "output_type": "execute_result"
    }
   ],
   "source": [
    "outp[0][:, 0, :].shape"
   ]
  },
  {
   "cell_type": "markdown",
   "id": "fdefef95-a4bc-4c5a-8b2f-9277a4235fd6",
   "metadata": {},
   "source": [
    "### Utilisation du modèle sur un cluster \n",
    "#### Chargement des données\n",
    "Le cluster choisi est un cluster intéressant car comportant beaucoup de mots-clés haineux"
   ]
  },
  {
   "cell_type": "code",
   "execution_count": 46,
   "id": "82ad626d-3880-475e-9714-5cdff3cae566",
   "metadata": {},
   "outputs": [],
   "source": [
    "#répertoire dans lequel seront stockés les clusters, doit se terminer obligatoirement par /\n",
    "cluster_dir = \"clusters/1M_Std_clusters/som_400/\"\n",
    "\n",
    "raw_dataset_file = \"clusters/1M_Std_clusters/som_400/som_400_cluster_349_raw_msg.txt\""
   ]
  },
  {
   "cell_type": "code",
   "execution_count": 47,
   "id": "d4e5a815-7447-44f6-ba43-4653188f5513",
   "metadata": {},
   "outputs": [],
   "source": [
    "with open(raw_dataset_file, \"r\") as file:\n",
    "    raw_dataset = file.read().splitlines()\n",
    "    \n",
    "clean_dataset = [line.split() for line in raw_dataset]"
   ]
  },
  {
   "cell_type": "markdown",
   "id": "9913ac6e-fe22-4a65-8b47-206444779bbe",
   "metadata": {},
   "source": [
    "#### Encodage du cluster"
   ]
  },
  {
   "cell_type": "code",
   "execution_count": 48,
   "id": "1cdf5147-9c84-4ad9-84ad-3e126e26b332",
   "metadata": {},
   "outputs": [
    {
     "name": "stdout",
     "output_type": "stream",
     "text": [
      "CPU times: user 2min 3s, sys: 6.09 s, total: 2min 9s\n",
      "Wall time: 33.9 s\n"
     ]
    }
   ],
   "source": [
    "%%time\n",
    "encoded_dataset = encode_dataset(raw_dataset)"
   ]
  },
  {
   "cell_type": "markdown",
   "id": "9f48d9ef-a03d-426d-b2e8-f89fc845bdf6",
   "metadata": {},
   "source": [
    "#### Visualisation "
   ]
  },
  {
   "cell_type": "code",
   "execution_count": 49,
   "id": "76e096e0-c26f-4ead-b604-ca7af186eb72",
   "metadata": {},
   "outputs": [],
   "source": [
    "from sklearn.decomposition import PCA"
   ]
  },
  {
   "cell_type": "code",
   "execution_count": 55,
   "id": "07b62209-715b-4b03-a473-020388d2ada9",
   "metadata": {},
   "outputs": [],
   "source": [
    "# Transformation du dataset en tenseur numpy\n",
    "np_encoded_dataset = np.array([e[0].detach().numpy() for e in encoded_dataset])"
   ]
  },
  {
   "cell_type": "code",
   "execution_count": 51,
   "id": "d05b5e57-d546-481d-af1f-237a3905a497",
   "metadata": {},
   "outputs": [
    {
     "name": "stdout",
     "output_type": "stream",
     "text": [
      "CPU times: user 717 ms, sys: 1.59 s, total: 2.3 s\n",
      "Wall time: 591 ms\n"
     ]
    }
   ],
   "source": [
    "%%time\n",
    "\n",
    "pca = PCA(n_components=2)\n",
    "\n",
    "#On crée une version en deux dimensions de notre jeu de données\n",
    "two_dim_dataset = pca.fit_transform(np_encoded_dataset)"
   ]
  },
  {
   "cell_type": "code",
   "execution_count": 52,
   "id": "abeac201-951c-4b92-a64f-1dde0a497fe4",
   "metadata": {},
   "outputs": [],
   "source": [
    "#On utilise la matrice transposée de notre jeu de données pour pouvoir visualiser les données\n",
    "b = two_dim_dataset.T\n",
    "\n",
    "#Taille des figures\n",
    "plt.rcParams[\"figure.figsize\"] = (10,10)\n",
    "plt.rcParams[\"lines.markersize\"] = 3"
   ]
  },
  {
   "cell_type": "code",
   "execution_count": 53,
   "id": "5e2b0285-2ab6-4325-9ec7-c39be5a39a1a",
   "metadata": {},
   "outputs": [],
   "source": [
    "init_globals(clean_dataset, raw_dataset, two_dim_dataset, cluster_dir)"
   ]
  },
  {
   "cell_type": "code",
   "execution_count": 54,
   "id": "56f00d4b-5d70-4a99-ba38-e8278d4f9d48",
   "metadata": {},
   "outputs": [
    {
     "data": {
      "image/png": "[encoded data removed]",
      "text/plain": [
       "<Figure size 720x720 with 1 Axes>"
      ]
     },
     "metadata": {
      "needs_background": "light"
     },
     "output_type": "display_data"
    }
   ],
   "source": [
    "#Affichage des données\n",
    "plt.plot(b[0], b[1], 'r.')\n",
    "plt.show()"
   ]
  },
  {
   "cell_type": "markdown",
   "id": "3e316162-45aa-4626-8c9f-86450ede63fc",
   "metadata": {},
   "source": [
    "### Clustering avec SOM"
   ]
  },
  {
   "cell_type": "code",
   "execution_count": 56,
   "id": "c4a36fd1-05cc-4255-8302-eda029b3b579",
   "metadata": {},
   "outputs": [],
   "source": [
    "from minisom import MiniSom"
   ]
  },
  {
   "cell_type": "code",
   "execution_count": 77,
   "id": "e32e5cd2-5527-420e-885a-044d7015ad49",
   "metadata": {},
   "outputs": [
    {
     "name": "stderr",
     "output_type": "stream",
     "text": [
      "/home/victor/data/fidle/fidle-env/lib/python3.9/site-packages/minisom.py:379: ComplexWarning: Casting complex values to real discards the imaginary part\n",
      "  self._weights[i, j] = c1*pc[pc_order[0]] + c2*pc[pc_order[1]]\n"
     ]
    }
   ],
   "source": [
    "m = 4\n",
    "n = 4\n",
    "som = MiniSom(m, n, 768, neighborhood_function='gaussian', random_seed=0)\n",
    "som.pca_weights_init(np_encoded_dataset)"
   ]
  },
  {
   "cell_type": "code",
   "execution_count": 78,
   "id": "afcc4be6-e144-404e-8313-f00a6eba6286",
   "metadata": {},
   "outputs": [
    {
     "name": "stdout",
     "output_type": "stream",
     "text": [
      " [ 100000 / 100000 ] 100% - 0:00:00 left \n",
      " quantization error: 21.549240312911035\n",
      "CPU times: user 19.6 s, sys: 2.77 s, total: 22.4 s\n",
      "Wall time: 18.9 s\n"
     ]
    }
   ],
   "source": [
    "%%time\n",
    "som.train(np_encoded_dataset, 100000, verbose=True)"
   ]
  },
  {
   "cell_type": "code",
   "execution_count": 79,
   "id": "ae2cc6be-b255-4058-b8af-c9126c86e458",
   "metadata": {},
   "outputs": [
    {
     "name": "stdout",
     "output_type": "stream",
     "text": [
      "CPU times: user 54.3 ms, sys: 194 µs, total: 54.5 ms\n",
      "Wall time: 51.4 ms\n"
     ]
    }
   ],
   "source": [
    "%%time\n",
    "pred = []\n",
    "for msg in np_encoded_dataset:\n",
    "    winner = som.winner(msg)\n",
    "    pred.append(winner[0]*n+winner[1])"
   ]
  },
  {
   "cell_type": "code",
   "execution_count": 81,
   "id": "1acf54fb-2614-4596-8e00-cf236c615147",
   "metadata": {},
   "outputs": [
    {
     "name": "stdout",
     "output_type": "stream",
     "text": [
      "Cluster 0 : 23 messages\n",
      "3 messages contiennent un mot-clé haineux (soit 13.04%)\n",
      "Les 20 mots les plus fréquents : On comment mon Mais va leur s'en bat flots Eren raconte morteReiner: https://t.co/RMoA9yftjv tel tellement https://t.co/Ae2nO5yNih trahis nous Sa enfer \n",
      "\n",
      "\n",
      "Cluster 1 : 73 messages\n",
      "21 messages contiennent un mot-clé haineux (soit 28.77%)\n",
      "Les 20 mots les plus fréquents : te mais C’est Ma tu fait sur trop quand ton avec « lui #SPACEAFROOO Sale Les clash Moi j’ai baiser \n",
      "\n",
      "\n",
      "Cluster 2 : 21 messages\n",
      "5 messages contiennent un mot-clé haineux (soit 23.81%)\n",
      "Les 20 mots les plus fréquents : me 👍 se stp ...😂 Chelou Des du caca 💩 aussi 😂 Ça fait vraiment pleurer mon père Le mari \n",
      "\n",
      "\n",
      "Cluster 3 : 16 messages\n",
      "0 messages contiennent un mot-clé haineux (soit 0.00%)\n",
      "Les 20 mots les plus fréquents : Oh Future indigne Ma m’énerve oh j’suis dégoûté sbmm mais c Moi perso avec Après suis lewandowski mérit largement Espèce \n",
      "\n",
      "\n",
      "Cluster 4 : 15 messages\n",
      "3 messages contiennent un mot-clé haineux (soit 20.00%)\n",
      "Les 20 mots les plus fréquents : Oui démonte 🤣🤣 moi 👩‍❤️‍💋‍👨 facile mère… Demain Mer 🤩🤩 Oh charmante noel😘 salope l'indigne💀 C'est via porteuse 😊 Celle \n",
      "\n",
      "\n",
      "Cluster 5 : 59 messages\n",
      "9 messages contiennent un mot-clé haineux (soit 15.25%)\n",
      "Les 20 mots les plus fréquents : dit ? Ma ! pour plus elle vie ce était suis mer avec Et ils mais me Sa tu va \n",
      "\n",
      "\n",
      "Cluster 6 : 50 messages\n",
      "15 messages contiennent un mot-clé haineux (soit 30.00%)\n",
      "Les 20 mots les plus fréquents : trop pour me sale SA va ton non j'ai c'était dans sauf faire C'est tu avec m’a hurle MÈRE t'es \n",
      "\n",
      "\n",
      "Cluster 7 : 72 messages\n",
      "14 messages contiennent un mot-clé haineux (soit 19.44%)\n",
      "Les 20 mots les plus fréquents : te si enculé bz Le mais elle dans Mais mer niquez baisez MÈRE non Sale t'as trop Jferais tt pour \n",
      "\n",
      "\n",
      "Cluster 8 : 10 messages\n",
      "3 messages contiennent un mot-clé haineux (soit 30.00%)\n",
      "Les 20 mots les plus fréquents : Ta suis c'est enculer va baiser « » bah maintenant si 😂😂😂😂 https://t.co/g8eVEUhRLf Ma Quelle sale merde! Frapper comme tes \n",
      "\n",
      "\n",
      "Cluster 9 : 68 messages\n",
      "20 messages contiennent un mot-clé haineux (soit 29.41%)\n",
      "Les 20 mots les plus fréquents : du « même sale LA tu fils elle mon plus quand MÈRE » dans dit pour va Ma mais tous \n",
      "\n",
      "\n",
      "Cluster 10 : 37 messages\n",
      "13 messages contiennent un mot-clé haineux (soit 35.14%)\n",
      "Les 20 mots les plus fréquents : #SPACEAFROOO lui Mais si ce me À suis faut êtes On c'est mdr sale Bassem Eh vas-y https://t.co/WyLhneN9tj Enculé https://t.co/HllVjppNRT \n",
      "\n",
      "\n",
      "Cluster 11 : 51 messages\n",
      "7 messages contiennent un mot-clé haineux (soit 13.73%)\n",
      "Les 20 mots les plus fréquents : suis comme deux bz niquez j’ai fois bah tout encore me père mais enculer peu Les ON TA FDP chez \n",
      "\n",
      "\n",
      "Cluster 12 : 34 messages\n",
      "10 messages contiennent un mot-clé haineux (soit 29.41%)\n",
      "Les 20 mots les plus fréquents : DE MÈRE salope TA PUTE tu t fait aussi LA PUTA comment vie dma c PUTAIN SA NIQUE MERE FILS \n",
      "\n",
      "\n",
      "Cluster 13 : 50 messages\n",
      "11 messages contiennent un mot-clé haineux (soit 22.00%)\n",
      "Les 20 mots les plus fréquents : fait plus bz pour mer dans insulter Les j'la ce trop lol mais Ta du sale Sa personne elle ? \n",
      "\n",
      "\n",
      "Cluster 14 : 92 messages\n",
      "23 messages contiennent un mot-clé haineux (soit 25.00%)\n",
      "Les 20 mots les plus fréquents : Oh tu enculé niquez elle trop sur vie MÈRE aussi va mdr bon Les faut j’ai qu’il Tu mer oh \n",
      "\n",
      "\n",
      "Cluster 15 : 57 messages\n",
      "13 messages contiennent un mot-clé haineux (soit 22.81%)\n",
      "Les 20 mots les plus fréquents : c'est sale mdr De va mer tu frr espèce oui bien C’est cette pue là Les me enculé pire ptn \n",
      "\n",
      "\n"
     ]
    },
    {
     "data": {
      "image/png": "[encoded data removed]",
      "text/plain": [
       "<Figure size 720x720 with 2 Axes>"
      ]
     },
     "metadata": {
      "needs_background": "light"
     },
     "output_type": "display_data"
    }
   ],
   "source": [
    "parse_results(pred, \"minisom_16_flaubert\", [])"
   ]
  },
  {
   "cell_type": "markdown",
   "id": "7ca51bcc-0af1-4b04-8dd3-24d3c149e4e0",
   "metadata": {},
   "source": [
    "### Kmeans"
   ]
  },
  {
   "cell_type": "code",
   "execution_count": 65,
   "id": "d19b9311-bc11-4d37-9d62-0dea9d3525e0",
   "metadata": {},
   "outputs": [],
   "source": [
    "n_clust = 4"
   ]
  },
  {
   "cell_type": "code",
   "execution_count": 66,
   "id": "4f368f04-da8d-4fc8-b409-d11d62629d58",
   "metadata": {},
   "outputs": [
    {
     "name": "stdout",
     "output_type": "stream",
     "text": [
      "CPU times: user 3.66 s, sys: 3.15 s, total: 6.81 s\n",
      "Wall time: 1 s\n"
     ]
    }
   ],
   "source": [
    "%%time\n",
    "km_model = KMeans(n_clusters=n_clust, random_state=0)\n",
    "kmeans = km_model.fit(np_encoded_dataset)"
   ]
  },
  {
   "cell_type": "code",
   "execution_count": 67,
   "id": "5621a6e6-c48c-46ba-8b21-25160774d87e",
   "metadata": {},
   "outputs": [],
   "source": [
    "km_pred = kmeans.predict(np_encoded_dataset)"
   ]
  },
  {
   "cell_type": "code",
   "execution_count": 68,
   "id": "0f8cb65a-565c-49e3-8a60-f500fb408864",
   "metadata": {},
   "outputs": [
    {
     "name": "stdout",
     "output_type": "stream",
     "text": [
      "Cluster 0 : 174 messages\n",
      "35 messages contiennent un mot-clé haineux (soit 20.11%)\n",
      "Les 20 mots les plus fréquents : niquez te bz j’ai Les tout mer c'est si enculé lui me suis TA MÈRE sale Mais comme mdr va \n",
      "\n",
      "\n",
      "Cluster 1 : 245 messages\n",
      "58 messages contiennent un mot-clé haineux (soit 23.67%)\n",
      "Les 20 mots les plus fréquents : Oh tu fait trop sale vie MÈRE suis SA #SPACEAFROOO ce lui bz aussi mais mer va niquez pour Les \n",
      "\n",
      "\n",
      "Cluster 2 : 91 messages\n",
      "23 messages contiennent un mot-clé haineux (soit 25.27%)\n",
      "Les 20 mots les plus fréquents : On te mais mon leur Ma Les sur comment Moi trop Mais c vie y’a dans qu’il va bz quand \n",
      "\n",
      "\n",
      "Cluster 3 : 218 messages\n",
      "54 messages contiennent un mot-clé haineux (soit 24.77%)\n",
      "Les 20 mots les plus fréquents : pour dit elle plus Ma « sale tu du me va salope dans mais lui » C'est mon même c'est \n",
      "\n",
      "\n"
     ]
    },
    {
     "data": {
      "image/png": "[encoded data removed]",
      "text/plain": [
       "<Figure size 720x720 with 2 Axes>"
      ]
     },
     "metadata": {
      "needs_background": "light"
     },
     "output_type": "display_data"
    }
   ],
   "source": [
    "parse_results(km_pred, \"km_4_flaubert\", [])"
   ]
  },
  {
   "cell_type": "code",
   "execution_count": null,
   "id": "a321d642-4ee2-47b0-b195-4fa2adf3a90b",
   "metadata": {},
   "outputs": [],
   "source": []
  }
 ],
 "metadata": {
  "kernelspec": {
   "display_name": "Python 3 (ipykernel)",
   "language": "python",
   "name": "python3"
  },
  "language_info": {
   "codemirror_mode": {
    "name": "ipython",
    "version": 3
   },
   "file_extension": ".py",
   "mimetype": "text/x-python",
   "name": "python",
   "nbconvert_exporter": "python",
   "pygments_lexer": "ipython3",
   "version": "3.9.2"
  }
 },
 "nbformat": 4,
 "nbformat_minor": 5
}
