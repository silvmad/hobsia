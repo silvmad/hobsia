{
 "cells": [
  {
   "cell_type": "code",
   "execution_count": 1,
   "id": "14c0f06b-c3c3-4fb7-870b-0c5879680e48",
   "metadata": {},
   "outputs": [],
   "source": [
    "import torch\n",
    "from transformers import CamembertTokenizer, CamembertModel, CamembertForSequenceClassification, Trainer, TrainingArguments\n",
    "import pandas as pd\n",
    "from sklearn.model_selection import train_test_split\n",
    "from confmat import plot_confusion_matrix"
   ]
  },
  {
   "cell_type": "markdown",
   "id": "b5090de2-5a27-46d0-867a-7fe4285af4e9",
   "metadata": {
    "tags": []
   },
   "source": [
    "### Charger un modèle Camembert pré-entrainé \n",
    "\n",
    "On utilise la classe CamembertForSequenceClassification afin de l'utiliser pour de la classification\n",
    "\n",
    "On charge également le tokenizer"
   ]
  },
  {
   "cell_type": "code",
   "execution_count": 2,
   "id": "299e1592-aaa9-4907-b6dd-fe016d47cb12",
   "metadata": {},
   "outputs": [],
   "source": [
    "model_dir = \"models/tweetbert\""
   ]
  },
  {
   "cell_type": "code",
   "execution_count": 3,
   "id": "d89f36b9-6188-45dd-8ed2-5d5affdebf92",
   "metadata": {},
   "outputs": [
    {
     "name": "stderr",
     "output_type": "stream",
     "text": [
      "Some weights of the model checkpoint at models/tweetbert were not used when initializing CamembertForSequenceClassification: ['lm_head.bias', 'lm_head.dense.weight', 'lm_head.layer_norm.weight', 'lm_head.layer_norm.bias', 'lm_head.dense.bias']\n",
      "- This IS expected if you are initializing CamembertForSequenceClassification from the checkpoint of a model trained on another task or with another architecture (e.g. initializing a BertForSequenceClassification model from a BertForPreTraining model).\n",
      "- This IS NOT expected if you are initializing CamembertForSequenceClassification from the checkpoint of a model that you expect to be exactly identical (initializing a BertForSequenceClassification model from a BertForSequenceClassification model).\n",
      "Some weights of CamembertForSequenceClassification were not initialized from the model checkpoint at models/tweetbert and are newly initialized: ['classifier.dense.bias', 'classifier.out_proj.weight', 'classifier.dense.weight', 'classifier.out_proj.bias']\n",
      "You should probably TRAIN this model on a down-stream task to be able to use it for predictions and inference.\n"
     ]
    }
   ],
   "source": [
    "tokenizer = CamembertTokenizer.from_pretrained(model_dir, do_lowercase=False)\n",
    "classifier = CamembertForSequenceClassification.from_pretrained(model_dir)"
   ]
  },
  {
   "cell_type": "markdown",
   "id": "acb128c4-0f7b-49ac-923f-3eef4e101ecc",
   "metadata": {
    "tags": []
   },
   "source": [
    "### Charger les données"
   ]
  },
  {
   "cell_type": "code",
   "execution_count": 4,
   "id": "08d182ac-7046-496a-8f80-725fbe48745e",
   "metadata": {},
   "outputs": [],
   "source": [
    "data_hate = pd.read_pickle(\"data_hate.pkl\")"
   ]
  },
  {
   "cell_type": "code",
   "execution_count": 5,
   "id": "2978a5e4-1cb1-4bb7-a84f-1f93063e0879",
   "metadata": {},
   "outputs": [],
   "source": [
    "tweets = list(data_hate['tweet'])\n",
    "labels = list(data_hate['sentiment'])"
   ]
  },
  {
   "cell_type": "markdown",
   "id": "59399d69-ba69-41e1-9591-63162e3c63b9",
   "metadata": {},
   "source": [
    "### Équilibrer le dataset à la hache"
   ]
  },
  {
   "cell_type": "code",
   "execution_count": 6,
   "id": "2ef1e159-5883-4fbd-ba22-d9b3f8c57f57",
   "metadata": {},
   "outputs": [],
   "source": [
    "nlist = []\n",
    "hlist = []\n",
    "for m, lab in zip(tweets, labels):\n",
    "    if (lab == 1):\n",
    "        hlist.append((m, 1))\n",
    "    else:\n",
    "        nlist.append((m, 0))"
   ]
  },
  {
   "cell_type": "code",
   "execution_count": 7,
   "id": "70667f01-7af7-4a88-ab71-67111e2bd59f",
   "metadata": {},
   "outputs": [],
   "source": [
    "import random"
   ]
  },
  {
   "cell_type": "code",
   "execution_count": 8,
   "id": "6580b537-dcee-4f21-9dbe-e64f174b06db",
   "metadata": {},
   "outputs": [],
   "source": [
    "hsample = random.Random(0).sample(hlist, len(nlist))"
   ]
  },
  {
   "cell_type": "code",
   "execution_count": 9,
   "id": "48d8f034-3863-40ee-bc76-72abbb4f9491",
   "metadata": {},
   "outputs": [],
   "source": [
    "balanced_dataset = hsample + nlist\n",
    "random.Random(0).shuffle(balanced_dataset)"
   ]
  },
  {
   "cell_type": "code",
   "execution_count": 10,
   "id": "9318c343-7873-46f1-8e9d-5514c76fe923",
   "metadata": {},
   "outputs": [],
   "source": [
    "btweets = []\n",
    "blabels = []\n",
    "for m, lab in balanced_dataset:\n",
    "    btweets.append(m)\n",
    "    blabels.append(lab)"
   ]
  },
  {
   "cell_type": "markdown",
   "id": "435e5c8b-6ddb-4e15-bf4e-a0185cef7a0c",
   "metadata": {
    "tags": []
   },
   "source": [
    "### Séparation jeu d'entraînement / jeu de test"
   ]
  },
  {
   "cell_type": "code",
   "execution_count": 11,
   "id": "a89ddcfe-0a16-4e14-9378-f9c11955c378",
   "metadata": {},
   "outputs": [],
   "source": [
    "train_tweets, test_tweets, train_labels, test_labels = train_test_split(btweets, blabels, test_size=0.2, random_state=0)"
   ]
  },
  {
   "cell_type": "markdown",
   "id": "c6bbe93f-addf-409f-88cf-e2bcb96df2cf",
   "metadata": {
    "tags": []
   },
   "source": [
    "### Préparation des jeux de données \n",
    "\n",
    "- Tokenisation.\n",
    "- Création d'une classe héritant de Dataset pour recueillir le jeu de données. Cette classe doit implémenter deux méthodes :\n",
    "  - Une méthode prenant un indice en argument et renvoyant l'entrée correspondante sous forme d'un dictionnaire.\n",
    "  - une méthode renvoyant la taille du jeu de données\n",
    "- Deux instanciation de cette classe pour le jeu d'entraînement et de test."
   ]
  },
  {
   "cell_type": "code",
   "execution_count": 12,
   "id": "6424947b-f3ef-480b-829c-ec812ad45f03",
   "metadata": {},
   "outputs": [],
   "source": [
    "train_encodings = tokenizer(train_tweets, padding=True, truncation=True, max_length=512, return_tensors=\"pt\")\n",
    "test_encodings = tokenizer(test_tweets, padding=True, truncation=True, max_length=512, return_tensors=\"pt\")"
   ]
  },
  {
   "cell_type": "code",
   "execution_count": 13,
   "id": "61c7dca7-e3d5-41d8-9a21-0367cdc63527",
   "metadata": {},
   "outputs": [],
   "source": [
    "class FrTwitterHateDataset(torch.utils.data.Dataset):\n",
    "    def __init__(self, encodings, labels):\n",
    "        self.encodings = encodings\n",
    "        self.labels = labels\n",
    "\n",
    "    def __getitem__(self, idx):\n",
    "        item = {key: torch.tensor(val[idx]) for key, val in self.encodings.items()}\n",
    "        item['labels'] = torch.tensor(self.labels[idx])\n",
    "        return item\n",
    "\n",
    "    def __len__(self):\n",
    "        return len(self.labels)"
   ]
  },
  {
   "cell_type": "code",
   "execution_count": 14,
   "id": "c7684174-f7b6-4f92-a443-ef699250ce26",
   "metadata": {},
   "outputs": [],
   "source": [
    "train_dataset = FrTwitterHateDataset(train_encodings, train_labels)\n",
    "test_dataset = FrTwitterHateDataset(test_encodings, test_labels)"
   ]
  },
  {
   "cell_type": "markdown",
   "id": "a180ddd8-ba4b-4bfa-ac49-92dc22cdf6ef",
   "metadata": {},
   "source": [
    "### Réglage fin\n",
    "On utilise les classes TrainingArguments et Trainer qui simplifient le processus"
   ]
  },
  {
   "cell_type": "code",
   "execution_count": 15,
   "id": "697393ce-48c1-4f77-a647-3b776cfa3576",
   "metadata": {},
   "outputs": [],
   "source": [
    "training_args = TrainingArguments(\n",
    "    output_dir='./models/tweetbert_fine_tuned_rand_balanced_dataset',          # output directory\n",
    "    num_train_epochs=3,              # total number of training epochs\n",
    "    per_device_train_batch_size=16,  # batch size per device during training\n",
    "    per_device_eval_batch_size=64,   # batch size for evaluation\n",
    "    warmup_steps=500,                # number of warmup steps for learning rate scheduler\n",
    "    weight_decay=0.01,               # strength of weight decay\n",
    "    logging_dir='./logs',            # directory for storing logs\n",
    "    logging_steps=10,\n",
    ")\n",
    "\n",
    "trainer = Trainer(\n",
    "    model=classifier,                         # the instantiated 🤗 Transformers model to be trained\n",
    "    args=training_args,                  # training arguments, defined above\n",
    "    train_dataset=train_dataset,         # training dataset\n",
    "    #eval_dataset=val_dataset             # evaluation dataset\n",
    ")"
   ]
  },
  {
   "cell_type": "code",
   "execution_count": 16,
   "id": "1e7d647c-0c11-49bc-97c1-89b257363d41",
   "metadata": {},
   "outputs": [
    {
     "name": "stderr",
     "output_type": "stream",
     "text": [
      "/home/victor/data/fidle/fidle-env/lib/python3.9/site-packages/transformers/optimization.py:306: FutureWarning: This implementation of AdamW is deprecated and will be removed in a future version. Use the PyTorch implementation torch.optim.AdamW instead, or set `no_deprecation_warning=True` to disable this warning\n",
      "  warnings.warn(\n",
      "***** Running training *****\n",
      "  Num examples = 1313\n",
      "  Num Epochs = 3\n",
      "  Instantaneous batch size per device = 16\n",
      "  Total train batch size (w. parallel, distributed & accumulation) = 16\n",
      "  Gradient Accumulation steps = 1\n",
      "  Total optimization steps = 249\n",
      "/tmp/ipykernel_6757/823565030.py:7: UserWarning: To copy construct from a tensor, it is recommended to use sourceTensor.clone().detach() or sourceTensor.clone().detach().requires_grad_(True), rather than torch.tensor(sourceTensor).\n",
      "  item = {key: torch.tensor(val[idx]) for key, val in self.encodings.items()}\n"
     ]
    },
    {
     "data": {
      "text/html": [
       "\n",
       "    <div>\n",
       "      \n",
       "      <progress value='249' max='249' style='width:300px; height:20px; vertical-align: middle;'></progress>\n",
       "      [249/249 01:36, Epoch 3/3]\n",
       "    </div>\n",
       "    <table border=\"1\" class=\"dataframe\">\n",
       "  <thead>\n",
       " <tr style=\"text-align: left;\">\n",
       "      <th>Step</th>\n",
       "      <th>Training Loss</th>\n",
       "    </tr>\n",
       "  </thead>\n",
       "  <tbody>\n",
       "    <tr>\n",
       "      <td>10</td>\n",
       "      <td>0.692700</td>\n",
       "    </tr>\n",
       "    <tr>\n",
       "      <td>20</td>\n",
       "      <td>0.687000</td>\n",
       "    </tr>\n",
       "    <tr>\n",
       "      <td>30</td>\n",
       "      <td>0.697100</td>\n",
       "    </tr>\n",
       "    <tr>\n",
       "      <td>40</td>\n",
       "      <td>0.692200</td>\n",
       "    </tr>\n",
       "    <tr>\n",
       "      <td>50</td>\n",
       "      <td>0.691000</td>\n",
       "    </tr>\n",
       "    <tr>\n",
       "      <td>60</td>\n",
       "      <td>0.700200</td>\n",
       "    </tr>\n",
       "    <tr>\n",
       "      <td>70</td>\n",
       "      <td>0.684300</td>\n",
       "    </tr>\n",
       "    <tr>\n",
       "      <td>80</td>\n",
       "      <td>0.688100</td>\n",
       "    </tr>\n",
       "    <tr>\n",
       "      <td>90</td>\n",
       "      <td>0.685800</td>\n",
       "    </tr>\n",
       "    <tr>\n",
       "      <td>100</td>\n",
       "      <td>0.678100</td>\n",
       "    </tr>\n",
       "    <tr>\n",
       "      <td>110</td>\n",
       "      <td>0.668600</td>\n",
       "    </tr>\n",
       "    <tr>\n",
       "      <td>120</td>\n",
       "      <td>0.659300</td>\n",
       "    </tr>\n",
       "    <tr>\n",
       "      <td>130</td>\n",
       "      <td>0.657200</td>\n",
       "    </tr>\n",
       "    <tr>\n",
       "      <td>140</td>\n",
       "      <td>0.614300</td>\n",
       "    </tr>\n",
       "    <tr>\n",
       "      <td>150</td>\n",
       "      <td>0.639600</td>\n",
       "    </tr>\n",
       "    <tr>\n",
       "      <td>160</td>\n",
       "      <td>0.578000</td>\n",
       "    </tr>\n",
       "    <tr>\n",
       "      <td>170</td>\n",
       "      <td>0.562000</td>\n",
       "    </tr>\n",
       "    <tr>\n",
       "      <td>180</td>\n",
       "      <td>0.555300</td>\n",
       "    </tr>\n",
       "    <tr>\n",
       "      <td>190</td>\n",
       "      <td>0.540500</td>\n",
       "    </tr>\n",
       "    <tr>\n",
       "      <td>200</td>\n",
       "      <td>0.589800</td>\n",
       "    </tr>\n",
       "    <tr>\n",
       "      <td>210</td>\n",
       "      <td>0.626800</td>\n",
       "    </tr>\n",
       "    <tr>\n",
       "      <td>220</td>\n",
       "      <td>0.528500</td>\n",
       "    </tr>\n",
       "    <tr>\n",
       "      <td>230</td>\n",
       "      <td>0.539400</td>\n",
       "    </tr>\n",
       "    <tr>\n",
       "      <td>240</td>\n",
       "      <td>0.509600</td>\n",
       "    </tr>\n",
       "  </tbody>\n",
       "</table><p>"
      ],
      "text/plain": [
       "<IPython.core.display.HTML object>"
      ]
     },
     "metadata": {},
     "output_type": "display_data"
    },
    {
     "name": "stderr",
     "output_type": "stream",
     "text": [
      "\n",
      "\n",
      "Training completed. Do not forget to share your model on huggingface.co/models =)\n",
      "\n",
      "\n"
     ]
    },
    {
     "name": "stdout",
     "output_type": "stream",
     "text": [
      "CPU times: user 1min 28s, sys: 7.57 s, total: 1min 36s\n",
      "Wall time: 1min 36s\n"
     ]
    },
    {
     "data": {
      "text/plain": [
       "TrainOutput(global_step=249, training_loss=0.6282861146582178, metrics={'train_runtime': 96.4295, 'train_samples_per_second': 40.848, 'train_steps_per_second': 2.582, 'total_flos': 97161979412160.0, 'train_loss': 0.6282861146582178, 'epoch': 3.0})"
      ]
     },
     "execution_count": 16,
     "metadata": {},
     "output_type": "execute_result"
    }
   ],
   "source": [
    "%%time\n",
    "trainer.train()"
   ]
  },
  {
   "cell_type": "markdown",
   "id": "2ecf5615-783d-4fb2-9367-62d4994f1f63",
   "metadata": {
    "tags": []
   },
   "source": [
    "### Prédiction sur le jeu de test"
   ]
  },
  {
   "cell_type": "code",
   "execution_count": 17,
   "id": "f8880f72-9fc6-4278-8577-bd6ea107ddc8",
   "metadata": {},
   "outputs": [
    {
     "name": "stdout",
     "output_type": "stream",
     "text": [
      "CPU times: user 1.79 s, sys: 11.8 ms, total: 1.8 s\n",
      "Wall time: 1.81 s\n"
     ]
    }
   ],
   "source": [
    "%%time\n",
    "test_pred = []\n",
    "for n in range(0, len(test_tweets), 10):\n",
    "    phrases = test_tweets[n:n+10]\n",
    "    enc = tokenizer(phrases, padding=True, truncation=True, max_length=512, return_tensors='pt')\n",
    "    enc.to('cuda:0')\n",
    "    with torch.no_grad():\n",
    "        outp = classifier(**enc)\n",
    "    pred = torch.nn.functional.softmax(outp.logits, dim=1)\n",
    "    labels = torch.argmax(pred, dim=1)\n",
    "    test_pred.append(labels)"
   ]
  },
  {
   "cell_type": "code",
   "execution_count": 18,
   "id": "fbedea6d-d2fb-45bf-afdb-5c1dbe116a1c",
   "metadata": {},
   "outputs": [],
   "source": [
    "cat_pred = torch.cat(test_pred)"
   ]
  },
  {
   "cell_type": "code",
   "execution_count": 19,
   "id": "781626c8-6e95-40a1-a780-135d73dc4e92",
   "metadata": {},
   "outputs": [
    {
     "data": {
      "image/png": "[encoded data removed]",
      "text/plain": [
       "<Figure size 720x576 with 2 Axes>"
      ]
     },
     "metadata": {
      "needs_background": "light"
     },
     "output_type": "display_data"
    }
   ],
   "source": [
    "plot_confusion_matrix(test_labels, cat_pred.cpu(), ['Non haineux', 'Haineux'])"
   ]
  },
  {
   "cell_type": "code",
   "execution_count": null,
   "id": "74789e4f-5be2-45df-8a64-e80ca05262e4",
   "metadata": {},
   "outputs": [],
   "source": []
  }
 ],
 "metadata": {
  "kernelspec": {
   "display_name": "Python 3 (ipykernel)",
   "language": "python",
   "name": "python3"
  },
  "language_info": {
   "codemirror_mode": {
    "name": "ipython",
    "version": 3
   },
   "file_extension": ".py",
   "mimetype": "text/x-python",
   "name": "python",
   "nbconvert_exporter": "python",
   "pygments_lexer": "ipython3",
   "version": "3.9.2"
  }
 },
 "nbformat": 4,
 "nbformat_minor": 5
}
