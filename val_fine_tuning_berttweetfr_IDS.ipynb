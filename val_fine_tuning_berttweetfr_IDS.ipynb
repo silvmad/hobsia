{
 "cells": [
  {
   "cell_type": "code",
   "execution_count": 1,
   "id": "43adc314-608a-4542-9bcb-ac9d2db0c36b",
   "metadata": {},
   "outputs": [],
   "source": [
    "import torch\n",
    "from transformers import CamembertTokenizer, CamembertModel, CamembertForSequenceClassification, Trainer, TrainingArguments\n",
    "import pandas as pd\n",
    "from sklearn.model_selection import train_test_split\n",
    "from sklearn.metrics import confusion_matrix\n",
    "import matplotlib.pyplot as plt\n",
    "import itertools\n",
    "import numpy as np\n",
    "from confmat import plot_confusion_matrix"
   ]
  },
  {
   "cell_type": "markdown",
   "id": "d755c8e5-0aa5-481d-94f5-d6332363969e",
   "metadata": {
    "tags": []
   },
   "source": [
    "### Charger un modèle Camembert pré-entrainé \n",
    "\n",
    "On utilise la classe CamembertForSequenceClassification afin de l'utiliser pour de la classification\n",
    "\n",
    "On charge également le tokenizer"
   ]
  },
  {
   "cell_type": "code",
   "execution_count": 2,
   "id": "299e1592-aaa9-4907-b6dd-fe016d47cb12",
   "metadata": {},
   "outputs": [],
   "source": [
    "model_dir = \"models/tweetbert\""
   ]
  },
  {
   "cell_type": "code",
   "execution_count": 3,
   "id": "d89f36b9-6188-45dd-8ed2-5d5affdebf92",
   "metadata": {},
   "outputs": [
    {
     "name": "stderr",
     "output_type": "stream",
     "text": [
      "Some weights of the model checkpoint at models/tweetbert were not used when initializing CamembertForSequenceClassification: ['lm_head.dense.weight', 'lm_head.dense.bias', 'lm_head.layer_norm.bias', 'lm_head.bias', 'lm_head.layer_norm.weight']\n",
      "- This IS expected if you are initializing CamembertForSequenceClassification from the checkpoint of a model trained on another task or with another architecture (e.g. initializing a BertForSequenceClassification model from a BertForPreTraining model).\n",
      "- This IS NOT expected if you are initializing CamembertForSequenceClassification from the checkpoint of a model that you expect to be exactly identical (initializing a BertForSequenceClassification model from a BertForSequenceClassification model).\n",
      "Some weights of CamembertForSequenceClassification were not initialized from the model checkpoint at models/tweetbert and are newly initialized: ['classifier.out_proj.bias', 'classifier.dense.bias', 'classifier.out_proj.weight', 'classifier.dense.weight']\n",
      "You should probably TRAIN this model on a down-stream task to be able to use it for predictions and inference.\n"
     ]
    }
   ],
   "source": [
    "tokenizer = CamembertTokenizer.from_pretrained(model_dir, do_lowercase=False)\n",
    "classifier = CamembertForSequenceClassification.from_pretrained(model_dir)"
   ]
  },
  {
   "cell_type": "markdown",
   "id": "9d0a9f5c-82ec-4e21-b802-6bef1b18cd1e",
   "metadata": {
    "tags": []
   },
   "source": [
    "### Charger les données"
   ]
  },
  {
   "cell_type": "code",
   "execution_count": 4,
   "id": "cfca4b7f-6d05-424e-aec9-b912a1d6a101",
   "metadata": {},
   "outputs": [],
   "source": [
    "data_hate = pd.read_pickle(\"data_hate.pkl\")"
   ]
  },
  {
   "cell_type": "code",
   "execution_count": 5,
   "id": "2978a5e4-1cb1-4bb7-a84f-1f93063e0879",
   "metadata": {},
   "outputs": [],
   "source": [
    "tweets = list(data_hate['tweet'])\n",
    "labels = list(data_hate['sentiment'])"
   ]
  },
  {
   "cell_type": "markdown",
   "id": "57fdec95-decf-4f9f-8830-3b18af5e7c6e",
   "metadata": {
    "tags": []
   },
   "source": [
    "### Séparation jeu d'entraînement / jeu de test"
   ]
  },
  {
   "cell_type": "code",
   "execution_count": 6,
   "id": "4d0db7f2-2eb0-4a59-8dab-ec5f73bd3ed4",
   "metadata": {},
   "outputs": [],
   "source": [
    "train_tweets, test_tweets, train_labels, test_labels = train_test_split(tweets, labels, test_size=0.2, random_state=0)"
   ]
  },
  {
   "cell_type": "markdown",
   "id": "a9f37ef0-69cf-4f32-8c19-2c4fbffdb0c0",
   "metadata": {
    "tags": []
   },
   "source": [
    "### Préparation des jeux de données \n",
    "\n",
    "- Tokenisation.\n",
    "- Création d'une classe héritant de Dataset pour recueillir le jeu de données. Cette classe doit implémenter deux méthodes :\n",
    "  - Une méthode prenant un indice en argument et renvoyant l'entrée correspondante sous forme d'un dictionnaire.\n",
    "  - une méthode renvoyant la taille du jeu de données\n",
    "- Deux instanciation de cette classe pour le jeu d'entraînement et de test."
   ]
  },
  {
   "cell_type": "code",
   "execution_count": 12,
   "id": "6424947b-f3ef-480b-829c-ec812ad45f03",
   "metadata": {},
   "outputs": [],
   "source": [
    "train_encodings = tokenizer(train_tweets, padding=True, truncation=True, max_length=512, return_tensors=\"pt\")\n",
    "test_encodings = tokenizer(test_tweets, padding=True, truncation=True, max_length=512, return_tensors=\"pt\")"
   ]
  },
  {
   "cell_type": "code",
   "execution_count": 13,
   "id": "61c7dca7-e3d5-41d8-9a21-0367cdc63527",
   "metadata": {},
   "outputs": [],
   "source": [
    "class FrTwitterHateDataset(torch.utils.data.Dataset):\n",
    "    def __init__(self, encodings, labels):\n",
    "        self.encodings = encodings\n",
    "        self.labels = labels\n",
    "\n",
    "    def __getitem__(self, idx):\n",
    "        item = {key: torch.tensor(val[idx]) for key, val in self.encodings.items()}\n",
    "        item['labels'] = torch.tensor(self.labels[idx])\n",
    "        return item\n",
    "    \n",
    "    def get_labels(self):\n",
    "        return self.labels\n",
    "\n",
    "    def __len__(self):\n",
    "        return len(self.labels)"
   ]
  },
  {
   "cell_type": "code",
   "execution_count": 14,
   "id": "c7684174-f7b6-4f92-a443-ef699250ce26",
   "metadata": {},
   "outputs": [],
   "source": [
    "train_dataset = FrTwitterHateDataset(train_encodings, train_labels)\n",
    "test_dataset = FrTwitterHateDataset(test_encodings, test_labels)"
   ]
  },
  {
   "cell_type": "markdown",
   "id": "253b5ccb-62f0-4abb-bf59-a0e522f5b618",
   "metadata": {
    "tags": []
   },
   "source": [
    "### Dataloader pour équilibrer le dataset"
   ]
  },
  {
   "cell_type": "code",
   "execution_count": 15,
   "id": "d9b4a7ed-b250-4d88-ab2b-f0faa51b9655",
   "metadata": {},
   "outputs": [],
   "source": [
    "from torchsampler import ImbalancedDatasetSampler\n",
    "\n",
    "train_loader = torch.utils.data.DataLoader(\n",
    "    train_dataset,\n",
    "    sampler=ImbalancedDatasetSampler(train_dataset),\n",
    "    batch_size=16\n",
    ")"
   ]
  },
  {
   "cell_type": "markdown",
   "id": "6f113495-af47-4642-924d-b6654c091cf3",
   "metadata": {},
   "source": [
    "### Optimiseur"
   ]
  },
  {
   "cell_type": "code",
   "execution_count": 16,
   "id": "697393ce-48c1-4f77-a647-3b776cfa3576",
   "metadata": {},
   "outputs": [],
   "source": [
    "optim = torch.optim.AdamW(classifier.parameters(), lr=5e-5)"
   ]
  },
  {
   "cell_type": "markdown",
   "id": "ee5b3b56-47cf-4bbb-b145-a81e9d47c7ee",
   "metadata": {},
   "source": [
    "### Charger le modèle dans la mémoire de la carte graphique"
   ]
  },
  {
   "cell_type": "code",
   "execution_count": 17,
   "id": "0ef0b586-91ad-451b-8e27-9acade299ea7",
   "metadata": {},
   "outputs": [],
   "source": [
    "device = torch.device('cuda') if torch.cuda.is_available() else torch.device('cpu')\n",
    "torch.cuda.empty_cache()\n",
    "r = classifier.to(device)"
   ]
  },
  {
   "cell_type": "markdown",
   "id": "bbe455ca-2281-44a7-b68f-e97695a16cb2",
   "metadata": {},
   "source": [
    "### Boucle d'entraînement"
   ]
  },
  {
   "cell_type": "code",
   "execution_count": 18,
   "id": "3e9ecc6b-46e4-4c73-affd-8738450c2800",
   "metadata": {},
   "outputs": [
    {
     "name": "stderr",
     "output_type": "stream",
     "text": [
      "/tmp/ipykernel_14886/980926002.py:7: UserWarning: To copy construct from a tensor, it is recommended to use sourceTensor.clone().detach() or sourceTensor.clone().detach().requires_grad_(True), rather than torch.tensor(sourceTensor).\n",
      "  item = {key: torch.tensor(val[idx]) for key, val in self.encodings.items()}\n"
     ]
    },
    {
     "name": "stdout",
     "output_type": "stream",
     "text": [
      "CPU times: user 2min 45s, sys: 1min 15s, total: 4min\n",
      "Wall time: 4min 1s\n"
     ]
    }
   ],
   "source": [
    "%%time\n",
    "for epoch in range(3):\n",
    "    for batch in train_loader:\n",
    "        optim.zero_grad()\n",
    "        input_ids = batch['input_ids'].to(device)\n",
    "        attention_mask = batch['attention_mask'].to(device)\n",
    "        labels = batch['labels'].to(device)\n",
    "        outputs = classifier(input_ids, attention_mask=attention_mask, labels=labels)\n",
    "        loss = outputs[0]\n",
    "        loss.backward()\n",
    "        optim.step()"
   ]
  },
  {
   "cell_type": "markdown",
   "id": "21823244-b7f9-4268-9808-e47f2166cb02",
   "metadata": {
    "tags": []
   },
   "source": [
    "### Prédiction sur le jeu de test"
   ]
  },
  {
   "cell_type": "code",
   "execution_count": 20,
   "id": "ea5a8e6b-4022-4571-8868-ff699191adc9",
   "metadata": {},
   "outputs": [
    {
     "name": "stdout",
     "output_type": "stream",
     "text": [
      "CPU times: user 4.03 s, sys: 0 ns, total: 4.03 s\n",
      "Wall time: 4.03 s\n"
     ]
    }
   ],
   "source": [
    "%%time\n",
    "test_pred = []\n",
    "for n in range(0, len(test_tweets), 10):\n",
    "    phrases = test_tweets[n:n+10]\n",
    "    enc = tokenizer(phrases, padding=True, truncation=True, max_length=512, return_tensors='pt')\n",
    "    enc.to('cuda:0')\n",
    "    with torch.no_grad():\n",
    "        outp = classifier(**enc)\n",
    "    pred = torch.nn.functional.softmax(outp.logits, dim=1)\n",
    "    labels = torch.argmax(pred, dim=1)\n",
    "    test_pred.append(labels)"
   ]
  },
  {
   "cell_type": "code",
   "execution_count": 21,
   "id": "fbedea6d-d2fb-45bf-afdb-5c1dbe116a1c",
   "metadata": {},
   "outputs": [],
   "source": [
    "cat_pred = torch.cat(test_pred)"
   ]
  },
  {
   "cell_type": "code",
   "execution_count": 22,
   "id": "781626c8-6e95-40a1-a780-135d73dc4e92",
   "metadata": {},
   "outputs": [
    {
     "data": {
      "image/png": "[encoded data removed]",
      "text/plain": [
       "<Figure size 720x576 with 2 Axes>"
      ]
     },
     "metadata": {
      "needs_background": "light"
     },
     "output_type": "display_data"
    }
   ],
   "source": [
    "plot_confusion_matrix(test_labels, cat_pred.cpu(), None)"
   ]
  },
  {
   "cell_type": "code",
   "execution_count": 59,
   "id": "dd00ac72-50c6-4785-9428-ad99bd9c92c1",
   "metadata": {},
   "outputs": [],
   "source": [
    "classifier.save_pretrained(\"models/bertweet_FT_IDS\")"
   ]
  },
  {
   "cell_type": "code",
   "execution_count": null,
   "id": "e571720a-7542-426a-8339-31777d26249c",
   "metadata": {},
   "outputs": [],
   "source": []
  }
 ],
 "metadata": {
  "kernelspec": {
   "display_name": "Python 3 (ipykernel)",
   "language": "python",
   "name": "python3"
  },
  "language_info": {
   "codemirror_mode": {
    "name": "ipython",
    "version": 3
   },
   "file_extension": ".py",
   "mimetype": "text/x-python",
   "name": "python",
   "nbconvert_exporter": "python",
   "pygments_lexer": "ipython3",
   "version": "3.9.2"
  }
 },
 "nbformat": 4,
 "nbformat_minor": 5
}
