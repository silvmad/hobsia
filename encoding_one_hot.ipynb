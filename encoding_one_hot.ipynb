{
 "cells": [
  {
   "cell_type": "markdown",
   "id": "5409a7eb-1011-4a33-8c82-5464494a7ef8",
   "metadata": {},
   "source": [
    "### Imports et initialisations"
   ]
  },
  {
   "cell_type": "code",
   "execution_count": 2,
   "id": "8a0e96bd-8643-475a-8c1c-2bbcc7f6e0fe",
   "metadata": {},
   "outputs": [],
   "source": [
    "import numpy as np\n",
    "import random\n",
    "from sklearn.cluster import KMeans\n",
    "from sklearn.decomposition import TruncatedSVD\n",
    "import matplotlib.pyplot as plt\n",
    "from clustertools import *"
   ]
  },
  {
   "cell_type": "markdown",
   "id": "d125480d-b2be-44e6-91a3-879075e01fbb",
   "metadata": {},
   "source": [
    "### Récupération des tweets"
   ]
  },
  {
   "cell_type": "code",
   "execution_count": 3,
   "id": "98bfdbf6-8855-4747-bddf-56b51403d3f2",
   "metadata": {},
   "outputs": [],
   "source": [
    "clean_dataset_file = \"datasets/MillionTweetsMinStp_NEFU.txt\"\n",
    "\n",
    "raw_dataset_file = \"datasets/MillionTweets_NEFU.txt\""
   ]
  },
  {
   "cell_type": "code",
   "execution_count": 4,
   "id": "56037915-ea2d-4072-af9e-a8a798a6b24d",
   "metadata": {},
   "outputs": [],
   "source": [
    "with open(clean_dataset_file, \"r\") as file:\n",
    "    lines = file.read().splitlines()\n",
    "    \n",
    "# On sépare les messages pour les avoir sous forme de liste de mots.\n",
    "clean_dataset = [line.split() for line in lines]\n",
    "\n",
    "with open(raw_dataset_file, \"r\") as file:\n",
    "    raw_dataset = file.read().splitlines()"
   ]
  },
  {
   "cell_type": "markdown",
   "id": "02066c06-1301-4fc6-a4fe-4d9620a0f064",
   "metadata": {},
   "source": [
    "### Création des échantillons\n",
    "\n",
    "- Le dataset ne tient pas en entier en mémoire, on travaille donc avec un échantillon\n",
    "- Cet échantillon est sélectionné de manière aléatoire, de façon à avoir des résultats déterministes et donc reproductibles, on utilise une instance de générateur de nombre pseudo aléatoire random.Random avec un seed de 0"
   ]
  },
  {
   "cell_type": "code",
   "execution_count": 5,
   "id": "a5e5379c-05e0-40b5-916c-79b7a7ce2282",
   "metadata": {},
   "outputs": [],
   "source": [
    "sample_size = 5000\n",
    "\n",
    "idx_list = random.Random(0).sample(range(len(clean_dataset)), sample_size)\n",
    "clean_dataset = [clean_dataset[i] for i in idx_list]\n",
    "raw_dataset = [raw_dataset[i] for i in idx_list]"
   ]
  },
  {
   "cell_type": "markdown",
   "id": "ccd5db21-6f22-4114-90ec-b4bc998cf1c0",
   "metadata": {},
   "source": [
    "### Récupération des différents mots et de leur nombre d'occurences\n",
    "\n",
    "Pour l'encodage, nous aurons besoin de connaître la liste des différents mots de notre jeu de données afin d'associer à chacun un nombre.\n",
    "\n",
    "Pour interpréter les résultats nous aurons besoin de connaître les mots les plus utilisés dans chaque cluster\n",
    "\n",
    "Pour cela nous utilisons ces fonctions qui permettent d'obtenir une liste des mots du jeu de données (ou d'un sous ensemble comme ce sera le cas avec les clusters) triés par nombre d'occurences décroissant\n",
    "\n",
    "Ces fonctions sont intégrées au module `clustertools` et ne sont donc recopiées ici que pour illustrer"
   ]
  },
  {
   "cell_type": "code",
   "execution_count": 6,
   "id": "a7183bab-6c3d-4f52-b33a-ee8bf6138292",
   "metadata": {},
   "outputs": [],
   "source": [
    "#Création du dictionnaire de mots avec leur occurence\n",
    "def create_wdict(lines):\n",
    "    dico = {}\n",
    "    for msg in lines:\n",
    "        for mot in msg:\n",
    "            if mot in dico: \n",
    "                dico[mot] += 1\n",
    "            else:\n",
    "                dico[mot] = 1\n",
    "    return dico\n",
    "\n",
    "#Création de la liste des mots triée par nombre d'occurences décroissant\n",
    "def create_sorted_wlist(lines):\n",
    "    dico = create_wdict(lines)\n",
    "    wlist = [ (mot, dico[mot]) for mot in dico.keys()]\n",
    "    return sorted(wlist, key = lambda mot: mot[1], reverse = True)"
   ]
  },
  {
   "cell_type": "code",
   "execution_count": 7,
   "id": "7daba4f5-1353-416c-ba1a-9541d03d4ac3",
   "metadata": {},
   "outputs": [],
   "source": [
    "liste_mots_triee = create_sorted_wlist(clean_dataset)"
   ]
  },
  {
   "cell_type": "code",
   "execution_count": 8,
   "id": "6ad83364-f685-4459-8e39-c9cb11bbd270",
   "metadata": {},
   "outputs": [
    {
     "name": "stdout",
     "output_type": "stream",
     "text": [
      "Il y a 17169 mots différents\n",
      "Les dix mots les plus utilisés sont :\n",
      "... ( faire ) bien fait va / être faut "
     ]
    }
   ],
   "source": [
    "print(\"Il y a {} mots différents\".format(len(liste_mots_triee)))\n",
    "print(\"Les dix mots les plus utilisés sont :\")\n",
    "for mot in liste_mots_triee[:10]:\n",
    "    print(mot[0], end=' ')\n",
    "\n",
    "# Comme il y a peu de mots on utilise une taille de dictionnaire égale au nombre de mots différents du jeu de données plus un pour les mots inconnus\n",
    "dict_len = len(liste_mots_triee) + 1"
   ]
  },
  {
   "cell_type": "markdown",
   "id": "9c189033-a236-435d-8d86-083e27232997",
   "metadata": {},
   "source": [
    "### Traduction des listes de mots en listes de codes\n",
    "\n",
    "La première étape de l'encodage est de remplacer les mots par leur code (appelé ici index). \n",
    "\n",
    "On crée deux dictionnaires pour l'encodage et le décodage.\n",
    "\n",
    "Ici nous travaillons avec un échantillon, qui contient 17169 mots différents, on peut donc utiliser un dictionnaire qui contient tous les mots, avec un jeu de données plus grand on limiterait la taille du dictionnaire par exemple à 80 000 mots.\n",
    "\n",
    "On crée également deux fonctions `encode` et `decode` qui à partir d'une liste de mot renvoient une liste de codes correspondant aux mots ou inversement."
   ]
  },
  {
   "cell_type": "code",
   "execution_count": 9,
   "id": "1dcb7597-9f48-4472-86ad-5f9cc6a5b20f",
   "metadata": {},
   "outputs": [],
   "source": [
    "# On réserve le code 0 pour les mots qui ne font pas partie du dictionnaire\n",
    "word_index_dict = { '<unk>' : 0}\n",
    "for i, elt in enumerate(liste_mots_triee):\n",
    "    word_index_dict[elt[0]] = i + 1\n",
    "    \n",
    "index_word_dict = { i:word for word,i in word_index_dict.items() }"
   ]
  },
  {
   "cell_type": "code",
   "execution_count": 10,
   "id": "01b96c11-452e-4439-9a21-16a97248cb6e",
   "metadata": {},
   "outputs": [],
   "source": [
    "def encode(msg):\n",
    "    return [word_index_dict[mot] if mot in word_index_dict else 0 for mot in msg]\n",
    "        \n",
    "def decode(msg):\n",
    "    return ' '.join([index_word_dict[i] for i in msg])"
   ]
  },
  {
   "cell_type": "code",
   "execution_count": 11,
   "id": "f35b46bd-aa29-49bd-a166-94e673a8e981",
   "metadata": {},
   "outputs": [],
   "source": [
    "dataset_preencoded = [encode(msg) for msg in clean_dataset]"
   ]
  },
  {
   "cell_type": "code",
   "execution_count": 12,
   "id": "3db98c40-83f4-45a8-b482-2881b60ff1d8",
   "metadata": {},
   "outputs": [
    {
     "name": "stdout",
     "output_type": "stream",
     "text": [
      "['guéguerre', 'débile']\n",
      "[4214, 4215]\n"
     ]
    },
    {
     "data": {
      "text/plain": [
       "'guéguerre débile'"
      ]
     },
     "execution_count": 12,
     "metadata": {},
     "output_type": "execute_result"
    }
   ],
   "source": [
    "print(clean_dataset[20])\n",
    "print(dataset_preencoded[20])\n",
    "decode(dataset_preencoded[20])"
   ]
  },
  {
   "cell_type": "markdown",
   "id": "b42f8cf1-4497-44ed-bad5-289f44cea397",
   "metadata": {},
   "source": [
    "### Encodage one-hot proprement dit\n",
    "\n",
    "Chaque message est transformé en un vecteur de la taille du dictionnaire. Pour chaque mot dans un message, l'indice du vecteur correspondant à ce message est mis à 1, le reste des indices reste à 0.\n",
    "\n",
    "On commence par créer une matrice ayant un nombre de lignes égal à la taille du jeu de données et un nombre de colonnes égal à la taille du dictionnaire. Chaque ligne de cette matrice représentera un message encodé. Puis on parcourt le jeu de données préencodé où les mots ont été remplacés par leur code et on met à 1 les composantes correspondants aux codes de chaque vecteurs ligne."
   ]
  },
  {
   "cell_type": "code",
   "execution_count": 13,
   "id": "11c9a277-fc45-49a8-939c-5769ad4f85f8",
   "metadata": {},
   "outputs": [],
   "source": [
    "def one_hot_encode(dataset, vector_size=dict_len):\n",
    "    dataset_encoded = np.zeros((len(dataset), vector_size), dtype=np.int)\n",
    "    for i, msg in enumerate(dataset):\n",
    "        for code in msg:\n",
    "            dataset_encoded[i, code] = 1\n",
    "    return dataset_encoded\n",
    "    "
   ]
  },
  {
   "cell_type": "code",
   "execution_count": 14,
   "id": "f587efc5-33aa-4be9-962e-d4d6535b48e3",
   "metadata": {},
   "outputs": [],
   "source": [
    "dataset_encoded = one_hot_encode(dataset_preencoded)"
   ]
  },
  {
   "cell_type": "code",
   "execution_count": 15,
   "id": "0d47c3ac-859e-4605-8ac6-bf2888ae1f0b",
   "metadata": {},
   "outputs": [
    {
     "data": {
      "text/plain": [
       "(5000, 17170)"
      ]
     },
     "execution_count": 15,
     "metadata": {},
     "output_type": "execute_result"
    }
   ],
   "source": [
    "dataset_encoded.shape"
   ]
  },
  {
   "cell_type": "markdown",
   "id": "ee88ac58-0e90-4250-a216-2338a93ef7df",
   "metadata": {},
   "source": [
    "### Visualisation du dataset\n",
    "\n",
    "- On réalise une réduction de dimension afin de visualiser les données dans une grille en deux dimensions\n",
    "- On utilise pour cela la méthode Truncated SVD qui est indiquée dans le cas de données éparses"
   ]
  },
  {
   "cell_type": "code",
   "execution_count": 16,
   "id": "c7c3357c-589d-4bce-9013-c9c1bd1915d9",
   "metadata": {},
   "outputs": [
    {
     "name": "stdout",
     "output_type": "stream",
     "text": [
      "CPU times: user 20 s, sys: 8.75 s, total: 28.7 s\n",
      "Wall time: 5.93 s\n"
     ]
    }
   ],
   "source": [
    "%%time\n",
    "\n",
    "#Prend une quarantaine de seconds à exécuter sur ma machine\n",
    "\n",
    "svd = TruncatedSVD()\n",
    "\n",
    "#On crée une version en deux dimensions de notre jeu de données\n",
    "two_dim_dataset = svd.fit_transform(dataset_encoded)"
   ]
  },
  {
   "cell_type": "code",
   "execution_count": 17,
   "id": "14fc4cfb-1729-4ac1-9981-27dc3c0568c1",
   "metadata": {},
   "outputs": [],
   "source": [
    "#On utilise la matrice transposée de notre jeu de données pour pouvoir visualiser les données\n",
    "b = two_dim_dataset.T\n",
    "\n",
    "#Taille des figures\n",
    "plt.rcParams[\"figure.figsize\"] = (10,10)"
   ]
  },
  {
   "cell_type": "code",
   "execution_count": 18,
   "id": "bab2f532-5fd2-4527-bf6d-61ad389d7921",
   "metadata": {},
   "outputs": [
    {
     "data": {
      "image/png": "[encoded data removed]",
      "text/plain": [
       "<Figure size 720x720 with 1 Axes>"
      ]
     },
     "metadata": {
      "needs_background": "light"
     },
     "output_type": "display_data"
    }
   ],
   "source": [
    "#Affichage des données\n",
    "plt.plot(b[0], b[1], 'r.')\n",
    "plt.show()"
   ]
  },
  {
   "cell_type": "markdown",
   "id": "dc77dc31-9bfb-4977-8a06-ad744f69f11c",
   "metadata": {},
   "source": [
    "### Kmeans"
   ]
  },
  {
   "cell_type": "code",
   "execution_count": 19,
   "id": "fb6c9674-ac78-4e28-bf26-6fe573279648",
   "metadata": {},
   "outputs": [],
   "source": [
    "n_clust = 8"
   ]
  },
  {
   "cell_type": "code",
   "execution_count": 20,
   "id": "ee94c766-7d09-4afe-bf1e-2aa87d02794d",
   "metadata": {},
   "outputs": [
    {
     "name": "stdout",
     "output_type": "stream",
     "text": [
      "CPU times: user 1min 15s, sys: 9.36 s, total: 1min 24s\n",
      "Wall time: 12 s\n"
     ]
    }
   ],
   "source": [
    "%%time\n",
    "\n",
    "kmeans = KMeans(n_clusters=n_clust, random_state=0).fit(dataset_encoded)"
   ]
  },
  {
   "cell_type": "code",
   "execution_count": 21,
   "id": "7cbdb05b-2e60-4412-b071-ed3541e148f1",
   "metadata": {},
   "outputs": [],
   "source": [
    "km_pred = kmeans.predict(dataset_encoded)"
   ]
  },
  {
   "cell_type": "code",
   "execution_count": 22,
   "id": "6ae36b42-38dd-46e9-90d0-d55cd9a0b599",
   "metadata": {},
   "outputs": [],
   "source": [
    "# Initialisation des variables globales pour le module clustertools\n",
    "init_globals(clean_dataset, raw_dataset, two_dim_dataset, \"\")"
   ]
  },
  {
   "cell_type": "code",
   "execution_count": 23,
   "id": "71dabe4c-a120-4662-a370-af57a70e6176",
   "metadata": {},
   "outputs": [
    {
     "name": "stdout",
     "output_type": "stream",
     "text": [
      "Cluster 0 : 1 messages\n",
      "0 messages contiennent un mot-clé haineux (soit 0.00%)\n",
      "Les 15 mots les plus fréquents : photos demande prouver ticket caisse, publiées. pop petite procéder vérification. contact acheteuse. explique comprends etc. \n",
      "\n",
      "\n",
      "Cluster 1 : 4540 messages\n",
      "33 messages contiennent un mot-clé haineux (soit 0.73%)\n",
      "Les 20 mots les plus fréquents : jour sais dm genre moment tweet soir envie bonjour + veut vidéo parler novembre * mds allez mdrr gros vont \n",
      "\n",
      "\n",
      "Cluster 2 : 163 messages\n",
      "4 messages contiennent un mot-clé haineux (soit 2.45%)\n",
      "Les 20 mots les plus fréquents : mdrr froid font parler penser gagner compte bcp soir 10 vite aucune 4 jeu m. vont choses argent bref gars \n",
      "\n",
      "\n",
      "Cluster 3 : 16 messages\n",
      "0 messages contiennent un mot-clé haineux (soit 0.00%)\n",
      "Les 20 mots les plus fréquents : vas -ce autoriser répond armes jure #hellbound tuerie m'étonne amie persistent, qu'voulait plaindre sûrement châtiment abattre membre fn rn défiler \n",
      "\n",
      "\n",
      "Cluster 4 : 1 messages\n",
      "0 messages contiennent un mot-clé haineux (soit 0.00%)\n",
      "Les 18 mots les plus fréquents : grandi orelsan discours qu'parle suicide social morceau correspondait raconte perdu d'avance, chant sirène clairement fête fini vois qu' \n",
      "\n",
      "\n",
      "Cluster 5 : 1 messages\n",
      "0 messages contiennent un mot-clé haineux (soit 0.00%)\n",
      "Les 17 mots les plus fréquents : france, perquisitions tweet troll + jugés antisémite droit plateau télé semaine 11h, calmes islamophobe, droit. và bien. \n",
      "\n",
      "\n",
      "Cluster 6 : 58 messages\n",
      "0 messages contiennent un mot-clé haineux (soit 0.00%)\n",
      "Les 20 mots les plus fréquents : grave mis pris ministre gars perdu chercher ouvrir démocratie fait, haine entreprise montant perdre faire, mauvais diminution salaire. partie mettre \n",
      "\n",
      "\n",
      "Cluster 7 : 220 messages\n",
      "5 messages contiennent un mot-clé haineux (soit 2.27%)\n",
      "Les 20 mots les plus fréquents : .... rapport belle demande novembre question https//t.co comprendre argent vaccin cause milliards peur ensemble niveau cas pouvoir vois ouin chose \n",
      "\n",
      "\n"
     ]
    },
    {
     "data": {
      "image/png": "[encoded data removed]",
      "text/plain": [
       "<Figure size 720x720 with 2 Axes>"
      ]
     },
     "metadata": {
      "needs_background": "light"
     },
     "output_type": "display_data"
    }
   ],
   "source": [
    "parse_no_save(km_pred)"
   ]
  },
  {
   "cell_type": "markdown",
   "id": "27af5e61-a139-41e9-a35c-d5e1a776538b",
   "metadata": {},
   "source": [
    "### SOM"
   ]
  },
  {
   "cell_type": "code",
   "execution_count": 24,
   "id": "bb182c91-05fd-4224-89a2-26af35015150",
   "metadata": {},
   "outputs": [],
   "source": [
    "from minisom import MiniSom"
   ]
  },
  {
   "cell_type": "code",
   "execution_count": 25,
   "id": "8d4f15ae-8492-4c48-a602-7f20967b2039",
   "metadata": {},
   "outputs": [],
   "source": [
    "m = 3\n",
    "n = 3\n",
    "som = MiniSom(m, n, dict_len, neighborhood_function='gaussian', random_seed=0)"
   ]
  },
  {
   "cell_type": "code",
   "execution_count": 27,
   "id": "21bf04fd-1789-4773-ac42-45544ec9c9a6",
   "metadata": {},
   "outputs": [],
   "source": [
    "som.random_weights_init(dataset_encoded)"
   ]
  },
  {
   "cell_type": "code",
   "execution_count": 28,
   "id": "5108f702-7350-4792-9931-cde59b8b931f",
   "metadata": {},
   "outputs": [
    {
     "name": "stdout",
     "output_type": "stream",
     "text": [
      " [ 100000 / 100000 ] 100% - 0:00:00 left \n",
      " quantization error: 2.4349588583813353\n",
      "CPU times: user 2min 2s, sys: 3.23 s, total: 2min 5s\n",
      "Wall time: 1min 50s\n"
     ]
    }
   ],
   "source": [
    "%%time\n",
    "\n",
    "n_epoch = 100000\n",
    "\n",
    "som.train(dataset_encoded, n_epoch, verbose=True)"
   ]
  },
  {
   "cell_type": "code",
   "execution_count": 31,
   "id": "a9c5702f-ceea-43f1-902c-dc4f2670d341",
   "metadata": {},
   "outputs": [
    {
     "name": "stdout",
     "output_type": "stream",
     "text": [
      "CPU times: user 1.7 s, sys: 0 ns, total: 1.7 s\n",
      "Wall time: 1.7 s\n"
     ]
    }
   ],
   "source": [
    "%%time\n",
    "som_pred = []\n",
    "for msg in dataset_encoded:\n",
    "    winner = som.winner(msg)\n",
    "    som_pred.append(winner[0]*n+winner[1])"
   ]
  },
  {
   "cell_type": "code",
   "execution_count": 32,
   "id": "db1901bf-62bf-4679-a08a-494cd1bc3616",
   "metadata": {},
   "outputs": [
    {
     "name": "stdout",
     "output_type": "stream",
     "text": [
      "Cluster 0 : 153 messages\n",
      "3 messages contiennent un mot-clé haineux (soit 1.96%)\n",
      "Les 20 mots les plus fréquents : parler sais veut passe coup vont tantouze vas genre jsp soir .... prendre vacciner envie sait ouin test lieu dois \n",
      "\n",
      "\n",
      "Cluster 1 : 101 messages\n",
      "2 messages contiennent un mot-clé haineux (soit 1.98%)\n",
      "Les 20 mots les plus fréquents : peuvent vivre grave nuit jeunes réalité pourrait politique partir liberté peur amp; devrait compte police terrible niveau disant élevé foot \n",
      "\n",
      "\n",
      "Cluster 2 : 132 messages\n",
      "1 messages contiennent un mot-clé haineux (soit 0.76%)\n",
      "Les 20 mots les plus fréquents : usdt vol cas saison ), demande 24h points ). radio nan coup novembre soir 2021 price jours afrique milieu mdrr \n",
      "\n",
      "\n",
      "Cluster 3 : 202 messages\n",
      "5 messages contiennent un mot-clé haineux (soit 2.48%)\n",
      "Les 20 mots les plus fréquents : .... rapport novembre question vaccin milliards ensemble https//t.co pouvoir vois argent article belle air amp; niveau peur chance député part \n",
      "\n",
      "\n",
      "Cluster 4 : 8 messages\n",
      "0 messages contiennent un mot-clé haineux (soit 0.00%)\n",
      "Les 20 mots les plus fréquents : 24 gpu coup az désirer parties of // available for 0.19 eth only collectionhttps//t.co on4kevwqxz rejoignez-nous nov. 11h30 conversation virtuelle \n",
      "\n",
      "\n",
      "Cluster 5 : 4059 messages\n",
      "27 messages contiennent un mot-clé haineux (soit 0.67%)\n",
      "Les 20 mots les plus fréquents : dm bonjour mds vidéo moment + belle jour admeeu mdrr tweet envie * gros soir vote sais parler mettre novembre \n",
      "\n",
      "\n",
      "Cluster 6 : 50 messages\n",
      "0 messages contiennent un mot-clé haineux (soit 0.00%)\n",
      "Les 20 mots les plus fréquents : grave gars perdu 20 chercher mis ministre démocratie haine pris entreprise montant diminution salaire. partie équipe points putin formation pouvoir \n",
      "\n",
      "\n",
      "Cluster 7 : 153 messages\n",
      "3 messages contiennent un mot-clé haineux (soit 1.96%)\n",
      "Les 20 mots les plus fréquents : froid font parler gagner soir 10 mdrr aucune 4 jeu penser m. vont compte bcp gars impression découvrir film place \n",
      "\n",
      "\n",
      "Cluster 8 : 142 messages\n",
      "1 messages contiennent un mot-clé haineux (soit 0.70%)\n",
      "Les 20 mots les plus fréquents : sûr besoin commence raison genre droit espère allez semaine profite fort vaccin jsuis d'avoir merde arrête sources sait vont passer \n",
      "\n",
      "\n"
     ]
    },
    {
     "data": {
      "image/png": "[encoded data removed]",
      "text/plain": [
       "<Figure size 720x720 with 2 Axes>"
      ]
     },
     "metadata": {
      "needs_background": "light"
     },
     "output_type": "display_data"
    }
   ],
   "source": [
    "parse_no_save(som_pred)"
   ]
  },
  {
   "cell_type": "code",
   "execution_count": null,
   "id": "e12b6c92-cf2f-4703-ab4a-fc0f555f754d",
   "metadata": {},
   "outputs": [],
   "source": []
  }
 ],
 "metadata": {
  "kernelspec": {
   "display_name": "Python 3 (ipykernel)",
   "language": "python",
   "name": "python3"
  },
  "language_info": {
   "codemirror_mode": {
    "name": "ipython",
    "version": 3
   },
   "file_extension": ".py",
   "mimetype": "text/x-python",
   "name": "python",
   "nbconvert_exporter": "python",
   "pygments_lexer": "ipython3",
   "version": "3.9.2"
  }
 },
 "nbformat": 4,
 "nbformat_minor": 5
}
