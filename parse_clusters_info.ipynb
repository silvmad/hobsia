{
 "cells": [
  {
   "cell_type": "code",
   "execution_count": 3,
   "id": "9d090f18-ee9e-4017-8935-12612fdb01b6",
   "metadata": {},
   "outputs": [],
   "source": [
    "import re"
   ]
  },
  {
   "cell_type": "markdown",
   "id": "0e5c36ea-d45f-420a-ab21-7ea17e70c5b0",
   "metadata": {},
   "source": [
    "### Création de la liste de mots-clés haineux"
   ]
  },
  {
   "cell_type": "code",
   "execution_count": 2,
   "id": "d68f7def-f948-4311-8ef3-81c5e7323bea",
   "metadata": {},
   "outputs": [],
   "source": [
    "with open(\"kw_hate.txt\", \"r\") as f:\n",
    "    kw = f.read().splitlines()"
   ]
  },
  {
   "cell_type": "markdown",
   "id": "401a91a3-58d2-4c44-b655-09db9feb0311",
   "metadata": {},
   "source": [
    "### Analyse des clusters issus du premier clustering (encodage embedding)\n",
    "- On itère sur chaque méthode de nettoyage et de clustering\n",
    "- Pour chaque couple de méthodes on analyse le fichier `clusters_info` correspondant\n",
    "- On affiche le numéro de cluster, le nombre de messages et le pourcentage de messages haineux pour chaque cluster qui :\n",
    "  - contient au moins 10% de messages contenant un mot-clé haineux\n",
    "  - ou bien a un mot-clé haineux dans les mots les plus proches de son centre"
   ]
  },
  {
   "cell_type": "code",
   "execution_count": 4,
   "id": "0553c2ce-3bf1-42a8-a41f-a13031879b85",
   "metadata": {},
   "outputs": [
    {
     "name": "stdout",
     "output_type": "stream",
     "text": [
      "MinStp + km_25\n",
      "\n",
      "MinStp + km_50\n",
      "Cluster 27 (1712 messages) : 0.41% de messages contiennent un mot haineux\n",
      "\n",
      "MinStp + km_100\n",
      "Cluster 22 (1515 messages) : 0.33% de messages contiennent un mot haineux\n",
      "Cluster 23 (1616 messages) : 0.31% de messages contiennent un mot haineux\n",
      "Cluster 30 (33398 messages) : 1.48% de messages contiennent un mot haineux\n",
      "Cluster 36 (7784 messages) : 7.17% de messages contiennent un mot haineux\n",
      "Cluster 59 (1122 messages) : 4.01% de messages contiennent un mot haineux\n",
      "Cluster 70 (1532 messages) : 1.96% de messages contiennent un mot haineux\n",
      "Cluster 83 (1670 messages) : 1.02% de messages contiennent un mot haineux\n",
      "Cluster 94 (3243 messages) : 5.49% de messages contiennent un mot haineux\n",
      "\n",
      "MinStp + som_100\n",
      "Cluster 29 (5647 messages) : 4.55% de messages contiennent un mot haineux\n",
      "Cluster 74 (2186 messages) : 4.3% de messages contiennent un mot haineux\n",
      "Cluster 76 (2468 messages) : 0.61% de messages contiennent un mot haineux\n",
      "Cluster 77 (2463 messages) : 1.02% de messages contiennent un mot haineux\n",
      "Cluster 83 (3247 messages) : 5.88% de messages contiennent un mot haineux\n",
      "Cluster 87 (1925 messages) : 1.92% de messages contiennent un mot haineux\n",
      "\n",
      "MinStp + som_225\n",
      "Cluster 40 (1304 messages) : 0.84% de messages contiennent un mot haineux\n",
      "Cluster 57 (1393 messages) : 3.66% de messages contiennent un mot haineux\n",
      "Cluster 89 (1728 messages) : 1.68% de messages contiennent un mot haineux\n",
      "Cluster 109 (1785 messages) : 29.08% de messages contiennent un mot haineux\n",
      "Cluster 157 (1061 messages) : 0.38% de messages contiennent un mot haineux\n",
      "Cluster 191 (1672 messages) : 2.03% de messages contiennent un mot haineux\n",
      "\n",
      "MinStp + som_400\n",
      "Cluster 94 (1574 messages) : 1.52% de messages contiennent un mot haineux\n",
      "Cluster 97 (455 messages) : 9.01% de messages contiennent un mot haineux\n",
      "Cluster 143 (5051 messages) : 2.28% de messages contiennent un mot haineux\n",
      "Cluster 153 (1267 messages) : 1.97% de messages contiennent un mot haineux\n",
      "Cluster 171 (1896 messages) : 0.69% de messages contiennent un mot haineux\n",
      "Cluster 178 (1646 messages) : 5.65% de messages contiennent un mot haineux\n",
      "Cluster 222 (908 messages) : 0.88% de messages contiennent un mot haineux\n",
      "Cluster 227 (567 messages) : 0.35% de messages contiennent un mot haineux\n",
      "Cluster 264 (1024 messages) : 36.43% de messages contiennent un mot haineux\n",
      "Cluster 286 (1497 messages) : 5.21% de messages contiennent un mot haineux\n",
      "Cluster 290 (207 messages) : 0.0% de messages contiennent un mot haineux\n",
      "Cluster 388 (296 messages) : 4.73% de messages contiennent un mot haineux\n",
      "Cluster 392 (2720 messages) : 3.31% de messages contiennent un mot haineux\n",
      "\n",
      "Std + km_25\n",
      "\n",
      "Std + km_50\n",
      "Cluster 7 (6529 messages) : 3.23% de messages contiennent un mot haineux\n",
      "\n",
      "Std + km_100\n",
      "Cluster 69 (3580 messages) : 6.34% de messages contiennent un mot haineux\n",
      "Cluster 90 (6860 messages) : 9.2% de messages contiennent un mot haineux\n",
      "\n",
      "Std + som_100\n",
      "Cluster 27 (18567 messages) : 3.2% de messages contiennent un mot haineux\n",
      "Cluster 53 (1767 messages) : 4.07% de messages contiennent un mot haineux\n",
      "Cluster 55 (8572 messages) : 3.03% de messages contiennent un mot haineux\n",
      "\n",
      "Std + som_225\n",
      "Cluster 105 (1445 messages) : 31.76% de messages contiennent un mot haineux\n",
      "\n",
      "Std + som_400\n",
      "Cluster 62 (2456 messages) : 3.26% de messages contiennent un mot haineux\n",
      "Cluster 85 (2143 messages) : 3.83% de messages contiennent un mot haineux\n",
      "Cluster 94 (171 messages) : 4.68% de messages contiennent un mot haineux\n",
      "Cluster 289 (356 messages) : 39.61% de messages contiennent un mot haineux\n",
      "Cluster 332 (1071 messages) : 16.43% de messages contiennent un mot haineux\n",
      "Cluster 333 (872 messages) : 19.72% de messages contiennent un mot haineux\n",
      "Cluster 349 (728 messages) : 23.76% de messages contiennent un mot haineux\n",
      "Cluster 362 (1450 messages) : 3.1% de messages contiennent un mot haineux\n",
      "\n",
      "Lem + km_25\n",
      "\n",
      "Lem + km_50\n",
      "Cluster 17 (49298 messages) : 2.2% de messages contiennent un mot haineux\n",
      "Cluster 23 (3466 messages) : 0.46% de messages contiennent un mot haineux\n",
      "Cluster 32 (6806 messages) : 3.69% de messages contiennent un mot haineux\n",
      "\n",
      "Lem + km_100\n",
      "Cluster 30 (2806 messages) : 8.37% de messages contiennent un mot haineux\n",
      "Cluster 45 (2122 messages) : 4.29% de messages contiennent un mot haineux\n",
      "Cluster 54 (9070 messages) : 6.36% de messages contiennent un mot haineux\n",
      "\n",
      "Lem + som_100\n",
      "Cluster 77 (2264 messages) : 0.71% de messages contiennent un mot haineux\n",
      "Cluster 90 (3093 messages) : 6.72% de messages contiennent un mot haineux\n",
      "\n",
      "Lem + som_225\n",
      "Cluster 35 (2981 messages) : 4.26% de messages contiennent un mot haineux\n",
      "Cluster 99 (2702 messages) : 12.99% de messages contiennent un mot haineux\n",
      "Cluster 164 (1759 messages) : 0.57% de messages contiennent un mot haineux\n",
      "\n",
      "Lem + som_400\n",
      "Cluster 83 (325 messages) : 0.31% de messages contiennent un mot haineux\n",
      "Cluster 156 (1315 messages) : 15.29% de messages contiennent un mot haineux\n",
      "Cluster 167 (1531 messages) : 29.13% de messages contiennent un mot haineux\n",
      "Cluster 193 (1083 messages) : 3.23% de messages contiennent un mot haineux\n",
      "Cluster 209 (2472 messages) : 4.29% de messages contiennent un mot haineux\n",
      "\n"
     ]
    }
   ],
   "source": [
    "for clean_method in [\"MinStp\", \"Std\", \"Lem\"]:\n",
    "    for clust_method in [\"km_25\", \"km_50\", \"km_100\", \"som_100\", \"som_225\", \"som_400\"]:\n",
    "        dir = \"clusters/1M_{}_clusters/{}/\".format(clean_method, clust_method)\n",
    "        filename = clust_method + \"_clusters_info.txt\"\n",
    "        print(\"{} + {}\".format(clean_method, clust_method))\n",
    "        with open(dir + filename, \"r\") as f:\n",
    "            lines = f.read().split(\"\\n\\n\")\n",
    "        for i, line in enumerate(lines):\n",
    "            res = re.findall(\"(\\d*\\.\\d*)%\", line)\n",
    "            n_msg_res = re.findall(\"(\\d*) messages\", line)\n",
    "            if (len(n_msg_res) > 0):\n",
    "                n_msg = int(n_msg_res[0])\n",
    "            c = re.findall(\"centre : .*\", line)\n",
    "            if (len(c) > 0):\n",
    "                center = c[0][9:]\n",
    "            if (len(res) > 0):\n",
    "                num = float(res[0])\n",
    "            if (num > 3 or any(item in center for item in kw)):\n",
    "                print(\"Cluster {} ({} messages) : {}% de messages contiennent un mot haineux\".format(i, n_msg, num))\n",
    "        print()"
   ]
  },
  {
   "cell_type": "markdown",
   "id": "8052bcdb-2b65-4194-9573-63bfbe31cd57",
   "metadata": {},
   "source": [
    "### Analyse du deuxième clustering (2e dataset, encodage transformers)\n",
    "\n",
    "On cherche a déterminer le nombre de clusters qui donne les meilleurs résultats, ainsi que le curseur à utiliser (voir plus bas)"
   ]
  },
  {
   "cell_type": "code",
   "execution_count": 1,
   "id": "4baf49fc-a6de-402e-ba7f-7b84fbe6c7de",
   "metadata": {},
   "outputs": [],
   "source": [
    "filename_format = \"clusters/bert_clusters_{htype}/{htype}_bertsom{n_clust}/{htype}_bertsom{n_clust}_clusters_info.txt\""
   ]
  },
  {
   "cell_type": "markdown",
   "id": "4b3563f7-6844-466a-9aab-ef2fd23a69c6",
   "metadata": {},
   "source": [
    "- On itère sur les différentes types et les deux nombres de clusters.\n",
    "- Pour chaque type et nombre de clusters on compte le nombre de messages gardés (issus de clusters ayant plus de 80% ou moins de 20% de messages haineux)"
   ]
  },
  {
   "cell_type": "code",
   "execution_count": 10,
   "id": "373890d3-91b7-47ee-9ea9-3e9cf6ef9f0c",
   "metadata": {},
   "outputs": [
    {
     "name": "stdout",
     "output_type": "stream",
     "text": [
      "type    \tn_clust\tgardés/total\t%gardés\n",
      "africain\t36 :\t1428 / 6147\t= 23.23\n",
      "africain\t49 :\t1092 / 6147\t= 17.76\n",
      "antisemite\t36 :\t323 / 1656\t= 19.50\n",
      "antisemite\t49 :\t455 / 1656\t= 27.48\n",
      "arabe    \t36 :\t2306 / 10256\t= 22.48\n",
      "arabe    \t49 :\t2193 / 10256\t= 21.38\n",
      "capacitiste\t36 :\t1356 / 10008\t= 13.55\n",
      "capacitiste\t49 :\t2179 / 10008\t= 21.77\n",
      "chretien\t36 :\t1133 / 5808\t= 19.51\n",
      "chretien\t49 :\t1135 / 5808\t= 19.54\n",
      "gitan    \t36 :\t112 / 5047\t= 2.22\n",
      "gitan    \t49 :\t329 / 5047\t= 6.52\n",
      "miso    \t36 :\t2505 / 10503\t= 23.85\n",
      "miso    \t49 :\t2740 / 10503\t= 26.09\n",
      "musulman\t36 :\t583 / 5303\t= 10.99\n",
      "musulman\t49 :\t865 / 5303\t= 16.31\n",
      "\n",
      "Total :\n",
      "36 cluster :\t 17.81% gardés\n",
      "49 clusters :\t 20.08% gardés\n"
     ]
    }
   ],
   "source": [
    "goods = {'36' : [], '49' : []}\n",
    "tots = {'36' : [], '49' : []}\n",
    "count = {'36' : [], '49' : []}\n",
    "\n",
    "pmax, pmin = 90, 10\n",
    "\n",
    "print(\"type    \\tn_clust\\tgardés/total\\t%gardés\")\n",
    "\n",
    "for ht in ['africain', 'antisemite', 'arabe', 'capacitiste', 'chretien', 'gitan', 'miso', 'musulman']:\n",
    "    for nc in ['36', '49']:\n",
    "        with open(filename_format.format(htype=ht, n_clust=nc), \"r\") as f:\n",
    "            lines = f.read().split('\\n\\n')\n",
    "        tot, good, h, n = 0, 0, 0, 0\n",
    "        for line in lines[:-1]: \n",
    "            n_msg = int(re.findall(' (\\d*) messages' , line)[0])\n",
    "            hper = re.findall('(\\d*.\\d*)% de', line)\n",
    "            hper = float(hper[0]) if len(hper) > 0 else 0    \n",
    "            tot += n_msg\n",
    "            good += n_msg if hper >= pmax or hper <= pmin else 0\n",
    "            h += n_msg if hper >= pmax else 0\n",
    "            n += n_msg if hper <= pmin else 0\n",
    "        t = ht + \"    \" if len(ht) < 8 else ht\n",
    "        print(\"{}\\t{} :\\t{} / {}\\t= {:.2f}\".format(t, nc, good, tot, good/tot*100))\n",
    "        goods[nc].append(good)\n",
    "        tots[nc].append(tot)   \n",
    "        count[nc].append((h, n))\n",
    "        \n",
    "per_garde_36 = sum([g for g in goods['36']]) / sum([t for t in tots['36']]) * 100\n",
    "per_garde_49 = sum([g for g in goods['49']]) / sum([t for t in tots['49']]) * 100\n",
    "print(\"\\nTotal :\\n36 cluster :\\t {:.2f}% gardés\\n49 clusters :\\t {:.2f}% gardés\".format(per_garde_36, per_garde_49))"
   ]
  },
  {
   "cell_type": "markdown",
   "id": "4da6f568-5f18-40ca-90b8-2115fefea092",
   "metadata": {},
   "source": [
    "On garde plus de messages avec 49 clusters qu'avec 36"
   ]
  },
  {
   "cell_type": "markdown",
   "id": "7bd60189-0fad-454d-89d6-9a17de696a8b",
   "metadata": {},
   "source": [
    "On regarde l'équilibrage : le nombre de messages haineux / non haineux par type et par nombre de cluster et on calcule le pourcentage total"
   ]
  },
  {
   "cell_type": "code",
   "execution_count": 56,
   "id": "2f16b211-a71d-4444-8e33-7232dc505db2",
   "metadata": {},
   "outputs": [
    {
     "name": "stdout",
     "output_type": "stream",
     "text": [
      "36 clusters :\n",
      "africain :\t 699 haineux \t/\t729 normaux\n",
      "antisemite :\t 314 haineux \t/\t9 normaux\n",
      "arabe    :\t 2087 haineux \t/\t219 normaux\n",
      "capacitiste :\t 1356 haineux \t/\t0 normaux\n",
      "chretien :\t 381 haineux \t/\t752 normaux\n",
      "gitan    :\t 11 haineux \t/\t101 normaux\n",
      "miso     :\t 2505 haineux \t/\t0 normaux\n",
      "musulman :\t 0 haineux \t/\t583 normaux\n",
      "total  :\t 7353 haineux \t/\t2393 normaux\n",
      "rapport :\t 0.75% haineux \t/\t 0.25% normaux\n",
      "\n",
      "49 clusters :\n",
      "africain :\t 484 haineux \t/\t608 normaux\n",
      "antisemite :\t 446 haineux \t/\t9 normaux\n",
      "arabe    :\t 1975 haineux \t/\t218 normaux\n",
      "capacitiste :\t 1955 haineux \t/\t224 normaux\n",
      "chretien :\t 139 haineux \t/\t996 normaux\n",
      "gitan    :\t 116 haineux \t/\t213 normaux\n",
      "miso     :\t 2692 haineux \t/\t48 normaux\n",
      "musulman :\t 0 haineux \t/\t865 normaux\n",
      "total  :\t 7807 haineux \t/\t3181 normaux\n",
      "rapport :\t 0.71% haineux \t/\t 0.29% normaux\n"
     ]
    }
   ],
   "source": [
    "print(\"36 clusters :\")\n",
    "for tup, htype in zip(count['36'], ['africain', 'antisemite', 'arabe   ', 'capacitiste', 'chretien', 'gitan   ', 'miso    ', 'musulman']):\n",
    "    print(\"{} :\\t {} haineux \\t/\\t{} normaux\".format(htype, tup[0], tup[1]))\n",
    "somme = sum([c[0] for c in count['36']]), sum([c[1] for c in count['36']])\n",
    "print(\"total  :\\t {} haineux \\t/\\t{} normaux\".format(somme[0], somme[1]))\n",
    "print(\"rapport :\\t {:.2f}% haineux \\t/\\t {:.2f}% normaux\".format(somme[0]/(somme[0] + somme[1]), somme[1]/(somme[0] + somme[1]))) \n",
    "print(\"\\n49 clusters :\")\n",
    "for tup, htype in zip(count['49'], ['africain', 'antisemite', 'arabe   ', 'capacitiste', 'chretien', 'gitan   ', 'miso    ', 'musulman']):\n",
    "    print(\"{} :\\t {} haineux \\t/\\t{} normaux\".format(htype, tup[0], tup[1]))\n",
    "somme = sum([c[0] for c in count['49']]), sum([c[1] for c in count['49']])\n",
    "print(\"total  :\\t {} haineux \\t/\\t{} normaux\".format(somme[0], somme[1]))\n",
    "print(\"rapport :\\t {:.2f}% haineux \\t/\\t {:.2f}% normaux\".format(somme[0]/(somme[0] + somme[1]), somme[1]/(somme[0] + somme[1]))) "
   ]
  },
  {
   "cell_type": "markdown",
   "id": "f7a3c0e6-3da3-42b5-8aed-6cfea4210263",
   "metadata": {},
   "source": [
    "On observe un équilibrage un peu meilleur avec 49 clusters qu'avec 36"
   ]
  },
  {
   "cell_type": "code",
   "execution_count": 47,
   "id": "37d19b30-6194-42bd-b67c-7677dcf0c42a",
   "metadata": {},
   "outputs": [
    {
     "name": "stdout",
     "output_type": "stream",
     "text": [
      "miso    \t100 :\t5493 / 10503\t= 0.5229934304484433\n",
      "gardés : 4651 haineux / 842 normaux\n"
     ]
    }
   ],
   "source": [
    "ht = 'miso'\n",
    "nc = '100'\n",
    "\n",
    "with open(filename_format.format(htype=ht, n_clust=nc), \"r\") as f:\n",
    "    lines = f.read().split('\\n\\n')\n",
    "tot, good, h, n = 0, 0, 0, 0\n",
    "for line in lines[:-1]: \n",
    "    n_msg = int(re.findall(' (\\d*) messages' , line)[0])\n",
    "    hper = re.findall('(\\d*.\\d*)% de', line)\n",
    "    hper = float(hper[0]) if len(hper) > 0 else 0    \n",
    "    tot += n_msg\n",
    "    good += n_msg if hper >= 80 or hper <= 20 else 0\n",
    "    h += n_msg if hper >= 80 else 0\n",
    "    n += n_msg if hper <= 20 else 0\n",
    "    t = ht + \"    \" if len(ht) < 8 else ht\n",
    "print(\"{}\\t{} :\\t{} / {}\\t= {}\".format(t, nc, good, tot, good/tot))\n",
    "print(\"gardés : {} haineux / {} normaux\".format(h, n))"
   ]
  },
  {
   "cell_type": "markdown",
   "id": "9db76eb1-f7e3-4ab2-9656-d3149945bebd",
   "metadata": {},
   "source": [
    "Avec 100 clusters on garde plus de 50% des messages sur le jeu de données misogyne"
   ]
  },
  {
   "cell_type": "code",
   "execution_count": 67,
   "id": "e235b09c-9047-4b27-8228-17199accec5d",
   "metadata": {},
   "outputs": [
    {
     "data": {
      "text/plain": [
       "0.8467139996359002"
      ]
     },
     "execution_count": 67,
     "metadata": {},
     "output_type": "execute_result"
    }
   ],
   "source": [
    "4651 / (4651 + 842)"
   ]
  },
  {
   "cell_type": "markdown",
   "id": "055bb247-d86f-4250-b343-79e8ac871578",
   "metadata": {},
   "source": [
    "Mais il reste très déséquilibré avec 84% de messages haineux"
   ]
  },
  {
   "cell_type": "markdown",
   "id": "fdfbcaf5-db2b-46b0-bca0-ec4a0b990d03",
   "metadata": {},
   "source": [
    "### Déterminer le curseur\n",
    "\n",
    "Le curseur représente la limite de pourcentage de messages de haineux ou non haineux pour retenir un cluster.\n",
    "Un curseur de 15 signifie que l'on garde les cluster dont le pourcentage de messages haineux est inférieur à 15% et supérieur\n",
    "à 85% (soit 15% de messages non haineux)."
   ]
  },
  {
   "cell_type": "code",
   "execution_count": 12,
   "id": "d039b4ae-9021-4d01-9d46-be59b22a98d6",
   "metadata": {},
   "outputs": [],
   "source": [
    "import matplotlib.pyplot as plt\n",
    "gspread = { '36' : [], '49' : [] }\n",
    "counts = { '36' : [], '49' : [] }\n",
    "for gap in range(1, 51):\n",
    "    pmax = 100 - gap\n",
    "    pmin = gap\n",
    "    count = {'36' : [], '49' : []}\n",
    "    for ht in ['africain', 'antisemite', 'arabe', 'capacitiste', 'chretien', 'gitan', 'miso', 'musulman']:\n",
    "        for nc in ['36', '49']:\n",
    "            with open(filename_format.format(htype=ht, n_clust=nc), \"r\") as f:\n",
    "                lines = f.read().split('\\n\\n')\n",
    "            tot, good, h, n = 0, 0, 0, 0\n",
    "            for line in lines[:-1]: \n",
    "                n_msg = int(re.findall(' (\\d*) messages' , line)[0])\n",
    "                hper = re.findall('(\\d*.\\d*)% de', line)\n",
    "                hper = float(hper[0]) if len(hper) > 0 else 0    \n",
    "                tot += n_msg\n",
    "                good += n_msg if hper >= pmax or hper <= pmin else 0\n",
    "                h += n_msg if hper >= pmax else 0\n",
    "                n += n_msg if hper <= pmin else 0\n",
    "            count[nc].append((h, n))\n",
    "    sh, sn = sum([c[0] for c in count['36']]), sum([c[1] for c in count['36']])\n",
    "    gspread['36'].append(abs(sh-sn) / (sh+sn))\n",
    "    counts['36'].append(sh + sn)\n",
    "    sh, sn = sum([c[0] for c in count['49']]), sum([c[1] for c in count['49']])\n",
    "    gspread['49'].append(abs(sh-sn) / (sh+sn))\n",
    "    counts['49'].append(sh + sn)"
   ]
  },
  {
   "cell_type": "code",
   "execution_count": 15,
   "id": "836759ec-18d7-47d7-a61d-7bc425446f36",
   "metadata": {},
   "outputs": [
    {
     "data": {
      "image/png": "[encoded data removed]",
      "text/plain": [
       "<Figure size 1224x576 with 2 Axes>"
      ]
     },
     "metadata": {
      "needs_background": "light"
     },
     "output_type": "display_data"
    }
   ],
   "source": [
    "fig, axs = plt.subplots(1, 2, figsize=(17,8))\n",
    "a = axs[0]\n",
    "b = axs[1]\n",
    "a.plot(range(1, 51), gspread['36'], label='36 clusters')\n",
    "a.plot(range(1, 51), gspread['49'], label='49 clusters')\n",
    "a.legend()\n",
    "a.set(title=\"Déséquilibre haineux / non haineux en fonction du curseur\")\n",
    "a.set_xlabel(\"Curseur\")\n",
    "a.set_ylabel(\"Déséquilibre\")\n",
    "b.plot(range(1, 51), counts['36'], label='36 clusters')\n",
    "b.plot(range(1, 51), counts['49'], label='49 clusters')\n",
    "b.set(title=\"Nombre de messages retenus en fonction du curseur\")\n",
    "b.set_xlabel(\"Curseur\")\n",
    "b.set_ylabel(\"Nombre de messages\")\n",
    "a = b.legend()"
   ]
  },
  {
   "cell_type": "markdown",
   "id": "026520ca-7b18-45e8-9619-a6eb39834dce",
   "metadata": {},
   "source": [
    "### Déterminer les clusters prometteurs et le label associé par type\n",
    "Pour la constitution du dataset final"
   ]
  },
  {
   "cell_type": "code",
   "execution_count": 16,
   "id": "31e65597-c75f-49e4-adfc-ba4e97919786",
   "metadata": {},
   "outputs": [],
   "source": [
    "filename_format = \"clusters/bert_clusters_{htype}/{htype}_bertsom49/{htype}_bertsom49_clusters_info.txt\"\n",
    "\n",
    "lab_clust_utiles_par_type = {}\n",
    "\n",
    "for ht, ft in zip(['africain', 'antisemite', 'arabe', 'capacitiste', 'chretien', 'gitan', 'miso', 'musulman'],\n",
    "                  ['afro', 'antis', 'arabe', 'capa', 'chret', 'gitan', 'miso', 'mus']):\n",
    "    with open(filename_format.format(htype=ht), \"r\") as f:\n",
    "        lines = f.read().split('\\n\\n')\n",
    "    pourcentage_haineux = {}\n",
    "    for line in lines[:-1]: \n",
    "        n_clust = int(re.findall('Cluster (\\d*)', line)[0])\n",
    "        hper = re.findall('(\\d*.\\d*)% de', line)\n",
    "        hper = float(hper[0]) if len(hper) > 0 else 0\n",
    "        if hper >= 80 or hper <= 20:\n",
    "            pourcentage_haineux[n_clust] = 1 if hper>=80 else 0 \n",
    "    lab_clust_utiles_par_type[ft] = dict(pourcentage_haineux)"
   ]
  },
  {
   "cell_type": "code",
   "execution_count": 21,
   "id": "b77f735a-7714-4858-b394-1c3bf4dfcc4c",
   "metadata": {},
   "outputs": [
    {
     "name": "stdout",
     "output_type": "stream",
     "text": [
      "afro\n",
      "Cluster 1 : non haineux\n",
      "Cluster 3 : non haineux\n",
      "Cluster 4 : haineux\n",
      "Cluster 9 : non haineux\n",
      "Cluster 11 : haineux\n",
      "Cluster 12 : haineux\n",
      "Cluster 13 : non haineux\n",
      "Cluster 16 : haineux\n",
      "Cluster 19 : haineux\n",
      "Cluster 24 : non haineux\n",
      "Cluster 29 : non haineux\n",
      "Cluster 33 : haineux\n",
      "Cluster 34 : haineux\n",
      "Cluster 44 : non haineux\n",
      "Cluster 46 : non haineux\n",
      "Cluster 48 : non haineux\n",
      "\n",
      "antis\n",
      "Cluster 1 : haineux\n",
      "Cluster 2 : haineux\n",
      "Cluster 7 : haineux\n",
      "Cluster 8 : haineux\n",
      "Cluster 13 : haineux\n",
      "Cluster 22 : haineux\n",
      "Cluster 23 : haineux\n",
      "Cluster 25 : non haineux\n",
      "Cluster 29 : haineux\n",
      "Cluster 30 : haineux\n",
      "Cluster 31 : haineux\n",
      "Cluster 32 : haineux\n",
      "Cluster 33 : haineux\n",
      "Cluster 35 : non haineux\n",
      "Cluster 42 : haineux\n",
      "Cluster 43 : haineux\n",
      "Cluster 44 : haineux\n",
      "Cluster 45 : haineux\n",
      "\n",
      "arabe\n",
      "Cluster 4 : haineux\n",
      "Cluster 5 : haineux\n",
      "Cluster 6 : haineux\n",
      "Cluster 8 : haineux\n",
      "Cluster 11 : haineux\n",
      "Cluster 14 : haineux\n",
      "Cluster 15 : haineux\n",
      "Cluster 16 : haineux\n",
      "Cluster 17 : haineux\n",
      "Cluster 18 : haineux\n",
      "Cluster 21 : haineux\n",
      "Cluster 22 : haineux\n",
      "Cluster 24 : haineux\n",
      "Cluster 25 : haineux\n",
      "Cluster 28 : haineux\n",
      "Cluster 29 : haineux\n",
      "Cluster 31 : haineux\n",
      "Cluster 32 : haineux\n",
      "Cluster 35 : non haineux\n",
      "Cluster 45 : non haineux\n",
      "Cluster 48 : haineux\n",
      "\n",
      "capa\n",
      "Cluster 0 : haineux\n",
      "Cluster 1 : haineux\n",
      "Cluster 3 : haineux\n",
      "Cluster 7 : haineux\n",
      "Cluster 8 : haineux\n",
      "Cluster 10 : haineux\n",
      "Cluster 19 : non haineux\n",
      "Cluster 21 : haineux\n",
      "Cluster 22 : haineux\n",
      "Cluster 24 : haineux\n",
      "Cluster 29 : haineux\n",
      "Cluster 31 : haineux\n",
      "Cluster 33 : haineux\n",
      "Cluster 35 : haineux\n",
      "Cluster 36 : haineux\n",
      "Cluster 38 : haineux\n",
      "Cluster 40 : haineux\n",
      "Cluster 43 : haineux\n",
      "Cluster 44 : haineux\n",
      "Cluster 47 : haineux\n",
      "Cluster 48 : haineux\n",
      "\n",
      "chret\n",
      "Cluster 1 : non haineux\n",
      "Cluster 4 : haineux\n",
      "Cluster 11 : non haineux\n",
      "Cluster 14 : non haineux\n",
      "Cluster 17 : haineux\n",
      "Cluster 19 : haineux\n",
      "Cluster 20 : non haineux\n",
      "Cluster 21 : non haineux\n",
      "Cluster 22 : non haineux\n",
      "Cluster 23 : non haineux\n",
      "Cluster 25 : haineux\n",
      "Cluster 28 : non haineux\n",
      "Cluster 29 : haineux\n",
      "Cluster 32 : non haineux\n",
      "Cluster 35 : haineux\n",
      "Cluster 39 : non haineux\n",
      "Cluster 41 : non haineux\n",
      "Cluster 47 : non haineux\n",
      "\n",
      "gitan\n",
      "Cluster 0 : non haineux\n",
      "Cluster 1 : non haineux\n",
      "Cluster 2 : non haineux\n",
      "Cluster 7 : non haineux\n",
      "Cluster 15 : non haineux\n",
      "Cluster 16 : haineux\n",
      "Cluster 18 : non haineux\n",
      "Cluster 22 : non haineux\n",
      "Cluster 23 : haineux\n",
      "Cluster 25 : non haineux\n",
      "Cluster 26 : non haineux\n",
      "Cluster 27 : haineux\n",
      "Cluster 30 : haineux\n",
      "Cluster 37 : haineux\n",
      "Cluster 42 : non haineux\n",
      "Cluster 45 : haineux\n",
      "Cluster 46 : non haineux\n",
      "Cluster 47 : non haineux\n",
      "\n",
      "miso\n",
      "Cluster 1 : haineux\n",
      "Cluster 6 : haineux\n",
      "Cluster 7 : haineux\n",
      "Cluster 8 : haineux\n",
      "Cluster 9 : haineux\n",
      "Cluster 11 : haineux\n",
      "Cluster 12 : non haineux\n",
      "Cluster 13 : haineux\n",
      "Cluster 16 : haineux\n",
      "Cluster 17 : haineux\n",
      "Cluster 18 : haineux\n",
      "Cluster 20 : haineux\n",
      "Cluster 23 : haineux\n",
      "Cluster 24 : haineux\n",
      "Cluster 25 : haineux\n",
      "Cluster 28 : non haineux\n",
      "Cluster 30 : haineux\n",
      "Cluster 31 : haineux\n",
      "Cluster 32 : haineux\n",
      "Cluster 35 : haineux\n",
      "Cluster 36 : haineux\n",
      "Cluster 38 : haineux\n",
      "Cluster 41 : non haineux\n",
      "Cluster 42 : haineux\n",
      "Cluster 43 : haineux\n",
      "Cluster 44 : haineux\n",
      "Cluster 45 : haineux\n",
      "\n",
      "mus\n",
      "Cluster 8 : non haineux\n",
      "Cluster 9 : non haineux\n",
      "Cluster 10 : non haineux\n",
      "Cluster 15 : non haineux\n",
      "Cluster 17 : non haineux\n",
      "Cluster 21 : non haineux\n",
      "Cluster 24 : non haineux\n",
      "Cluster 31 : non haineux\n",
      "Cluster 38 : non haineux\n",
      "Cluster 46 : non haineux\n",
      "\n"
     ]
    }
   ],
   "source": [
    "for htype, clusters in lab_clust_utiles_par_type.items():\n",
    "    print(htype)\n",
    "    for n, lab in clusters.items():\n",
    "        print(\"Cluster {} : {}\".format(n, \"haineux\" if lab == 1 else \"non haineux\"))\n",
    "    print()"
   ]
  },
  {
   "cell_type": "code",
   "execution_count": null,
   "id": "294833c4-b4f8-41ff-9259-4e42fb398e35",
   "metadata": {},
   "outputs": [],
   "source": []
  }
 ],
 "metadata": {
  "kernelspec": {
   "display_name": "Python 3 (ipykernel)",
   "language": "python",
   "name": "python3"
  },
  "language_info": {
   "codemirror_mode": {
    "name": "ipython",
    "version": 3
   },
   "file_extension": ".py",
   "mimetype": "text/x-python",
   "name": "python",
   "nbconvert_exporter": "python",
   "pygments_lexer": "ipython3",
   "version": "3.9.2"
  }
 },
 "nbformat": 4,
 "nbformat_minor": 5
}
