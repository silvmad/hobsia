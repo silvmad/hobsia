{
 "cells": [
  {
   "cell_type": "code",
   "execution_count": 13,
   "id": "f8a3cd1c-ac1e-4a18-9121-974a453748c0",
   "metadata": {},
   "outputs": [],
   "source": [
    "from transformers import AutoTokenizer, AutoModelForSequenceClassification\n",
    "import torch\n",
    "import random"
   ]
  },
  {
   "cell_type": "code",
   "execution_count": 14,
   "id": "8447c3e6-6a8f-4d38-a7ca-5efefe2fb3d9",
   "metadata": {},
   "outputs": [],
   "source": [
    "raw_dataset_file = \"datasets/raw_1milliontweet.txt\""
   ]
  },
  {
   "cell_type": "code",
   "execution_count": 15,
   "id": "3581dc1f-5f93-41fe-a127-5d799a316df2",
   "metadata": {},
   "outputs": [],
   "source": [
    "with open(raw_dataset_file, \"r\") as file:\n",
    "    raw_dataset = file.read().splitlines()"
   ]
  },
  {
   "cell_type": "code",
   "execution_count": 16,
   "id": "104d5a7d-7b4a-475c-a2e5-7f8af6f67404",
   "metadata": {},
   "outputs": [],
   "source": [
    "sample_size = 5000\n",
    "\n",
    "idx_list = random.sample(range(len(raw_dataset)), sample_size)\n",
    "raw_dataset = [raw_dataset[i] for i in idx_list]"
   ]
  },
  {
   "cell_type": "code",
   "execution_count": null,
   "id": "79a969f6-a7ca-4b13-96a0-5b2d38554b96",
   "metadata": {},
   "outputs": [],
   "source": [
    "#tokenizer = AutoTokenizer.from_pretrained(\"Hate-speech-CNERG/dehatebert-mono-french\")\n",
    "#model = AutoModelForSequenceClassification.from_pretrained(\"Hate-speech-CNERG/dehatebert-mono-french\")"
   ]
  },
  {
   "cell_type": "code",
   "execution_count": 4,
   "id": "81b797fe-6fd3-4bd8-8412-ede3a1615164",
   "metadata": {},
   "outputs": [],
   "source": [
    "tokenizer = AutoTokenizer.from_pretrained(\"models/dehatebert_tokenizer\")\n",
    "model = AutoModelForSequenceClassification.from_pretrained(\"models/dehatebert_model\")"
   ]
  },
  {
   "cell_type": "code",
   "execution_count": 17,
   "id": "a428472a-b0d3-43ee-897d-ac4a76508cc1",
   "metadata": {},
   "outputs": [
    {
     "name": "stdout",
     "output_type": "stream",
     "text": [
      "CPU times: user 3min 55s, sys: 105 ms, total: 3min 55s\n",
      "Wall time: 58.9 s\n"
     ]
    }
   ],
   "source": [
    "%%time\n",
    "predicted_classes_id = []\n",
    "step = 10\n",
    "max = 1000\n",
    "for i in range(0, max, step):\n",
    "    inp = tokenizer(raw_dataset[i:i+step], return_tensors='pt', padding=True, truncation=True)\n",
    "    with torch.no_grad():\n",
    "        logits = model(**inp).logits\n",
    "    predicted_classes_id += [elt.argmax().item() for elt in logits]"
   ]
  },
  {
   "cell_type": "code",
   "execution_count": 18,
   "id": "e8388f32-b9dc-4ab1-8a11-a7a05e96aab7",
   "metadata": {},
   "outputs": [
    {
     "name": "stdout",
     "output_type": "stream",
     "text": [
      "Mais tjr ps en edf 😹😹\n",
      "aaaaaah entendi\n",
      "Plus je me lève tôt plus je me prépare trop ctrop\n",
      "J'ai fait el khli3 dedans. Une vraie merveille le Creuset. Sinon, tu le sais peut être mais Staub est fabriqué au Maroc du coup ici ça coûte clopinettes.\n",
      "On dirait le sud\n",
      "oh mais elle est où yousra d'ailleurs\n",
      "j’men fou art de comparer aux gens\n",
      "MDS BH saia de campo\n",
      "dormir et toi\n",
      "wsh tu crois c le ramadan ou koi\n",
      "Son mec !\n",
      "Ah oue c'est ça maintenant la ponctualité avant les reufs\n",
      "C'est ce que je me disais mdrr, ils font tourner un globe et ils disent un pays au pif\n",
      "J’avais jamais fait gaffe\n",
      "faut voir comment jsuis sale malade un déchet humain wsh\n",
      "Ok ok je retiens\n",
      "Eh jvous jure j’ai chialé pttnnnn, j’ai un billet à prendre bordel\n",
      "Je pref sa soeur\n",
      "En mode tu dégoûte de baiser des coussins surtout\n",
      "Tu tfou d’ma gueule ?\n",
      "mais jtj que des folles esh\n",
      "peuples en période de guerre) il devra alors attendre 1 mois pour qu’elle devienne sa FEMME (donc consentement). Et ensuite si l’Islam considérait les esclaves comme éternellement esclaves alors pourquoi plus loin dans le verset 36 il est dit 4/6\n",
      "Mais frr le macaron c la pâtisserie chère pour rien mais totalement inutile en goût ya 1000 fois mieux\n",
      "Ko tout les africains son Joli donc les Congolais et les camerounais ils sont pas en Afrique quoi😒😒\n",
      "violer 400 joueurs de foot hein\n",
      "Pleure et dégage de Twitter wlh en 2014 2015 2016 2017 2018 c'est sois le Barça sois le real sois latm que d équipe espagnole alors ftg\n",
      "je vends mes moules guy de marle, ils sont en très bon état (le lot à 100€) https://t.co/hKS5XZhzOq\n",
      "mon deuxième roux pref https://t.co/WrTS75eSgl\n",
      "Vives préoccupations des Nations-Unies sur les expulsions des femmes enceintes d’origine haïtienne de la République Dominicaine https://t.co/CBEZPUWb4Y via\n",
      "C’est une dinguerie https://t.co/K9esWrZlSM\n",
      "le malefique,malefice,mal amy reid c'est moi contact lez pour savoir et decouvrir tout ce que vous voulez savoir maintenant jusque dans 100ans et dans 100ans et tout les 100ans et maintenant jusque il y a 100ans de ca je suis flament sebastian a mingoval en france\n",
      "Grand moment de #wokisme :« Qu’ont été les européens de l’ouest avant d’être des blancs » !😳« La culture coloniale (?) a privé les occidentaux de rapport à leur corps ».😜« Un blanc qui joue du djembe sans avoir appris c’est raciste et colonial ».🤦🏻‍♂️🤦🏻‍♂️ https://t.co/TNtZaGpaDr\n",
      "ptdrrrrrr 😭😭\n",
      "aujourd'hui je suis tombée qu'avec des mecs qui feed et ensuite se plaignent quand tu te fais enculer 👍🏼👍🏼\n",
      "Spiderman sors avant....\n",
      "J’arrive à 21h pour t’insulter\n",
      "Mds q xaveeee valeu demais\n",
      "Sale charla?😏😂\n",
      "Ça u est il a ramené la kpop, jetez le 😭😭😭\n",
      "Non archer\n",
      "Mdr bienvenue dans le monde du travail, mais je sais pas si tu as remarqué ou tu es d'accord mais généralement ça viens tjr des filles mdrr je sais pas pk mais les conflits cest surtout entre meufs pour des pb d'ego\n",
      "mon dos est FOUTU j'ai ecris 7 pages\n",
      "Très bonne relation entre nos deux pays toujours intact grâce à notre souverain santé et longue vie inchaalah\n",
      "Enfin on dirait parcequ’elle est turc (les commentaires)\n",
      "mds tu n sabe comer sem refri ne scrrrr\n",
      "marilou repose sous la neige\n",
      "Musée moche !!\n",
      "Plagiat surtour\n",
      "La balade la femelle sur ce terrain top🔥\n",
      "J'adorerais !\n",
      "C’est beau vous êtes hébergés par la mm team en virginie\n",
      "mds a aline ficou achei q ia sair\n",
      "c'est mon daron\n",
      "#BNB #airdrop 0x5F0CF5c0Bb142e54Ff9D37AcB4b7367DD7471338\n",
      "Butifarrers es el que sou, butiflers, botiflers\n",
      "Petite chenille de Machaon qui grignote des fleurs de fenouil. 🐛🌱 https://t.co/taug7OKaSi\n",
      "So cuuute I love it (histoire de refermer ce cercle de se tagger les unes et les autres mdrrr)\n",
      "Mais de ouf j’ai même acheté son maillot…\n",
      "La fille du labo un peu gothique ça ne vous rappelle rien ?\n",
      "Prochaine meuf avec qui je me pose elle va porter mon nom cette grosse connasse c’est bon\n",
      "wsh l'ancienne\n",
      "😂😂😂😂 super à retenir pour souccot 2022 l'auto-cabane 🤣🤣🤣🤣 https://t.co/kGcxoKQcgl\n",
      "Fit foi braba dmais pprt\n",
      "Dois rachadores. 💰💰💰\n",
      "sore cantiqu1461299339909902337\n",
      "Sahara occidental [3/5]: l'hôpital national de Rabouni face aux pénuries - https://t.co/E6MDnWmBnP https://t.co/OdxwpoX9ou\n",
      "J’en ai marre sayez\n",
      "nanti aing confes pake au\n",
      "Le boug il a cru qu'il allait devenir musulmans ou c comment\n",
      "1400€ le mois merde les grosses boites de recrutement faites quelque chose pour Molina\n",
      "t'inquiète je suis fière de mon attestation\n",
      "fais du violet ? xd\n",
      "🤷🏼‍♂️ + regarde le ref ahahah\n",
      "ki joki bordeaux\n",
      "Ptit malaise 🔥🙌🏾 https://t.co/7Whx8gKaxW\n",
      "J’ai oublier de me reveiller merde\n",
      "Apporter un détecteur de mensonge sur le plateau #illan\n",
      "jsuis a la retraite imo 🥱\n",
      "Arrest lacazette!!\n",
      "Alors, prêts pour la dernière saison en VF ? Kyojin en sale état. https://t.co/a90AkCUezd\n",
      "C'est le panoptique ! https://t.co/FD4SXugqIv\n",
      "Enzo viens ce week-end stp je dois racheter du lait\n",
      "bombaclatt\n",
      "aïe mskn il prendra un tabouret\n",
      "Je hais qu’on me dise je t’aime au téléphone avant de raccrocher mdr\n",
      "Dijous me toque els ous\n",
      "hola chiqui\n",
      "PTDRRRRR Ferland mendy dans la sauce\n",
      "mdr je vois ma table de chevet je chiale il me manque\n",
      "J’ouvre mon oasis jvois sa fait tshiipp et sa pétille allez hop poubelle.\n",
      "dime tu dime tu\n",
      "Tt ca c a cause de zemmour\n",
      "Ça l'air cool tu lis ça ou ?\n",
      "mds a micagem\n",
      "vote 4 gaules https://t.co/BZKaJrfjsi\n",
      "Ah ouais ?\n",
      "merci bcp mon gars!\n",
      "kacian aul\n",
      "Grosse force mon reuf\n",
      "Mdrrr on rentra ensemble tqtt haha\n",
      "Vous avez peter un casque\n",
      "Jppppppppp ça me fume il a touché pile !\n",
      "Un peu raciste mais je ferme les yeux\n",
      "Eh Aladin arrête de répondre aux tweets de sarah et lâcher des gros remis tfou\n",
      "c’est aps question de respect? on doit respecter les racistes mnt?🧍🏾‍♀️ ok bye #SPACEAFROOO\n",
      "Wtf bos….. dlm ofis?)???\n",
      "ptdrrrr mais oui carrément\n",
      "hola non\n",
      "jpp ce soir jsuis la psy d’un gars que je connais pas du tt ça me termine\n",
      "en parlant du drapeau j'ai croisé un fr sur genshin je lui ai demandé il en pensait quoi il a dit \"je m'en blc je suis daltonien\" pck askip il voit le bleu en vert donc ça change r, le boug est italien par daltonisme\n",
      "Ptdr honteuse\n",
      "j’adore ça\n",
      "jtm sterennou\n",
      "Je vais relire un Zola ce soir\n",
      "C'est un ga humble\n",
      "Un érudit, un résistant à la domination française,son histoire doit être enseigné dans nos écoles, mais n'oublions pas,la complicité de certains africains, qui par jalousie ont aidés pour sa déportation.\n",
      "Ptdrrrrr mais t'as Snoopy en pp sale débile https://t.co/7LGHZw0riX\n",
      "L'espérance dans la sauce mdrrr\n",
      "jamais je ne céderai face à la barbarie\n",
      "Revue de presse du 18.11.2021#opium #samu #trump #lr #primaires #suisse #momie https://t.co/LkeKyvnuyB\n",
      "En tt cas molina il a pris ses abonnés il est bon\n",
      "IL FAUT SAUVER LE CHEVAL CABRÉ AU ROND POINT DE LA RTS ! La RTS, la BHS suffiraient, en alliant leurs efforts, pour restaurer cette place devenue humiliante pour Dakar ! amadou lamine sall. #Kebetu #Senegal https://t.co/xKss8akhqb\n",
      "C'est monumental putain\n",
      "J’me souviens d’un reportage où Douk Saga disait que quand t’étais une meuf il fallait avoir un appart et une voiture pour faire partie de la jet set ivoirienne 🤣 en gros une bonne vache à lait.\n",
      "Paypa route empire 4L RIP dolph\n",
      "Vous servez à rien bandes d inutiles à part foutre des prunes à des pignioufs pour non port du masque et controler des pass S dites moi la gestapo nationale à quoi servezvous reellement? Fidèle à vous meme comme en 40😅😅 pour toutes plaintes jai du pognon pour humilier les juges https://t.co/cCW4yRT6X7\n",
      "jsp pq dans ma tête t’étais des antilles\n",
      "on s’en tape y’a moligoat\n",
      "Un de mes profs qui a genre la trentaine, il est là à flex avec sa Tesla et à pécho des élèves, vas y ça dégoûte\n",
      "Ptdrrr continue a tiré sur le psg mon gars on stream fort la\n",
      "J’espère juste ya un bon replay\n",
      "Ho je suis mort ça te connaît plus pour ton levage de coude que pour ton taf sur PistonsFrance mdrrr\n",
      "Gros ça va être le meilleur Opening de l’histoire sayez ils vont le sublimer en plus yaura les Mugi qui ont rejoint entre temps\n",
      "PCF has sponsor 1 milli ohh\n",
      "kai a fashion icon https://t.co/pqjFice7gt\n",
      "Je me suis taper un fou rire mes joues me font mal carrément\n",
      "Les deputés invertebrés de cette pityoble AN vont l voter....Aucun espoir aux politiciens congolais ,c la classe la plus mediocre de la RDC cfr cette image https://t.co/2k74CAHqKz\n",
      "Weii ade voucher ke?😭😭😭😭\n",
      "gf !!! la plus mignonne https://t.co/bxIJHG6Yhn\n",
      "je vais venir en louis avec le orlando hop là\n",
      "Tu seras invité Vuitton ? https://t.co/O1EgWiklGl\n",
      "Donc tu viens sur internet pour voir des fesses mdrrr ?\n",
      "baton de creme\n",
      "ya une meuf qui vient de m’arrêter dans la gare pour me demander d’où venait ma doudoune je me sens comme une fashionista!!!!\n",
      "Les gaufres c'était le même prix bandes d'assassins\n",
      "chisme chisme chisme\n",
      "HAHAH amiiin 😂 makaci Aisss\n",
      "les frères muslim qui te défendent dans la rue sans que t’ai besoin de leur demander 🥲🥲🥲 vous êtes dans mon coeur\n",
      "ciao amica taekooker dement4 come me 😌\n",
      "vos mas brune t adoro\n",
      "C'est comme Soral mais avec du foot à la place des sionistes\n",
      "Yaya toure aussi allez oui et qui d’autre ?\n",
      "crop satu2 pake 1:1\n",
      "Vinci a refuser d’ouvrir les portes de leurs chantiers au commission d’enquête mais hamdulah c’est les méchant musulman arap qui exploitent\n",
      "j'v mettre le congo en tn juste pour monter et tacler munyal sah j'ai la haine contre elle\n",
      "Bravo les antillaises et caribéennes 🥺🥰\n",
      "t’es moche sah à ta place j’me tairais\n",
      "157 messages haineux sur 1000\n"
     ]
    }
   ],
   "source": [
    "n = 0\n",
    "for i, msg in enumerate(raw_dataset[:max]):\n",
    "    if (predicted_classes_id[i] == 1):\n",
    "        print(msg)\n",
    "        n += 1\n",
    "print(\"{} messages haineux sur {}\".format(n, max))"
   ]
  },
  {
   "cell_type": "code",
   "execution_count": 21,
   "id": "eba68230-cfd5-44b9-a6dc-200ff3d96ac0",
   "metadata": {},
   "outputs": [
    {
     "data": {
      "text/plain": [
       "'HATE'"
      ]
     },
     "execution_count": 21,
     "metadata": {},
     "output_type": "execute_result"
    }
   ],
   "source": [
    "model.config.id2label[1]"
   ]
  },
  {
   "cell_type": "code",
   "execution_count": null,
   "id": "548d47ef-305c-43e3-8b42-69703fdaf806",
   "metadata": {},
   "outputs": [],
   "source": []
  }
 ],
 "metadata": {
  "kernelspec": {
   "display_name": "Python 3 (ipykernel)",
   "language": "python",
   "name": "python3"
  },
  "language_info": {
   "codemirror_mode": {
    "name": "ipython",
    "version": 3
   },
   "file_extension": ".py",
   "mimetype": "text/x-python",
   "name": "python",
   "nbconvert_exporter": "python",
   "pygments_lexer": "ipython3",
   "version": "3.9.2"
  }
 },
 "nbformat": 4,
 "nbformat_minor": 5
}
