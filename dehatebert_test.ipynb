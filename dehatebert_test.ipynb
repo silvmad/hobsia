{
 "cells": [
  {
   "cell_type": "markdown",
   "id": "7b03d136-7bad-473f-8bc4-fc3d8f495e72",
   "metadata": {},
   "source": [
    "### Imports et initialisations"
   ]
  },
  {
   "cell_type": "code",
   "execution_count": 1,
   "id": "aeec8234-51ce-4a34-8cbf-0a02f698f4c8",
   "metadata": {},
   "outputs": [],
   "source": [
    "from transformers import AutoTokenizer, AutoModelForSequenceClassification\n",
    "import torch\n",
    "import random"
   ]
  },
  {
   "cell_type": "code",
   "execution_count": 14,
   "id": "8447c3e6-6a8f-4d38-a7ca-5efefe2fb3d9",
   "metadata": {},
   "outputs": [],
   "source": [
    "#raw_dataset_file = \"clusters/1M_Std_clusters/som_400/som_400_cluster_349_raw_msg.txt\"\n",
    "raw_dataset_file = \"datasets/haine2022_oversampling_africain.txt\""
   ]
  },
  {
   "cell_type": "markdown",
   "id": "adb071e4-dbab-4220-b506-9826985fd7ab",
   "metadata": {},
   "source": [
    "### Chargement des données"
   ]
  },
  {
   "cell_type": "code",
   "execution_count": 25,
   "id": "0bf20469-1a48-4420-b99a-d88a2c1fe9c3",
   "metadata": {},
   "outputs": [],
   "source": [
    "with open(raw_dataset_file, \"r\") as file:\n",
    "    raw_dataset = file.read().splitlines()"
   ]
  },
  {
   "cell_type": "code",
   "execution_count": 26,
   "id": "104d5a7d-7b4a-475c-a2e5-7f8af6f67404",
   "metadata": {},
   "outputs": [],
   "source": [
    "sample_size = 30\n",
    "\n",
    "idx_list = random.sample(range(len(raw_dataset)), sample_size)\n",
    "raw_dataset = [raw_dataset[i] for i in idx_list]"
   ]
  },
  {
   "cell_type": "markdown",
   "id": "786ef2fa-89db-45e3-8af9-10f6fcc6688d",
   "metadata": {},
   "source": [
    "### Chargement du modèle et classification des données"
   ]
  },
  {
   "cell_type": "code",
   "execution_count": null,
   "id": "eb8d6135-a059-4f3c-8a34-47cf0b90d9aa",
   "metadata": {},
   "outputs": [],
   "source": [
    "#tokenizer = AutoTokenizer.from_pretrained(\"Hate-speech-CNERG/dehatebert-mono-french\")\n",
    "#model = AutoModelForSequenceClassification.from_pretrained(\"Hate-speech-CNERG/dehatebert-mono-french\")"
   ]
  },
  {
   "cell_type": "code",
   "execution_count": null,
   "id": "81b797fe-6fd3-4bd8-8412-ede3a1615164",
   "metadata": {},
   "outputs": [],
   "source": [
    "tokenizer = AutoTokenizer.from_pretrained(\"models/dehatebert_tokenizer\")\n",
    "model = AutoModelForSequenceClassification.from_pretrained(\"models/dehatebert_model\")"
   ]
  },
  {
   "cell_type": "code",
   "execution_count": 30,
   "id": "71f8818d-749b-449c-a88e-894d280353fb",
   "metadata": {},
   "outputs": [
    {
     "name": "stdout",
     "output_type": "stream",
     "text": [
      "CPU times: user 7.34 s, sys: 5.81 ms, total: 7.35 s\n",
      "Wall time: 1.84 s\n"
     ]
    }
   ],
   "source": [
    "%%time\n",
    "#en cas de pb de mémoire\n",
    "predicted_classes_id = []\n",
    "step = 10\n",
    "max = 30\n",
    "for i in range(0, max, step):\n",
    "    inp = tokenizer(raw_dataset[i:i+step], return_tensors='pt', padding=True, truncation=True)\n",
    "    with torch.no_grad():\n",
    "        logits = model(**inp).logits\n",
    "    predicted_classes_id += [elt.argmax().item() for elt in logits]"
   ]
  },
  {
   "cell_type": "code",
   "execution_count": 27,
   "id": "6bddd43f-fab9-48b3-94d9-b674423cc615",
   "metadata": {},
   "outputs": [
    {
     "name": "stdout",
     "output_type": "stream",
     "text": [
      "CPU times: user 8.45 s, sys: 6.34 ms, total: 8.46 s\n",
      "Wall time: 2.17 s\n"
     ]
    }
   ],
   "source": [
    "%%time\n",
    "predicted_classes_id = []\n",
    "inp = tokenizer(raw_dataset, return_tensors='pt', padding=True, truncation=True)\n",
    "with torch.no_grad():\n",
    "    logits = model(**inp).logits\n",
    "predicted_classes_id += [elt.argmax().item() for elt in logits]"
   ]
  },
  {
   "cell_type": "markdown",
   "id": "a5105b05-e142-4833-9baf-2f513214152f",
   "metadata": {},
   "source": [
    "### Regroupement des messages par classe"
   ]
  },
  {
   "cell_type": "code",
   "execution_count": 33,
   "id": "ebf2f61c-a3c1-423e-a2d5-0787e14b05a0",
   "metadata": {},
   "outputs": [
    {
     "name": "stdout",
     "output_type": "stream",
     "text": [
      "11 messages haineux sur 30\n"
     ]
    }
   ],
   "source": [
    "n = 0\n",
    "haineux = []\n",
    "non_haineux = []\n",
    "for i, msg in enumerate(raw_dataset):#[:max]):\n",
    "    if (predicted_classes_id[i] == 1):\n",
    "        haineux.append(msg)\n",
    "        n += 1\n",
    "    else :\n",
    "        non_haineux.append(msg)\n",
    "print(\"{} messages haineux sur {}\".format(n, len(raw_dataset)))"
   ]
  },
  {
   "cell_type": "markdown",
   "id": "af21d733-1d94-4958-a2bd-10ae8b4900ba",
   "metadata": {},
   "source": [
    "#### Les messages classifiés comme haineux\n",
    "- 2 messages litigieux\n",
    "- 5 faux positifs\n",
    "- 4 messages réellement haineux"
   ]
  },
  {
   "cell_type": "code",
   "execution_count": 34,
   "id": "03d88df6-3e26-4c7b-a0f9-a7825c5e942e",
   "metadata": {},
   "outputs": [
    {
     "name": "stdout",
     "output_type": "stream",
     "text": [
      "Raf sale noir\n",
      "Bah le babouin\n",
      "Mdrr j’en ai lu des choses d’une hypocrisie totale mais la Arabe de Service n’a ps été dis pour moquer le fait d’être arabe, mais bien par l’utilisation de son origine comme justification d’un racisme inexistant dans la police, en gros « j’ai un Ami noir je suis ps raciste »\n",
      "purée ce sale noir de Kevin mtn, y en a MARRE\n",
      "T as oublié le pouce de nègre frère\n",
      "Mais les #habitants de #SaintYrieix en #Limousin s'appellent toujours les cuou negre, les culs noirs ! comme leurs cochons #occitan #vocabulaire #Rabelais disait que c'étaient des mâche-raves ! cuou negre c'est plus chic ! #Limousin\n",
      "Vous respectez personnes et vous ça vous fait buguer totale qu'une personne soit objective, arabes ou noire. C'est vous les raciste finalement. Et vous arrivez encore a renversé la situation, comparé Linda kebab au negre de maison... Vous êtes ridicule.\n",
      "\"C'eeeest noir !! Tu sais même pas laver un sol espèce de sale zinzin !!\" (on te dit ça)Et toi tu frottes ce connard de sol tous les matins !! Et tous les soirs, les deux mêmes claques. Au début tu redécouvres ton côté animal, au fil du temps tu t'éteins\n",
      "mdrrr tu dis ça parce qu’il a une pp avec un homme noir sale raciste ?\n",
      "Tg sale noir\n",
      "Planque toi petit trou duc si je t attrape tu vas prendre très cher dans ta gueule de macaque\n"
     ]
    }
   ],
   "source": [
    "for h in haineux: print(h)"
   ]
  },
  {
   "cell_type": "markdown",
   "id": "0a510004-58a7-4989-9544-dc50f565dd61",
   "metadata": {},
   "source": [
    "#### Les messages classifiés comme non haineux\n",
    "- deux messages litigieux\n",
    "- le reste réellement non haineux"
   ]
  },
  {
   "cell_type": "code",
   "execution_count": 36,
   "id": "9dc8a619-9232-4076-9f00-3cdc0cada96d",
   "metadata": {},
   "outputs": [
    {
     "name": "stdout",
     "output_type": "stream",
     "text": [
      "Des enfants sur Twitter ?\n",
      "Caucasien ou négroïde?\n",
      "je vais m’occuper de son cas\n",
      "Ça fait des décennies que plus personne n'emploie le mot nègre dans la vie mais quand ça devient la norme dans la littérature c'est de la faute du wokisme. Heureusement qu'on peut encore dire gros cons au\n",
      "Jake Lamar: «Eliminer le mot “nègre” des œuvres de William Faulkner n’aurait aucun sens!»https://t.co/7z0BfW2n6h\n",
      "Insupportable ces publicités qui prônent le métissage. Et dans 95% des cas c'est un congoïde avec une caucasoïde\n",
      "l'origine de la personne mais sa fonction dans le groupe : la caution morale d'un groupe problématique dans son fonctionnement, au même titre qu'on parle de nègre pour parler d'un auteur qui écrit pour quelqu'un d'autre. Il n'est évidemment pas forcément noir.\n",
      "comme « Xbox has no games » je te propose de te racheter cette horrible monolithe noir aux couleurs de cet horrible jeu qu’est halo… ok? C’est un bon service rendu de ma part.\n",
      "Quand on ne connaît on se tait et on demande.Prendre l'Ukraine n'est pas et n'a jamais été dans l'agenda de Poutine.Quand on veut analyser les relations internationales on se départit de toute émotivité de peur de donner raison à Senghor pour qui l'émotion est nègre\n",
      "la vidéo serait du fan made, ce qui confirme mes doutes, Pascal Nègre n'a rien posté et en principe c'est lui le 1er, les images de Farmer ne la mettent pas en valeur. Sur une ça lui fait un cou horrible. par hasard c'est les noms en rumeur, donc prudence\n",
      "Sa peut être une truc de ouf\n",
      "Le Figaro: Le wokisme a encore frappé : Le Nègre de Narcisse de Conrad devient Les Enfants de la mer.https://t.co/aogw4sV8B9via\n",
      "Arrête le repos… 😂\n",
      "Je suis à 5mn et 11s du premier épisode de la série de mais je suis déjà éclaté au sol 😂😂😂\n",
      "Fallait pas nous traiter de race inférieur n’est ce pas Hitler ?\n",
      "Il se trouve fort ce macaque, chance pour la France , devant une faible femme !\n",
      "😭😭😭 Macaque redemption arc when 😥\n",
      "Non seulement votre réponse est idiote mais en plus avec des fautes à tous les mots .. évitez en plus les petites phrases racistes .. les toi comprendre à la Banania\n",
      "Belle #promo sur le maillot away de West Bromwich Albion ! 🦜Il passe à 38€ sur la boutique officielle, avec flocage à 17€ et patchs à 9€.Noir et rouge avec les patchs et le flocage il est trop efficace ! 🤌Juste ici 👉\n"
     ]
    }
   ],
   "source": [
    "for n in non_haineux: print(n)"
   ]
  },
  {
   "cell_type": "code",
   "execution_count": 21,
   "id": "51b4174b-0461-4fac-924d-cd4c209da7fe",
   "metadata": {},
   "outputs": [
    {
     "data": {
      "text/plain": [
       "'HATE'"
      ]
     },
     "execution_count": 21,
     "metadata": {},
     "output_type": "execute_result"
    }
   ],
   "source": [
    "model.connon_haineux.id2label[1]"
   ]
  },
  {
   "cell_type": "code",
   "execution_count": null,
   "id": "548d47ef-305c-43e3-8b42-69703fdaf806",
   "metadata": {},
   "outputs": [],
   "source": []
  }
 ],
 "metadata": {
  "kernelspec": {
   "display_name": "Python 3 (ipykernel)",
   "language": "python",
   "name": "python3"
  },
  "language_info": {
   "codemirror_mode": {
    "name": "ipython",
    "version": 3
   },
   "file_extension": ".py",
   "mimetype": "text/x-python",
   "name": "python",
   "nbconvert_exporter": "python",
   "pygments_lexer": "ipython3",
   "version": "3.9.2"
  }
 },
 "nbformat": 4,
 "nbformat_minor": 5
}
