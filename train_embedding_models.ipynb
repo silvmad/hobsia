{
 "cells": [
  {
   "cell_type": "code",
   "execution_count": 10,
   "id": "17deb799-029e-4828-9287-ff97d293eecc",
   "metadata": {},
   "outputs": [],
   "source": [
    "import numpy as np\n",
    "from gensim.models import Word2Vec\n",
    "from gensim.models import Doc2Vec\n",
    "from gensim.models.doc2vec import TaggedDocument\n",
    "from gensim.models import KeyedVectors"
   ]
  },
  {
   "cell_type": "code",
   "execution_count": 4,
   "id": "5837867b-137d-4c77-bc7c-92c2d1dc02d0",
   "metadata": {},
   "outputs": [],
   "source": [
    "clean_dataset_file = \"datasets/clean_1milliontweet.txt\""
   ]
  },
  {
   "cell_type": "markdown",
   "id": "1533e8ce-414b-423b-bcb4-5f14cb7b0a0c",
   "metadata": {},
   "source": [
    "## Modèles word2vec\n",
    "\n",
    "### Entraînement"
   ]
  },
  {
   "cell_type": "code",
   "execution_count": 3,
   "id": "cfa95f12-c257-4f9f-82fe-6e65581bfbf8",
   "metadata": {},
   "outputs": [],
   "source": [
    "%%time \n",
    "model = Word2Vec(corpus_file=clean_dataset_file, vector_size=100, window=5, min_count=2, workers=8, sg=1)"
   ]
  },
  {
   "cell_type": "code",
   "execution_count": 4,
   "id": "332db7f3-a1c0-4490-9474-b4ccaca2a2c1",
   "metadata": {},
   "outputs": [],
   "source": [
    "%%time \n",
    "model_200 = Word2Vec(corpus_file=clean_dataset_file, vector_size=200, window=5, min_count=2, workers=8, sg=1)"
   ]
  },
  {
   "cell_type": "code",
   "execution_count": 5,
   "id": "bf7a66d0-187c-4205-a454-ac759e4f11d7",
   "metadata": {},
   "outputs": [
    {
     "name": "stdout",
     "output_type": "stream",
     "text": [
      "CPU times: user 10min 37s, sys: 2.91 s, total: 10min 40s\n",
      "Wall time: 1min 54s\n"
     ]
    }
   ],
   "source": [
    "%%time \n",
    "model_300 = Word2Vec(corpus_file=clean_dataset_file, vector_size=300, window=5, min_count=2, workers=8, sg=1)"
   ]
  },
  {
   "cell_type": "markdown",
   "id": "3915b291-fff0-40b6-bb4f-f149b976d07e",
   "metadata": {},
   "source": [
    "### Sauvegarde des modèles"
   ]
  },
  {
   "cell_type": "code",
   "execution_count": 6,
   "id": "229d24a0-3a7a-4102-94f3-9e3a30b19c5a",
   "metadata": {},
   "outputs": [],
   "source": [
    "wv = model.wv\n",
    "wv.save(\"models/w2vec_model_d100_1M\")"
   ]
  },
  {
   "cell_type": "code",
   "execution_count": 7,
   "id": "81f68679-1f97-46b7-98ad-65917e7dbe31",
   "metadata": {},
   "outputs": [],
   "source": [
    "wv = model_200.wv\n",
    "wv.save(\"models/w2vec_model_d200_1M\")"
   ]
  },
  {
   "cell_type": "code",
   "execution_count": 8,
   "id": "56244097-b9c8-43af-8e71-d6f0f591d6de",
   "metadata": {},
   "outputs": [],
   "source": [
    "wv = model_300.wv\n",
    "wv.save(\"models/w2vec_model_d300_1M\")"
   ]
  },
  {
   "cell_type": "markdown",
   "id": "7a9846c4-3143-4675-9538-9a5a02288afe",
   "metadata": {},
   "source": [
    "## Modèle doc2vec\n",
    "\n",
    "### Préparation des données"
   ]
  },
  {
   "cell_type": "code",
   "execution_count": 7,
   "id": "ea9b7795-f735-4953-a98a-9c2dfe1f3b29",
   "metadata": {},
   "outputs": [],
   "source": [
    "with open(clean_dataset_file, \"r\") as file:\n",
    "    lines = file.readlines()\n",
    "    \n",
    "clean_data = [line.split() for line in lines]\n",
    "\n",
    "doc_data = [TaggedDocument(words=data, tags=[i]) for i, data in enumerate(clean_data)]"
   ]
  },
  {
   "cell_type": "markdown",
   "id": "7e0d2c4f-8a92-4279-833f-9f27aa97b818",
   "metadata": {},
   "source": [
    "### Entraînement"
   ]
  },
  {
   "cell_type": "code",
   "execution_count": 8,
   "id": "6b3cb30f-8d5e-4ca8-9467-014da0c8d706",
   "metadata": {},
   "outputs": [
    {
     "name": "stdout",
     "output_type": "stream",
     "text": [
      "CPU times: user 8min 26s, sys: 1min 9s, total: 9min 36s\n",
      "Wall time: 6min 39s\n"
     ]
    }
   ],
   "source": [
    "%%time\n",
    "\n",
    "doc2v_model = Doc2Vec(doc_data, vector_size=50, min_count=2, epochs=10)"
   ]
  },
  {
   "cell_type": "markdown",
   "id": "0f42805e-c08c-4e2b-9cd8-0eeef5a71442",
   "metadata": {},
   "source": [
    "### Sauvegarde"
   ]
  },
  {
   "cell_type": "code",
   "execution_count": 9,
   "id": "5aec12d9-21db-41fe-95ef-d00bfe66b994",
   "metadata": {},
   "outputs": [],
   "source": [
    "doc2v_model.save('doc2v_model_oversample')"
   ]
  },
  {
   "cell_type": "markdown",
   "id": "8b6882bd-89e2-4b5a-b49a-2b99b27c4516",
   "metadata": {},
   "source": [
    "## Exemple d'utilisation"
   ]
  },
  {
   "cell_type": "code",
   "execution_count": 6,
   "id": "ac7c7999-391b-41f5-ac17-8ee8de9d6802",
   "metadata": {},
   "outputs": [],
   "source": [
    "w2v_100d_model = KeyedVectors.load(\"models/w2vec_model_d100_1M\")\n",
    "model_dim = 100"
   ]
  },
  {
   "cell_type": "code",
   "execution_count": 7,
   "id": "080f9d56-585c-442d-abf4-4a6ba2dbb569",
   "metadata": {},
   "outputs": [],
   "source": [
    "# Encode un message.\n",
    "# msg : liste de chaînes de caractères correspondant aux mots du message\n",
    "# model : le modèle utilisé pour l'encodage\n",
    "# dim : la dimension des vecteurs mots dans ce modèle\n",
    "# Renvoie un vecteur qui est la moyenne de tous les vecteurs correspondants aux mots du message\n",
    "# Si aucun mot du message n'est dans le modèle, renvoie un vecteur de zéros.\n",
    "def encode(msg, model, dim):\n",
    "    return np.mean([model[word] for word in msg if word in model] or [np.zeros(dim)], axis = 0)"
   ]
  },
  {
   "cell_type": "code",
   "execution_count": 49,
   "id": "de071b97-1d45-4277-b7cf-3f432bd4e076",
   "metadata": {},
   "outputs": [
    {
     "data": {
      "text/plain": [
       "array([ 4.18351516e-02, -3.00552994e-02,  2.93862492e-01, -3.22550237e-01,\n",
       "        5.67456722e-01, -3.53782058e-01,  6.20573759e-04,  8.60297233e-02,\n",
       "       -1.15959801e-01, -2.19277292e-01,  4.27981466e-02, -1.07317016e-01,\n",
       "       -9.58199203e-02,  7.21499473e-02,  2.75918841e-01, -2.22999305e-02,\n",
       "        3.32399011e-01, -3.17189880e-02, -3.35851997e-01, -1.76247358e-01,\n",
       "       -1.28344111e-02, -1.09718651e-01, -4.38710690e-01, -4.01031561e-02,\n",
       "       -1.23104177e-01,  2.94926643e-01, -4.17810678e-01, -1.66892141e-01,\n",
       "       -5.40134430e-01, -2.85382941e-02,  4.30060804e-01, -1.78062543e-01,\n",
       "       -1.87055111e-01, -5.38300157e-01,  2.41067857e-02,  1.73097700e-01,\n",
       "        1.64522097e-01,  2.74127841e-01,  9.55908373e-02, -4.62221682e-01,\n",
       "        2.32840717e-01, -3.88882101e-01, -3.06208700e-01,  1.65211111e-01,\n",
       "        3.99650335e-01,  2.25923762e-01, -1.10780224e-01,  5.52508235e-03,\n",
       "        1.28892869e-01,  2.55674630e-01,  5.34657463e-02, -5.20176888e-02,\n",
       "       -7.70943537e-02, -1.68510929e-01, -2.84271538e-01,  2.09415108e-01,\n",
       "        2.91512311e-01, -6.32457137e-02,  4.13774192e-01,  3.61109793e-01,\n",
       "       -9.43556428e-02,  2.93041646e-01,  3.35970998e-01,  1.59100741e-01,\n",
       "       -9.34155807e-02,  3.91514003e-01,  3.12332287e-02, -1.50042027e-01,\n",
       "       -1.43172190e-01, -6.42080382e-02, -1.05146557e-01,  1.00911543e-01,\n",
       "        6.81315875e-03, -8.07490870e-02,  3.11837316e-01,  1.54168621e-01,\n",
       "        2.53567576e-01, -1.25357524e-01, -1.37967870e-01, -2.51366496e-01,\n",
       "       -2.09942311e-01, -1.69617891e-01, -3.87151957e-01,  1.51331112e-01,\n",
       "       -2.43480623e-01, -7.72106946e-02,  6.83664978e-02,  2.04856582e-02,\n",
       "        2.27483541e-01,  9.44501609e-02,  1.50753036e-01,  2.62935907e-01,\n",
       "       -1.17300451e-01,  3.41683418e-01,  2.43544221e-01,  2.30482236e-01,\n",
       "       -2.13324964e-01, -7.35453442e-02, -5.61929047e-02, -3.27892601e-04],\n",
       "      dtype=float32)"
      ]
     },
     "execution_count": 49,
     "metadata": {},
     "output_type": "execute_result"
    }
   ],
   "source": [
    "phrase = \"Mon tailleur est riche\".split()\n",
    "\n",
    "encode(phrase, w2v_100d_model, model_dim)"
   ]
  },
  {
   "cell_type": "code",
   "execution_count": null,
   "id": "c604c182-2bd4-4c4d-8cff-990659f5a448",
   "metadata": {},
   "outputs": [],
   "source": []
  }
 ],
 "metadata": {
  "kernelspec": {
   "display_name": "Python 3 (ipykernel)",
   "language": "python",
   "name": "python3"
  },
  "language_info": {
   "codemirror_mode": {
    "name": "ipython",
    "version": 3
   },
   "file_extension": ".py",
   "mimetype": "text/x-python",
   "name": "python",
   "nbconvert_exporter": "python",
   "pygments_lexer": "ipython3",
   "version": "3.9.2"
  }
 },
 "nbformat": 4,
 "nbformat_minor": 5
}
