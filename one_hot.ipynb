{
 "cells": [
  {
   "cell_type": "markdown",
   "id": "651bf326-5035-41e0-8990-da7107fb3a90",
   "metadata": {},
   "source": [
    "### Imports et initialisations"
   ]
  },
  {
   "cell_type": "code",
   "execution_count": 3,
   "id": "8a0e96bd-8643-475a-8c1c-2bbcc7f6e0fe",
   "metadata": {},
   "outputs": [],
   "source": [
    "import numpy as np\n",
    "import os\n",
    "import tensorflow as tf\n",
    "import tensorflow.keras as keras\n",
    "import random\n",
    "import re\n",
    "from nltk.corpus import stopwords\n",
    "from sklearn.cluster import KMeans\n",
    "from sklearn.decomposition import TruncatedSVD\n",
    "import matplotlib.pyplot as plt"
   ]
  },
  {
   "cell_type": "markdown",
   "id": "d125480d-b2be-44e6-91a3-879075e01fbb",
   "metadata": {},
   "source": [
    "### Récupération des tweets"
   ]
  },
  {
   "cell_type": "code",
   "execution_count": 4,
   "id": "306e7a56-8a2f-40a3-b480-2dffe2e79bbd",
   "metadata": {},
   "outputs": [],
   "source": [
    "with open(\"dataset\", \"r\") as file:\n",
    "    lines = file.readlines()\n",
    "    \n",
    "#on travaille avec un échantillon de 5000 tweets\n",
    "raw_sample = random.sample(lines, 5000)"
   ]
  },
  {
   "cell_type": "markdown",
   "id": "70b37138-723c-45c5-b101-4c0efa6f66dc",
   "metadata": {},
   "source": [
    "### Nettoyage"
   ]
  },
  {
   "cell_type": "code",
   "execution_count": 5,
   "id": "2f4e2d1e-3240-454f-b2e1-457da98c78be",
   "metadata": {},
   "outputs": [],
   "source": [
    "#Fonction de nettoyage rapide (renvoie une liste de mots et plus une chaine de caractères)\n",
    "def clean(msg):\n",
    "    #Supprimer les liens\n",
    "    msg = re.sub(r'https?[^ ]*', ' ', msg)\n",
    "\n",
    "    #Supprimer hashtags\n",
    "    msg = re.sub(r'#[^ ]*', ' ', msg)\n",
    "    #Supprimer tout ce qui n'est pas des lettres\n",
    "    msg = re.sub(r'\\W', ' ', msg)\n",
    "    #Supprimer les chiffres\n",
    "    msg = re.sub(r'\\d', '', msg)\n",
    "    #Mettre en minuscule\n",
    "    msg = msg.lower()\n",
    "    wlist = msg.split()\n",
    "    stop_words = set(stopwords.words('french'))\n",
    "    wlist = [ word for word in wlist if word not in stop_words ]\n",
    "    return wlist"
   ]
  },
  {
   "cell_type": "code",
   "execution_count": 6,
   "id": "70afad75-ba0e-4ca4-b04f-8306d8b428a6",
   "metadata": {},
   "outputs": [],
   "source": [
    "clean_sample = list(raw_sample)\n",
    "\n",
    "#Nettoyage des tweets\n",
    "for i, line in enumerate(raw_sample):\n",
    "    clean_sample[i] = clean(line)"
   ]
  },
  {
   "cell_type": "code",
   "execution_count": 7,
   "id": "7e8517d6-f350-45cb-bade-850e4996c726",
   "metadata": {},
   "outputs": [
    {
     "name": "stdout",
     "output_type": "stream",
     "text": [
      "['oh', 'voyagez', 'travers', 'mondes']\n",
      "⠀⠀ ⠀ ⠀⠀ ‍ ⸻ ❛ Oh ? Vous voyagez à travers les mondes ?\n",
      "\n"
     ]
    }
   ],
   "source": [
    "#On a bien uniquement du texte\n",
    "print(clean_sample[10])\n",
    "print(raw_sample[10])"
   ]
  },
  {
   "cell_type": "markdown",
   "id": "ccd5db21-6f22-4114-90ec-b4bc998cf1c0",
   "metadata": {},
   "source": [
    "### Récupération des différents mots et de leur nombre d'occurences\n",
    "\n",
    "Pour l'encodage, nous aurons besoin de connaître la liste des différents mots de notre jeu de données afin d'associer à chacun un nombre.\n",
    "\n",
    "Pour interpréter les résultats nous aurons besoin de connaître les mots les plus utilisés dans chaque cluster\n",
    "\n",
    "Pour cela nous utilisons ces fonctions qui permettent d'obtenir une liste des mots du jeu de données (ou d'un sous ensemble comme ce sera le cas avec les clusters) triés par nombre d'occurences décroissant"
   ]
  },
  {
   "cell_type": "code",
   "execution_count": 8,
   "id": "a7183bab-6c3d-4f52-b33a-ee8bf6138292",
   "metadata": {},
   "outputs": [],
   "source": [
    "#Création du dictionnaire de mots avec leur occurence\n",
    "def create_wdict(lines):\n",
    "    dico = {}\n",
    "    for msg in lines:\n",
    "        for mot in msg:\n",
    "            if mot in dico: \n",
    "                dico[mot] += 1\n",
    "            else:\n",
    "                dico[mot] = 1\n",
    "    return dico\n",
    "\n",
    "#Création de la liste des mots triée par nombre d'occurences décroissant\n",
    "def create_sorted_wlist(lines):\n",
    "    dico = create_wdict(lines)\n",
    "    wlist = [ (mot, dico[mot]) for mot in dico.keys()]\n",
    "    return sorted(wlist, key = lambda mot: mot[1], reverse = True)"
   ]
  },
  {
   "cell_type": "code",
   "execution_count": 9,
   "id": "821882c2-c0ce-4e3c-95ec-e1db3f01b361",
   "metadata": {},
   "outputs": [
    {
     "name": "stdout",
     "output_type": "stream",
     "text": [
      "Il y a 10338 mots différents\n",
      "Les dix mots les plus utilisés sont :\n",
      "ça plus si fait tout bien faire quand être "
     ]
    }
   ],
   "source": [
    "#dico = create_wdict(sample)\n",
    "\n",
    "liste_mots_triee = create_sorted_wlist(clean_sample)\n",
    "\n",
    "print(\"Il y a {} mots différents\".format(len(liste_mots_triee)))\n",
    "dict_len = len(liste_mots_triee) + 4\n",
    "print(\"Les dix mots les plus utilisés sont :\")\n",
    "for mot in liste_mots_triee[1:10]:\n",
    "    print(mot[0], end=' ')"
   ]
  },
  {
   "cell_type": "markdown",
   "id": "9c189033-a236-435d-8d86-083e27232997",
   "metadata": {},
   "source": [
    "### Traduction des listes de mots en listes de codes\n",
    "\n",
    "La première étape de l'encodage est de remplacer les mots par leur code (appelé ici index). \n",
    "\n",
    "On crée deux dictionnaires pour l'encodage et le décodage."
   ]
  },
  {
   "cell_type": "code",
   "execution_count": 10,
   "id": "1dcb7597-9f48-4472-86ad-5f9cc6a5b20f",
   "metadata": {},
   "outputs": [],
   "source": [
    "word_index_dict = {}\n",
    "for i, elt in enumerate(liste_mots_triee):\n",
    "    word_index_dict[elt[0]] = i + 4\n",
    "    \n",
    "word_index_dict.update({'<pad>':0, '<start>':1, '<unknown>':2, '<undef>':3,})\n",
    "\n",
    "index_word_dict = { i:word for word,i in word_index_dict.items() }"
   ]
  },
  {
   "cell_type": "code",
   "execution_count": 11,
   "id": "bf5458f3-a310-42a6-804d-9fe853c81e0d",
   "metadata": {},
   "outputs": [
    {
     "name": "stdout",
     "output_type": "stream",
     "text": [
      "[1, 1026, 788, 2]\n",
      "<start> coucou petits <unknown>\n"
     ]
    }
   ],
   "source": [
    "def encode(msg):\n",
    "    encoded_msg = [1]\n",
    "    for mot in msg:\n",
    "        try:\n",
    "            encoded_msg.append(word_index_dict[mot])\n",
    "        except KeyError:\n",
    "            encoded_msg.append(2)\n",
    "    return encoded_msg\n",
    "        \n",
    "def decode(msg):\n",
    "    #decoded_msg = \"\"\n",
    "    #for elt in msg:\n",
    "    #    decoded_msg += index_word_dict[elt] + \" \"\n",
    "    #return decoded_msg\n",
    "    return ' '.join([index_word_dict[i] for i in msg])\n",
    "\n",
    "msg = \"Coucou les petits loulous.\"\n",
    "#msg = [\"coucou\", \"les\", \"petits\", \"loulous\"]\n",
    "enc = encode(clean(msg))\n",
    "print(enc)\n",
    "print(decode(enc))"
   ]
  },
  {
   "cell_type": "code",
   "execution_count": 12,
   "id": "f35b46bd-aa29-49bd-a166-94e673a8e981",
   "metadata": {},
   "outputs": [],
   "source": [
    "#encodage de l'échantillon pour créer le jeu de données\n",
    "dataset = [encode(msg) for msg in clean_sample]"
   ]
  },
  {
   "cell_type": "code",
   "execution_count": 13,
   "id": "3db98c40-83f4-45a8-b482-2881b60ff1d8",
   "metadata": {},
   "outputs": [
    {
     "name": "stdout",
     "output_type": "stream",
     "text": [
      "[1, 177, 3909, 2390, 3910]\n"
     ]
    },
    {
     "data": {
      "text/plain": [
       "'<start> oh voyagez travers mondes'"
      ]
     },
     "execution_count": 13,
     "metadata": {},
     "output_type": "execute_result"
    }
   ],
   "source": [
    "print(dataset[10])\n",
    "decode(dataset[10])"
   ]
  },
  {
   "cell_type": "markdown",
   "id": "b42f8cf1-4497-44ed-bad5-289f44cea397",
   "metadata": {},
   "source": [
    "### Encodage one-hot proprement dit\n",
    "\n",
    "Chaque message est transformé en un vecteur de la taille du dictionnaire. Pour chaque mot dans un message, l'indice du vecteur correspondant à ce message est mis à 1, le reste des indices reste à 0."
   ]
  },
  {
   "cell_type": "code",
   "execution_count": 14,
   "id": "11c9a277-fc45-49a8-939c-5769ad4f85f8",
   "metadata": {},
   "outputs": [],
   "source": [
    "def one_hot_encode(dataset, vector_size=dict_len):\n",
    "    dataset_encoded = np.zeros((len(dataset), vector_size))\n",
    "    for i, msg in enumerate(dataset):\n",
    "        for code in msg:\n",
    "            dataset_encoded[i, code] = 1\n",
    "    return dataset_encoded\n",
    "    "
   ]
  },
  {
   "cell_type": "code",
   "execution_count": 15,
   "id": "b3a6efdd-ef88-426b-8a00-a05fe2202780",
   "metadata": {},
   "outputs": [],
   "source": [
    "#encodage du dataset\n",
    "\n",
    "dataset_encoded = one_hot_encode(dataset)"
   ]
  },
  {
   "cell_type": "markdown",
   "id": "ee88ac58-0e90-4250-a216-2338a93ef7df",
   "metadata": {},
   "source": [
    "### Visualisation du dataset\n",
    "\n",
    "- On réalise une réduction de dimension afin de visualiser les données dans une grille en deux dimensions\n",
    "- On utilise pour cela la méthode Truncated SVD qui est indiquée dans le cas de données éparses"
   ]
  },
  {
   "cell_type": "code",
   "execution_count": 19,
   "id": "c7c3357c-589d-4bce-9013-c9c1bd1915d9",
   "metadata": {},
   "outputs": [
    {
     "name": "stdout",
     "output_type": "stream",
     "text": [
      "CPU times: user 14.8 s, sys: 5.01 s, total: 19.8 s\n",
      "Wall time: 12.3 s\n"
     ]
    }
   ],
   "source": [
    "%%time\n",
    "\n",
    "#Prend une quarantaine de seconds à exécuter sur ma machine\n",
    "\n",
    "svd = TruncatedSVD()\n",
    "\n",
    "#On crée une version en deux dimensions de notre jeu de données\n",
    "two_dim_dataset = svd.fit_transform(dataset_encoded)"
   ]
  },
  {
   "cell_type": "code",
   "execution_count": 20,
   "id": "14fc4cfb-1729-4ac1-9981-27dc3c0568c1",
   "metadata": {},
   "outputs": [],
   "source": [
    "#On utilise la matrice transposée de notre jeu de données pour pouvoir visualiser les données\n",
    "b = two_dim_dataset.T\n",
    "\n",
    "#Taille des figures\n",
    "plt.rcParams[\"figure.figsize\"] = (10,10)"
   ]
  },
  {
   "cell_type": "code",
   "execution_count": 21,
   "id": "bab2f532-5fd2-4527-bf6d-61ad389d7921",
   "metadata": {},
   "outputs": [
    {
     "data": {
      "image/png": "[encoded data removed]",
      "text/plain": [
       "<Figure size 720x720 with 1 Axes>"
      ]
     },
     "metadata": {
      "needs_background": "light"
     },
     "output_type": "display_data"
    }
   ],
   "source": [
    "#Affichage des données\n",
    "plt.plot(b[0], b[1], 'r.')\n",
    "plt.show()"
   ]
  },
  {
   "cell_type": "markdown",
   "id": "7002f268-5c09-4772-9c4b-2ec1d5ff73c4",
   "metadata": {},
   "source": [
    "### Fonctions pour la visualisation des clusters"
   ]
  },
  {
   "cell_type": "markdown",
   "id": "5a477718-55f3-4212-b262-7d5922e0acd6",
   "metadata": {},
   "source": [
    "Les algorithmes de classification renvoient une liste de la taille de notre dataset. Chaque élément de cette liste correspond au numéro de cluster auquel le message du même indice de notre jeu de données est associé.\n",
    "\n",
    "Pour interpréter les résultats on a besoin de connaître les messages de chaque clusters on définit donc quelques fonctions qui vont nous permettre de manipuler les données :\n",
    "\n",
    "- Une fonction qui construit un dictionnaire qui a chaque cluster associe la liste des indices des messages correspondants\n",
    "- Une fonction qui construit la liste des mots et la liste des messages de chaque cluster.\n",
    "- Une fonction qui affiche le nombre de messages pour chaque cluster\n",
    "- Une fonction qui affiche pour chaque cluster la liste des n mots les plus utilisés\n",
    "- Une fonction qui affiche un échantillon de messages pour chaque cluster\n",
    "- Une fonction qui permet de visualiser les données catégorisées\n",
    "- Et une fonction qui fait tout ça à la fois !"
   ]
  },
  {
   "cell_type": "code",
   "execution_count": 36,
   "id": "195ed9e0-e569-4d4a-a60b-f47d37ef45d8",
   "metadata": {},
   "outputs": [],
   "source": [
    "#Construire le dictionnaire des résultats qui à chaque cluster associe la liste indices des messages correspondants\n",
    "\n",
    "def build_res_dict(pred):\n",
    "    res = {}\n",
    "    for i, lab in enumerate(pred): \n",
    "        if lab in res:\n",
    "            res[lab].append(i)\n",
    "        else:\n",
    "            res[lab] = [i]\n",
    "    return res\n",
    "    \n",
    "#construire la liste des mots et la liste des messages de chaque cluster\n",
    "#utilise les variables globales clean_sample et raw_sample\n",
    "def create_word_and_msg_lists(res):\n",
    "    wlists = []\n",
    "    mlists = []\n",
    "    for i in res.keys():\n",
    "        idx_list = []\n",
    "        msg_list = []\n",
    "        raw_msg_list = []\n",
    "        for n in res[i]: idx_list.append(n)\n",
    "        for idx in idx_list: \n",
    "            msg_list.append(clean_sample[idx])\n",
    "            raw_msg_list.append(raw_sample[idx])\n",
    "        mlists.append(raw_msg_list)\n",
    "        wlists.append(create_sorted_wlist(msg_list))\n",
    "    return wlists, mlists\n",
    "\n",
    "def print_clusters_size(res):\n",
    "    for i, key in enumerate(res.keys()):\n",
    "        print(\"cluster {} : {} messages\".format(i, len(res[key])))\n",
    "\n",
    "def print_most_used_words(n, wlists):\n",
    "    for i, liste in enumerate(wlists):\n",
    "        print(\"Les {} mots les plus fréquents du cluster {} :\".format(n, i), end=\" \")\n",
    "        for tup in liste[:n]:\n",
    "            print(tup[0], end=' ')\n",
    "        print('\\n')\n",
    "        \n",
    "def print_sample(sample_size, res):\n",
    "    for i, key in enumerate(res.keys()):\n",
    "        print(\"cluster {} (clé {})\".format(i, key))\n",
    "        try:\n",
    "            sample = random.sample(res[key], sample_size)\n",
    "        except ValueError:\n",
    "            sample = res[key]\n",
    "        for j in sample:\n",
    "            print(raw_sample[j])\n",
    "        print()\n",
    "\n",
    "def plot_results(res):\n",
    "    styles = [\"r.\", \"b.\", \"k.\", \"g.\", \"y.\", \"c.\", \"m.\"]\n",
    "    i = 0\n",
    "    j = 0\n",
    "    for key in res.keys():\n",
    "        cluster_data = []\n",
    "        for idx in res[key]:\n",
    "            cluster_data.append(two_dim_dataset[idx])\n",
    "        tcd = np.array(cluster_data).T\n",
    "        if (j > 6): j = 0\n",
    "        plt.plot(tcd[0], tcd[1], styles[j])\n",
    "        i += 1\n",
    "        j += 1\n",
    "    plt.show()\n",
    "    \n",
    "def save_clusters_msg(mlists, method):\n",
    "    if not os.path.exists(\"one_hot_clusters/{}\".format(method)): \n",
    "        os.mkdir(\"one_hot_clusters/{}\".format(method))\n",
    "    for i, mlist in enumerate(mlists):\n",
    "        with open(\"one_hot_clusters/{0}/{0}_cluster_{1}_msg.txt\".format(method, i), \"w\") as f:\n",
    "            for msg in mlist:\n",
    "                f.write(msg)\n",
    "                \n",
    "def parse_results(pred, method):\n",
    "    res = build_res_dict(pred)\n",
    "    wlists, mlists = create_word_and_msg_lists(res)\n",
    "    print_clusters_size(res)\n",
    "    print_most_used_words(20, wlists)\n",
    "    print_sample(3, res)\n",
    "    plot_results(res)\n",
    "    save_clusters_msg(mlists, method)\n",
    "    "
   ]
  },
  {
   "cell_type": "markdown",
   "id": "dc77dc31-9bfb-4977-8a06-ad744f69f11c",
   "metadata": {},
   "source": [
    "### Kmeans"
   ]
  },
  {
   "cell_type": "code",
   "execution_count": 23,
   "id": "fb6c9674-ac78-4e28-bf26-6fe573279648",
   "metadata": {},
   "outputs": [],
   "source": [
    "n_clust = 4"
   ]
  },
  {
   "cell_type": "code",
   "execution_count": 24,
   "id": "ee94c766-7d09-4afe-bf1e-2aa87d02794d",
   "metadata": {},
   "outputs": [
    {
     "name": "stdout",
     "output_type": "stream",
     "text": [
      "CPU times: user 24.8 s, sys: 75.4 ms, total: 24.8 s\n",
      "Wall time: 10.3 s\n"
     ]
    }
   ],
   "source": [
    "%%time\n",
    "\n",
    "kmeans = KMeans(n_clusters=n_clust, random_state=0).fit(dataset_encoded)"
   ]
  },
  {
   "cell_type": "code",
   "execution_count": 25,
   "id": "7cbdb05b-2e60-4412-b071-ed3541e148f1",
   "metadata": {},
   "outputs": [],
   "source": [
    "km_pred = kmeans.predict(dataset_encoded)"
   ]
  },
  {
   "cell_type": "code",
   "execution_count": 26,
   "id": "ff439267-9760-487c-be1e-2dbc6def9a4e",
   "metadata": {},
   "outputs": [
    {
     "name": "stdout",
     "output_type": "stream",
     "text": [
      "cluster 0 : 4181 messages\n",
      "cluster 1 : 292 messages\n",
      "cluster 2 : 525 messages\n",
      "cluster 3 : 2 messages\n"
     ]
    }
   ],
   "source": [
    "km_res = build_res_dict(km_pred)\n",
    "\n",
    "#nombre de tweets par catégories\n",
    "print_clusters_size(km_res)"
   ]
  },
  {
   "cell_type": "code",
   "execution_count": 28,
   "id": "f48432ef-f89f-41f3-a428-90d5d1538923",
   "metadata": {},
   "outputs": [
    {
     "name": "stdout",
     "output_type": "stream",
     "text": [
      "Les 10 mots les plus fréquents du cluster 0 : plus si bien tout quand faire être fait trop non \n",
      "\n",
      "Les 10 mots les plus fréquents du cluster 1 : ça a fait va comme non bien plus être faire \n",
      "\n",
      "Les 10 mots les plus fréquents du cluster 2 : a fait tout faire ans plus quand si rien cette \n",
      "\n",
      "Les 10 mots les plus fréquents du cluster 3 : quintuplé minutes jean chales sabattier robert lewandowski vidéo trop parfaite \n",
      "\n"
     ]
    }
   ],
   "source": [
    "km_wlists, km_mlists = create_word_and_msg_lists(km_res)\n",
    "print_most_used_words(10, km_wlists)"
   ]
  },
  {
   "cell_type": "code",
   "execution_count": 29,
   "id": "6ae36b42-38dd-46e9-90d0-d55cd9a0b599",
   "metadata": {},
   "outputs": [
    {
     "name": "stdout",
     "output_type": "stream",
     "text": [
      "cluster 0 (clé 3)\n",
      "Meilleur chauffage https://t.co/UkgLnu7Q9J\n",
      "\n",
      "\"Surcoût de 1\n",
      "\n",
      "Pas eu de bugs sinon je l'aurais évoqué ^^\n",
      "\n",
      "\"Partagé RT en masse pour retrouvé mon chat TOM volé depuis 3 ans\n",
      "\n",
      "C'est que des homosexuels dans les commentaires\n",
      "\n",
      "\n",
      "cluster 1 (clé 1)\n",
      "\"Bonsoir je sais pas qui est le mako de ma soeur qui a été lui dire que je fais ci ou ça sur internet mais : Véyé tchou a manmanw.Cordialement\n",
      "\n",
      "Mdrr il porte du Tommy jsuis en repos ça me suis jusque sur Netflix\n",
      "\n",
      "Haaaa Sisi dans le 94 comme ça la 😭😭\n",
      "\n",
      "🤣🤣🤣Oui elles sont top 🥰Je le ai vues sur quelqu'un que je peux pas blairer ça m'a soulée 😒\n",
      "\n",
      "\"Je parle avec un pote à moi dans son quartier ça devait mettre la fibre\n",
      "\n",
      "\n",
      "cluster 2 (clé 2)\n",
      "et qui a tiré ce jeune?\n",
      "\n",
      "Y’a des gens qui se clashent encore sur Twitter? 🥴\n",
      "\n",
      "Belle victoire de et félicitations à l'homme qui a tout donné pour gagner cette élection Il a déjà averti : l'indépendance de est sacrée et il veillera à ce qu'aucune interférences du pouvoir ne viennent perturber les travaux de l'associationBravo à DL !!\n",
      "\n",
      "\"#IDI ⛔️Pour ou contre l'interdiction de la chasse ?Accidents de chasse : «On a une vraie complaisance avec les chasseurs»\n",
      "\n",
      "Je vous promet que c’est pas une blague elle a disparu elle est mineur la police ne veut rien faire (si ce n’est consulté Free)RT JE VOUS SUPPLIE ❗️❗️❗️❗️ https://t.co/m4nk6wJs95\n",
      "\n",
      "\n",
      "cluster 3 (clé 0)\n",
      "Quintuplé en 9 minutes ❄️Jean-Chales Sabattier 🎙 Robert Lewandowski 🎖La vidéo est trop parfaite https://t.co/ryXEHs9Wec\n",
      "\n",
      "Quintuplé en 9 minutes ❄️Jean-Chales Sabattier 🎙 Robert Lewandowski 🎖La vidéo est trop parfaite https://t.co/ryXEHs9Wec\n",
      "\n",
      "\n"
     ]
    }
   ],
   "source": [
    "print_sample(5, km_res)"
   ]
  },
  {
   "cell_type": "code",
   "execution_count": 30,
   "id": "71dabe4c-a120-4662-a370-af57a70e6176",
   "metadata": {},
   "outputs": [
    {
     "data": {
      "image/png": "[encoded data removed]",
      "text/plain": [
       "<Figure size 720x720 with 1 Axes>"
      ]
     },
     "metadata": {
      "needs_background": "light"
     },
     "output_type": "display_data"
    }
   ],
   "source": [
    "plot_results(km_res)"
   ]
  },
  {
   "cell_type": "code",
   "execution_count": 37,
   "id": "a63ae451-d9b7-4d12-a7c7-eb3bafeebcbc",
   "metadata": {},
   "outputs": [],
   "source": [
    "save_clusters_msg(km_mlists, \"km\")"
   ]
  },
  {
   "cell_type": "markdown",
   "id": "27af5e61-a139-41e9-a35c-d5e1a776538b",
   "metadata": {},
   "source": [
    "### SOM"
   ]
  },
  {
   "cell_type": "code",
   "execution_count": 133,
   "id": "bb182c91-05fd-4224-89a2-26af35015150",
   "metadata": {},
   "outputs": [],
   "source": [
    "from sklearn_som.som import SOM"
   ]
  },
  {
   "cell_type": "code",
   "execution_count": 134,
   "id": "c919a7b3-119c-4853-93a3-58cbc11a2c68",
   "metadata": {},
   "outputs": [
    {
     "name": "stdout",
     "output_type": "stream",
     "text": [
      "CPU times: user 42.9 s, sys: 673 ms, total: 43.5 s\n",
      "Wall time: 43.6 s\n"
     ]
    }
   ],
   "source": [
    "%%time\n",
    "\n",
    "som = SOM(m=5, n=5, dim=dict_len)\n",
    "som.fit(dataset_encoded)"
   ]
  },
  {
   "cell_type": "code",
   "execution_count": 135,
   "id": "a9c5702f-ceea-43f1-902c-dc4f2670d341",
   "metadata": {},
   "outputs": [
    {
     "name": "stdout",
     "output_type": "stream",
     "text": [
      "CPU times: user 5.18 s, sys: 0 ns, total: 5.18 s\n",
      "Wall time: 5.18 s\n"
     ]
    }
   ],
   "source": [
    "%%time\n",
    "\n",
    "som_pred = som.predict(dataset_encoded)"
   ]
  },
  {
   "cell_type": "code",
   "execution_count": 140,
   "id": "db1901bf-62bf-4679-a08a-494cd1bc3616",
   "metadata": {},
   "outputs": [
    {
     "name": "stdout",
     "output_type": "stream",
     "text": [
      "cluster 0 : 142 messages\n",
      "cluster 1 : 376 messages\n",
      "cluster 2 : 75 messages\n",
      "cluster 3 : 153 messages\n",
      "cluster 4 : 88 messages\n",
      "cluster 5 : 1755 messages\n",
      "cluster 6 : 160 messages\n",
      "cluster 7 : 442 messages\n",
      "cluster 8 : 251 messages\n",
      "cluster 9 : 241 messages\n",
      "cluster 10 : 170 messages\n",
      "cluster 11 : 155 messages\n",
      "cluster 12 : 58 messages\n",
      "cluster 13 : 109 messages\n",
      "cluster 14 : 85 messages\n",
      "cluster 15 : 104 messages\n",
      "cluster 16 : 154 messages\n",
      "cluster 17 : 62 messages\n",
      "cluster 18 : 25 messages\n",
      "cluster 19 : 219 messages\n",
      "cluster 20 : 34 messages\n",
      "cluster 21 : 95 messages\n",
      "cluster 22 : 28 messages\n",
      "cluster 23 : 16 messages\n",
      "cluster 24 : 3 messages\n",
      "Les 20 mots les plus fréquents du cluster 0 : surprise dm manifesting quel cette cutie veux amp personne équipe sous voir aller annonce allez projet femme répondre vraiment demais \n",
      "\n",
      "Les 20 mots les plus fréquents du cluster 1 : a plus ans molina quand ça fait dit être cette rien voir jamais quelqu vie jour juste tous fin si \n",
      "\n",
      "Les 20 mots les plus fréquents du cluster 2 : être peut fait oui tout faut après mdrr doivent pourquoi cette quand non où vie devrait dire footeux viennent space \n",
      "\n",
      "Les 20 mots les plus fréquents du cluster 3 : jour depuis quoi nouveau où série novembre jours eme you ans jeudi enfants twitter fait sort partager blancs er vendredi \n",
      "\n",
      "Les 20 mots les plus fréquents du cluster 4 : a faire si contre encore france rt hier nombre vu cette veut définitivement question lits donc deux svp tourner loi \n",
      "\n",
      "Les 20 mots les plus fréquents du cluster 5 : admeeu vote rosé toyang ème k comme novembre vais encore bonne vraiment france garcia tweet mds journée votes in mama \n",
      "\n",
      "Les 20 mots les plus fréquents du cluster 6 : _ bonjour e toujours paris aime deux tous dis f quoi g cette vient euros avoir novembre millions chaque match \n",
      "\n",
      "Les 20 mots les plus fréquents du cluster 7 : merci oui fait non soir très déjà envie mal temps ah fois vu après via personnes genre avoir autres jamais \n",
      "\n",
      "Les 20 mots les plus fréquents du cluster 8 : tous faire bon aujourd hui là ceux romain molina space dernier jean pays veut fait live merci très allah avant \n",
      "\n",
      "Les 20 mots les plus fréquents du cluster 9 : ça comme fait a non merci temps allez stop prendra edouard mendy finir respecter vouliez comment si dit là être \n",
      "\n",
      "Les 20 mots les plus fréquents du cluster 10 : bien aussi après alors donc chez cette avant vaccinés là mars non avoir tête semaine lors lt gt jours pays \n",
      "\n",
      "Les 20 mots les plus fréquents du cluster 11 : si comme jamais bien tout alors rien faut actes manque peu voulez non tous dire contre mdr fais vie encore \n",
      "\n",
      "Les 20 mots les plus fréquents du cluster 12 : tout rt bien follow vie aller cet homme risque filmer camps concentration ouïghours confirmer existent bel journalisme amp alyssa gt \n",
      "\n",
      "Les 20 mots les plus fréquents du cluster 13 : quand gens comme leurs addition voit multiplication voiture sais tout monde aussi comment faire arrête bon rien contre vie avant \n",
      "\n",
      "Les 20 mots les plus fréquents du cluster 14 : trop beau bien aime vidéo envie dis faire quintuplé minutes jean chales sabattier robert lewandowski parfaite désolée hein amsterdam cette \n",
      "\n",
      "Les 20 mots les plus fréquents du cluster 15 : va moment non vaccinés être faire dire tout parce aller commencer bien bon après pense avoir molina monde barbers prennent \n",
      "\n",
      "Les 20 mots les plus fréquents du cluster 16 : plus cette faire tout être quand personne personnes e veux actuellement contre bien france k sans fois va twitter réunies \n",
      "\n",
      "Les 20 mots les plus fréquents du cluster 17 : follow rt gagner participer tweet amp chance tas tirage tenter sort plus novembre ultimate jeu concours version civilisation orelsan cadeau \n",
      "\n",
      "Les 20 mots les plus fréquents du cluster 18 : tout monde ceux ca faire fort parler depuis peut importe nom critique clip réf eme font fait devant er album \n",
      "\n",
      "Les 20 mots les plus fréquents du cluster 19 : gens rien contre sans sais vas suite comme demain justice ya mendy procès jeu top photo purée accord toute bah \n",
      "\n",
      "Les 20 mots les plus fréquents du cluster 20 : ça va cette comme après voir si faire quand nuit bon album histoire molina mal gorge fait ville tout monde \n",
      "\n",
      "Les 20 mots les plus fréquents du cluster 21 : a tout quoi sans fait dit compris trop roi rats si parce ça mec avoir cette être faire bien plus \n",
      "\n",
      "Les 20 mots les plus fréquents du cluster 22 : quoi peur passe lis là aide comme non continuer appel apprenne écrire bonjour allez employer personne désormais condamnée abus biens \n",
      "\n",
      "Les 20 mots les plus fréquents du cluster 23 : plus ça fait tous tout quand peux si rien match sais sans alors faire peu argent remastered a poste postulé \n",
      "\n",
      "Les 20 mots les plus fréquents du cluster 24 : pass sanitaire blocage port aujourd hui pays bas dockers protestent contre mesures restrictions préparation projet loi permettrait employeurs imposer employés \n",
      "\n",
      "cluster 0 (clé 12)\n",
      "Vous allez écouter quel projet en premier à minuit ? 👥 Orelsan - Civilisation🙌 GLK - Karma🚀 Gambino - La fusée👑 Guy2Bezbar - Coco Jojo🎮 DJ Erise - Score🗽 Jok’Air - New Jok City\n",
      "\n",
      "Viens dm\n",
      "\n",
      "TF Collector Tyrannocon Rex &amp; JP93 Review! https://t.co/3L4hHDUmRw #transformers #tformers\n",
      "\n",
      "\n",
      "cluster 1 (clé 20)\n",
      "Mdddr Vinicius il graille un petit pont et il se venge en faisant un arc en ciel mddr c’est trop comment il l’a salît 🤩🤩\n",
      "\n",
      "« Chaque jour quand on dort quand on se réveille y’a des nouveaux dossiers » 🤭🤭🤭🤭🤭🤭🤭🤭🤭🤭🤭🤭🤭🤭🤭🤭 https://t.co/2EZYMOS9ob\n",
      "\n",
      "\"Macron a été humilié par la défaite de son candidat à l'élection des maires de France.Lisnard a été élu largement.Macron s'est montré lors du congrès de l'AMF sous son véritable jour\n",
      "\n",
      "\n",
      "cluster 2 (clé 8)\n",
      "\"BHL devrait être arrêté et envoyé en prison pour sa complicité de crimes contre l ' humanité contre la population du Donbass\n",
      "\n",
      "TITRE Bliss D DE Mariah Carey RadioSouvenirsFM Les images peuvent être inexactes https://t.co/fsLTl6yDjw\n",
      "\n",
      "vous devez changer de comfort show tous les ans alors que moi c’est grey’s anatomy donc je peux être triste pendant encore des années\n",
      "\n",
      "\n",
      "cluster 3 (clé 19)\n",
      "\"Nouveau billet de la série \"\"Droit et spectacle vivant\"\" du blog de #Gallica\n",
      "\n",
      "Bah je kiffe depuis que je suis petit\n",
      "\n",
      "C’est évident qu’il faut lever l’état d’urgence sanitaire.Ne pas confondre la fin de la pandémie avec la fin de la gouvernance par décret.Le le réclame depuis plusieurs mois.#PolQcIl faut lever l’état d’urgence https://t.co/2JboOYdklu via\n",
      "\n",
      "\n",
      "cluster 4 (clé 21)\n",
      "Je vous promet que c’est pas une blague elle a disparu elle est mineur la police ne veut rien faire (si ce n’est consulté Free)RT JE VOUS SUPPLIE ❗️❗️❗️❗️ https://t.co/m4nk6wJs95\n",
      "\n",
      "\"C'est le jour où l'on a inventé le concept de \"\"plages dynamiques\"\" pour lutter contre un virus\n",
      "\n",
      "C’est un génie incompris le frero il a réussi à faire passer 220€ de course à 76€ c’est du jamais vu https://t.co/Jhqv6gQFNh\n",
      "\n",
      "\n",
      "cluster 5 (clé 18)\n",
      "* cherché * 😳\n",
      "\n",
      "Courage Paki et à bientôt !\n",
      "\n",
      "j'avoue que c'est pas fou\n",
      "\n",
      "\n",
      "cluster 6 (clé 23)\n",
      "\"Mère de Ronaldo 🇧🇷 : \"\"Je jouais au loto chaque semaine en espérant gagner le gros lot mais je ne me doutais pas que le ticket gagnant cassait des vases dans le salon avec son ballon.\"\" https://t.co/5VRBTIvGjQ\"\n",
      "\n",
      "mds ele é meu tio\n",
      "\n",
      "Ma mère qui relance les entreprises pour le stage de 3ème de ma sœur 😭😭 https://t.co/nN1qvmD5OP\n",
      "\n",
      "\n",
      "cluster 7 (clé 13)\n",
      "J’ai déjà eu ce genre d’appréciation pendant toute ma scolarité hein\n",
      "\n",
      "Envie d’alcool de love et de sexe\n",
      "\n",
      "J’ai envie de mettre du henné\n",
      "\n",
      "\n",
      "cluster 8 (clé 14)\n",
      "Vidéo interdite à tous les Talibans. 👇 https://t.co/MN0J9VEC10\n",
      "\n",
      "\"«On est tous humains»: Gabriel Attal défend Jean Castex et Gérald Darmanin\n",
      "\n",
      "C’est surtout les commentaires mdrrrr tema ils sont tous en croisade\n",
      "\n",
      "\n",
      "cluster 9 (clé 3)\n",
      "T’es pas aigris du tout c’est bête mais c’est ça en grande partie\n",
      "\n",
      "ça ft deux jours j'suis sensée poster mais jfais l'aveugle donc g pas de copains😐\n",
      "\n",
      "ça date ça 🤣 https://t.co/8xLYKuD3EQ\n",
      "\n",
      "\n",
      "cluster 10 (clé 22)\n",
      "Balle perdue sur Rapinoe https://t.co/qsbLdKhunx\n",
      "\n",
      "Moi j’aime bien la prod en vrai je constate un lvl up\n",
      "\n",
      "Cette video https://t.co/VpFZTVrOPk\n",
      "\n",
      "\n",
      "cluster 11 (clé 11)\n",
      "Aya si le projet n’était pas parti en sucette https://t.co/zqp8kPU1Ye\n",
      "\n",
      "\"Merci! Si Tabata livre quelque chose comme mon design\n",
      "\n",
      "Si qlqn veut vous laissez dites vous qu’Allah est là\n",
      "\n",
      "\n",
      "cluster 12 (clé 6)\n",
      "Oh j'ai oublié de mettre mon masque pendant tout mon trajet je viens juste de m'en rendre compte en sortant de la gare\n",
      "\n",
      "Je vais redoubler j’ai pas du tout le niveau.\n",
      "\n",
      "Je pensais être épargnée.. Et non je vais commencer le 9ème avec les chevilles gonflées 😭 Je viens de m'en rendre compte. C'est pô juste.\n",
      "\n",
      "\n",
      "cluster 13 (clé 24)\n",
      "Je vous jure j’ai la haine que Jungwon ai du s’excuser pour un truc autant débile\n",
      "\n",
      "\"l'anthropologue américain Alexis Bugnolo :\"\"Quand ce sera clair pour tout le monde que les gens vaccinés sont en train de mourir\n",
      "\n",
      "\"Quand des enfants diront \"\"Ahh mais Naruto c'est le skin dans fortnite !!\"\" : https://t.co/ypnJWFvPN6\"\n",
      "\n",
      "\n",
      "cluster 14 (clé 5)\n",
      "ptdr je suis morte il m’as DM il m’as dis « on peut faire connaissance t’es trop belle » j’ai dis « c’est pas une bonne idée je suis copine avec t’as meuf » ptdrrrrr utilisateur introuvable … 😹😹\n",
      "\n",
      "c’était trop bien\n",
      "\n",
      "c’est trop bon https://t.co/Q7ei7lrTee\n",
      "\n",
      "\n",
      "cluster 15 (clé 9)\n",
      "Envie de soutenir les nouveaux médias qui font entendre des récits et des voix différentes ? C'est le moment de participer à la levée de fonds de le média qui raconte aujourd'hui le monde de demain https://t.co/vZpf3JKtfM https://t.co/23phOl3Iuf\n",
      "\n",
      "non c'est luka qui va venir\n",
      "\n",
      "Va avec l’EDF sinon tu va t’faire insulter dans des spaces jusqu’à 2h du mat mdr https://t.co/V7QruTqtaw\n",
      "\n",
      "\n",
      "cluster 16 (clé 7)\n",
      "Ils n’ont pas d’autres contrôles plus importants à faire\n",
      "\n",
      "\"Avec plus de 100.000 abonnés\n",
      "\n",
      "\"Plus de 100 salariés présenteront leurs métiers lors de l'#Usineextraordinaire2021 du 22 au 26/11.👉Découvrez des visites immersives\n",
      "\n",
      "\n",
      "cluster 17 (clé 1)\n",
      "🎁 #Concours⚫ On fête le début de la Black Week sur Cdiscount avec une trottinette électrique Surpass à gagner ➡ https://t.co/MOE9d7TT53Pour tenter ta chance : 🔸 RT ce tweet🔹 Follow TAS 22/11 https://t.co/Xubcir6JoK\n",
      "\n",
      "#Concours 🎁 Tente de remporter le CD de l’album de ton choix de Nekfeu Pour tenter ta chance : 🔹 RT + Follow Identifie 1 ami TAS : Mercredi 17 novembre 🍀 https://t.co/fQftI0VAvb\n",
      "\n",
      "#Concours pour tenter de gagner une #PS5 🥰👍Pour participer il faudra :-RT-regarder cette vidéo et vous abonner à la chaîne https://t.co/u2AQlW34Kx (on vérifie)😜Tirage le 27novembre 🥳 https://t.co/hZ59fpC9UI\n",
      "\n",
      "\n",
      "cluster 18 (clé 0)\n",
      "ET ????? Ce n'est qu'eric....tout le monde connaît ses escroquerie https://t.co/A9M59DH1k1\n",
      "\n",
      "\"pour tout le monde et à crever ensuite dans le silence indifférent des salles d’attente bondées. C’est terminé. C’est fini\n",
      "\n",
      "Tout le monde sait de qui il parle...\n",
      "\n",
      "\n",
      "cluster 19 (clé 17)\n",
      "Les gens de Rennes faite tourner ⚠️⚠️ https://t.co/ykqA8KNmh9\n",
      "\n",
      "Mais comment vous avez des fiaks comme ca purée. J'ai la haine 😭\n",
      "\n",
      "sans indemnité de transfert*il coûtera en terme de prime etc minimum 90M au Real https://t.co/cEvthpxQlA\n",
      "\n",
      "\n",
      "cluster 20 (clé 4)\n",
      "vous êtes vraiment des enfants à chercher la bagarre à tout va mdr jsuis pas dans ça moi va trouver qqun d’autre nilsu\n",
      "\n",
      "Guy2 quand il va voir que ça préfère stream le space de molina que son nouveau album https://t.co/flMuFidCRC\n",
      "\n",
      "il s’agirait de doser sur le mal de gorge ça va faire une semaine quand même 💀\n",
      "\n",
      "\n",
      "cluster 21 (clé 15)\n",
      "Cette saison T. K a changé de dimension.. Il est tout simplement excellent !!\n",
      "\n",
      "Tales Of Arise x1000 il pulvérise tout les autres il y a 0 débats\n",
      "\n",
      "\"Il y en a 1 de trop.Aucun des 2 n'est un bon défenseur/ utile sans la balle en attaque.Kemba/BullockFranck (ou un meneur défenseur/pas trou noir)/Evan.Quand t'as trop de trou noir / moyen en défense (pour être sympa)\n",
      "\n",
      "\n",
      "cluster 22 (clé 10)\n",
      "Je mets quoi comme pseudo !!\n",
      "\n",
      "Bonjour allez-vous continuer d’employer une personne désormais condamnée en appel pour abus de biens social et qui vient nous faire des leçons de moraline comme la semaine passée ? #Zeribi https://t.co/cWDDA8T4OQ\n",
      "\n",
      "Tout candidat à la présidentielle doit s’engager sur une double vérité totale :- Levée immédiate du secret défense sur toutes les décisions covid- Commission Vérité sur les effets secondaires Je m’y engage.\n",
      "\n",
      "\n",
      "cluster 23 (clé 2)\n",
      "Qu’ est-ce que ça peut me saouler quand tu commences à lire un post et que Twitter rafraichis la page et que tu te retrouves 40 tweets plus haut 😡\n",
      "\n",
      "#tpmp et oui cela fait rire tout le monde mais c'est grave en plus elle raconte tout ça comme si cela était naturel mais quel bazar toutes ces histoires de cul dans tous les domaines !!!\n",
      "\n",
      "Je me déteste ca fait 6 heures que je fous rien alors que j’ai le plus gros travail de ma session à remettre demain\n",
      "\n",
      "\n",
      "cluster 24 (clé 16)\n",
      "\"🌲Ce jeudi 18h30 #Anglet 📣conférence Espace de l'Océan📌\"\"Le Pignada : 30 juillet 2020. Et maintenant ?\"\"ℹ️+d'infos : https://t.co/PYzHdVKguh✅Entrée libre sur présentation du pass sanitaire#VilleAnglet #NotrePignada https://t.co/9X7A2VZa59\"\n",
      "\n",
      "Blocage du port de #Rotterdam aujourd'hui aux Pays-Bas par des dockers qui protestent contre les mesures de restrictions et la préparation d'un projet de loi qui permettrait au employeurs d'imposer le pass sanitaire aux employés. (@BobHGL) #dockersunitedhttps://t.co/uiojJdBKWz\n",
      "\n",
      "\"OFFICIEL : Voici le premier visuel du nouveau film \"\"ONE PIECE RED\"\" qui sera centré sur le personnage de Shanks le Rou !Sortie au Japon le 6 Août 2022. https://t.co/IGLQ4tMolO\"\n",
      "\n",
      "\n"
     ]
    },
    {
     "data": {
      "image/png": "[encoded data removed]",
      "text/plain": [
       "<Figure size 720x720 with 1 Axes>"
      ]
     },
     "metadata": {
      "needs_background": "light"
     },
     "output_type": "display_data"
    }
   ],
   "source": [
    "parse_results(som_pred, \"som\")"
   ]
  },
  {
   "cell_type": "markdown",
   "id": "c471dab1-1572-48f7-a439-27799f6b1032",
   "metadata": {},
   "source": [
    "### DBSCAN"
   ]
  },
  {
   "cell_type": "code",
   "execution_count": 146,
   "id": "c49bc6ee-b0a5-4fcb-ac47-dab033b9dc0a",
   "metadata": {},
   "outputs": [],
   "source": [
    "from sklearn.cluster import DBSCAN"
   ]
  },
  {
   "cell_type": "code",
   "execution_count": 150,
   "id": "7f5c0a7a-2a83-4715-bdd6-2b9e14a443eb",
   "metadata": {},
   "outputs": [
    {
     "name": "stdout",
     "output_type": "stream",
     "text": [
      "CPU times: user 3min 12s, sys: 17.9 ms, total: 3min 12s\n",
      "Wall time: 3min 12s\n"
     ]
    }
   ],
   "source": [
    "%%time\n",
    "\n",
    "dbscan_pred = DBSCAN().fit_predict(dataset_encoded)"
   ]
  },
  {
   "cell_type": "code",
   "execution_count": 151,
   "id": "a7e3f6ac-f85a-4f46-bcfb-2ee1b494ba6e",
   "metadata": {},
   "outputs": [
    {
     "name": "stdout",
     "output_type": "stream",
     "text": [
      "cluster 0 : 4810 messages\n",
      "cluster 1 : 7 messages\n",
      "cluster 2 : 5 messages\n",
      "cluster 3 : 8 messages\n",
      "cluster 4 : 6 messages\n",
      "cluster 5 : 6 messages\n",
      "cluster 6 : 5 messages\n",
      "cluster 7 : 5 messages\n",
      "cluster 8 : 35 messages\n",
      "cluster 9 : 7 messages\n",
      "cluster 10 : 9 messages\n",
      "cluster 11 : 6 messages\n",
      "cluster 12 : 5 messages\n",
      "cluster 13 : 18 messages\n",
      "cluster 14 : 5 messages\n",
      "cluster 15 : 5 messages\n",
      "cluster 16 : 6 messages\n",
      "cluster 17 : 6 messages\n",
      "cluster 18 : 5 messages\n",
      "cluster 19 : 5 messages\n",
      "cluster 20 : 5 messages\n",
      "cluster 21 : 6 messages\n",
      "cluster 22 : 7 messages\n",
      "cluster 23 : 10 messages\n",
      "cluster 24 : 8 messages\n",
      "Les 20 mots les plus fréquents du cluster 0 : a ça plus si quand fait faire tout cette être comme bien va trop tous quoi non là rt rien \n",
      "\n",
      "Les 20 mots les plus fréquents du cluster 1 : oui \n",
      "\n",
      "Les 20 mots les plus fréquents du cluster 2 : voilà \n",
      "\n",
      "Les 20 mots les plus fréquents du cluster 3 : merci \n",
      "\n",
      "Les 20 mots les plus fréquents du cluster 4 : yassification \n",
      "\n",
      "Les 20 mots les plus fréquents du cluster 5 : pls vote ralphella \n",
      "\n",
      "Les 20 mots les plus fréquents du cluster 6 : addition quand voit multiplication \n",
      "\n",
      "Les 20 mots les plus fréquents du cluster 7 : language barrier \n",
      "\n",
      "Les 20 mots les plus fréquents du cluster 8 : \n",
      "\n",
      "Les 20 mots les plus fréquents du cluster 9 : promet blague a disparu mineur police veut rien faire si consulté free rt supplie \n",
      "\n",
      "Les 20 mots les plus fréquents du cluster 10 : bonjour \n",
      "\n",
      "Les 20 mots les plus fréquents du cluster 11 : lis quoi là passe aide \n",
      "\n",
      "Les 20 mots les plus fréquents du cluster 12 : no comment \n",
      "\n",
      "Les 20 mots les plus fréquents du cluster 13 : merci edouard mendy stop ça prendra temps allez finir respecter vouliez non \n",
      "\n",
      "Les 20 mots les plus fréquents du cluster 14 : cet homme risque vie aller filmer camps concentration ouïghours confirmer existent bel bien journalisme \n",
      "\n",
      "Les 20 mots les plus fréquents du cluster 15 : the crux \n",
      "\n",
      "Les 20 mots les plus fréquents du cluster 16 : a ptn envie pleurer svp rt max faites tourner sais si vu contactez numéros indiquer envoyez dm dernières nouvelles hier \n",
      "\n",
      "Les 20 mots les plus fréquents du cluster 17 : non \n",
      "\n",
      "Les 20 mots les plus fréquents du cluster 18 : twitter plus personnes actuellement réunies space agit record france voici résumé affaires révélées accrochez \n",
      "\n",
      "Les 20 mots les plus fréquents du cluster 19 : prêts vais sortir mars avril avant après football mondial \n",
      "\n",
      "Les 20 mots les plus fréquents du cluster 20 : our choice is rosé \n",
      "\n",
      "Les 20 mots les plus fréquents du cluster 21 : paris \n",
      "\n",
      "Les 20 mots les plus fréquents du cluster 22 : viens voir croissant a \n",
      "\n",
      "Les 20 mots les plus fréquents du cluster 23 : roi rats a tout compris \n",
      "\n",
      "Les 20 mots les plus fréquents du cluster 24 : rendez paillasson \n",
      "\n",
      "cluster 0 (clé -1)\n",
      "\"Je me souviens de l’excitation la veille du 17. Comme à la veille d’un voyage\n",
      "\n",
      "\"Cet arbre est nommé le denier Ṣaḥābī (compagnon) vivant. Situé dans le désert inhospitalier du nord de la Jordanie\n",
      "\n",
      "Ne prends pas ton manque de culture pour une généralité\n",
      "\n",
      "\n",
      "cluster 1 (clé 0)\n",
      "\"Oui\n",
      "\n",
      "\"Oui\n",
      "\n",
      "\"Oui\n",
      "\n",
      "\n",
      "cluster 2 (clé 1)\n",
      "Voilà https://t.co/G8q4ev9DCM\n",
      "\n",
      "Voilà. https://t.co/oPJamNkWUu\n",
      "\n",
      "Et voilà\n",
      "\n",
      "\n",
      "cluster 3 (clé 2)\n",
      "Merci\n",
      "\n",
      "Merci\n",
      "\n",
      "Merci !\n",
      "\n",
      "\n",
      "cluster 4 (clé 3)\n",
      "yassification https://t.co/RYngY51fZd\n",
      "\n",
      "yassification https://t.co/RYngY51fZd\n",
      "\n",
      "yassification https://t.co/RYngY51fZd\n",
      "\n",
      "\n",
      "cluster 5 (clé 4)\n",
      "Pls vote RalphElla#RAWRAwards2021 #RAWRRalphEllaSs805\n",
      "\n",
      "Pls vote RalphElla#RAWRAwards2021 #RAWRRalphEllaQq106\n",
      "\n",
      "Pls vote RalphElla#RAWRAwards2021 #RAWRRalphEllaSs708\n",
      "\n",
      "\n",
      "cluster 6 (clé 5)\n",
      "L’addition quand elle voit une multiplication : https://t.co/5LQj7oL7LT\n",
      "\n",
      "L’addition quand elle voit une multiplication : https://t.co/5LQj7oL7LT\n",
      "\n",
      "L’addition quand elle voit une multiplication : https://t.co/5LQj7oL7LT\n",
      "\n",
      "\n",
      "cluster 7 (clé 6)\n",
      "language barrier 🐘 #genshinimpact #原神 https://t.co/dvf43wteOi\n",
      "\n",
      "language barrier 🐘 #genshinimpact #原神 https://t.co/dvf43wteOi\n",
      "\n",
      "language barrier 🐘 #genshinimpact #原神 https://t.co/dvf43wteOi\n",
      "\n",
      "\n",
      "cluster 8 (clé 7)\n",
      "je suis #tropbeau https://t.co/zXa671ohgv\n",
      "\n",
      "on = toi\n",
      "\n",
      "\"#Groupe 3\n",
      "\n",
      "\n",
      "cluster 9 (clé 8)\n",
      "Je vous promet que c’est pas une blague elle a disparu elle est mineur la police ne veut rien faire (si ce n’est consulté Free)RT JE VOUS SUPPLIE ❗️❗️❗️❗️ https://t.co/m4nk6wJs95\n",
      "\n",
      "Je vous promet que c’est pas une blague elle a disparu elle est mineur la police ne veut rien faire (si ce n’est consulté Free)RT JE VOUS SUPPLIE ❗️❗️❗️❗️ https://t.co/m4nk6wJs95\n",
      "\n",
      "Je vous promet que c’est pas une blague elle a disparu elle est mineur la police ne veut rien faire (si ce n’est consulté Free)RT JE VOUS SUPPLIE ❗️❗️❗️❗️ https://t.co/m4nk6wJs95\n",
      "\n",
      "\n",
      "cluster 10 (clé 9)\n",
      "Bonjour 😉\n",
      "\n",
      "Bonjour https://t.co/YvfXp9YETL\n",
      "\n",
      "\"Bonjour\n",
      "\n",
      "\n",
      "cluster 11 (clé 10)\n",
      "MAIS JE LIS QUOI LÀ !??QU'EST-CE QU'IL SE PASSE !??À L'AIDE !!! https://t.co/Qxo0GVgTAd https://t.co/65BFIgkH27\n",
      "\n",
      "MAIS JE LIS QUOI LÀ !??QU'EST-CE QU'IL SE PASSE !??À L'AIDE !!! https://t.co/Qxo0GVgTAd https://t.co/65BFIgkH27\n",
      "\n",
      "MAIS JE LIS QUOI LÀ !??QU'EST-CE QU'IL SE PASSE !??À L'AIDE !!! https://t.co/Qxo0GVgTAd https://t.co/65BFIgkH27\n",
      "\n",
      "\n",
      "cluster 12 (clé 11)\n",
      "No comment 💀💀💀\n",
      "\n",
      "No comment https://t.co/zdRbtlAWCr\n",
      "\n",
      "no comment😀😀😀😀 https://t.co/sGXz8e7Rn2\n",
      "\n",
      "\n",
      "cluster 13 (clé 12)\n",
      "Merci Edouard Mendy! Nous sommes en 2021 😔😔😔! STOP 💪🏿🛑✋🏿Ça prendra du temps mais vous allez finir par nous respecter! Que vous le vouliez ou non 😡😡😡! https://t.co/sg52f2MbyB\n",
      "\n",
      "Merci Edouard Mendy! Nous sommes en 2021 😔😔😔! STOP 💪🏿🛑✋🏿Ça prendra du temps mais vous allez finir par nous respecter! Que vous le vouliez ou non 😡😡😡! https://t.co/sg52f2MbyB\n",
      "\n",
      "Merci Edouard Mendy! Nous sommes en 2021 😔😔😔! STOP 💪🏿🛑✋🏿Ça prendra du temps mais vous allez finir par nous respecter! Que vous le vouliez ou non 😡😡😡! https://t.co/sg52f2MbyB\n",
      "\n",
      "\n",
      "cluster 14 (clé 13)\n",
      "\"Cet homme risque sa vie pour aller filmer les camps de concentration de Ouïghours en 🇨🇳 et pour confirmer qu'ils existent bel et bien.Le journalisme\n",
      "\n",
      "\"Cet homme risque sa vie pour aller filmer les camps de concentration de Ouïghours en 🇨🇳 et pour confirmer qu'ils existent bel et bien.Le journalisme\n",
      "\n",
      "\"Cet homme risque sa vie pour aller filmer les camps de concentration de Ouïghours en 🇨🇳 et pour confirmer qu'ils existent bel et bien.Le journalisme\n",
      "\n",
      "\n",
      "cluster 15 (clé 14)\n",
      "The Crux #GenshinImpact #原神 https://t.co/V1c44wQiqO\n",
      "\n",
      "The Crux #GenshinImpact #原神 https://t.co/V1c44wQiqO\n",
      "\n",
      "The Crux #GenshinImpact #原神 https://t.co/V1c44wQiqO\n",
      "\n",
      "\n",
      "cluster 16 (clé 15)\n",
      "Ptn j’ai envie de pleurer svp rt a max faites tourner je sais pas mais si vous l’avez vu contactez les numéros indiquer ou même envoyez moi un dm les dernières nouvelles qu’on a eu c’était hier … https://t.co/nkUlR3WOV2\n",
      "\n",
      "Ptn j’ai envie de pleurer svp rt a max faites tourner je sais pas mais si vous l’avez vu contactez les numéros indiquer ou même envoyez moi un dm les dernières nouvelles qu’on a eu c’était hier … https://t.co/nkUlR3WOV2\n",
      "\n",
      "Ptn j’ai envie de pleurer svp rt a max faites tourner je sais pas mais si vous l’avez vu contactez les numéros indiquer ou même envoyez moi un dm les dernières nouvelles qu’on a eu c’était hier … https://t.co/nkUlR3WOV2\n",
      "\n",
      "\n",
      "cluster 17 (clé 16)\n",
      "\"Non\n",
      "\n",
      "\"Non\n",
      "\n",
      "non nous 2 🙄\n",
      "\n",
      "\n",
      "cluster 18 (clé 17)\n",
      "🇫🇷⚽️ TWITTER | Plus de 60.000 personnes sont actuellement réunies sur le Space de il s’agit d’un record en France.Voici un résumé des affaires révélées (accrochez-vous) :\n",
      "\n",
      "🇫🇷⚽️ TWITTER | Plus de 60.000 personnes sont actuellement réunies sur le Space de il s’agit d’un record en France.Voici un résumé des affaires révélées (accrochez-vous) :\n",
      "\n",
      "🇫🇷⚽️ TWITTER | Plus de 60.000 personnes sont actuellement réunies sur le Space de il s’agit d’un record en France.Voici un résumé des affaires révélées (accrochez-vous) :\n",
      "\n",
      "\n",
      "cluster 19 (clé 18)\n",
      "🔴 : « Vous n’êtes pas prêts pour ce que je vais sortir pour mars-avril. Il y aura un avant et un après dans le football mondial. »\n",
      "\n",
      "🔴 : « Vous n’êtes pas prêts pour ce que je vais sortir pour mars-avril. Il y aura un avant et un après dans le football mondial. »\n",
      "\n",
      "🔴 : « Vous n’êtes pas prêts pour ce que je vais sortir pour mars-avril. Il y aura un avant et un après dans le football mondial. »\n",
      "\n",
      "\n",
      "cluster 20 (clé 19)\n",
      "OUR CHOICE IS ROSÉ#MAMAVOTE #rosé\n",
      "\n",
      "OUR CHOICE IS ROSÉ #MAMAVOTE #rosé\n",
      "\n",
      "OUR CHOICE IS ROSÉ#MAMAVOTE #rosé https://t.co/cQ98Lca1K0\n",
      "\n",
      "\n",
      "cluster 21 (clé 20)\n",
      "2000s paris https://t.co/sUB2diOriS\n",
      "\n",
      "Paris https://t.co/LgqJBTupIQ\n",
      "\n",
      "2000s paris https://t.co/sUB2diOriS\n",
      "\n",
      "\n",
      "cluster 22 (clé 21)\n",
      "\"Je viens de voir un croissant a 1\n",
      "\n",
      "\"Je viens de voir un croissant a 1\n",
      "\n",
      "\"Je viens de voir un croissant a 1\n",
      "\n",
      "\n",
      "cluster 23 (clé 22)\n",
      "Lui c’est le roi des rats il a tout compris https://t.co/mLd0D0fWwZ\n",
      "\n",
      "Lui c’est le roi des rats il a tout compris https://t.co/mLd0D0fWwZ\n",
      "\n",
      "Lui c’est le roi des rats il a tout compris https://t.co/mLd0D0fWwZ\n",
      "\n",
      "\n",
      "cluster 24 (clé 23)\n",
      "Rendez lui son paillasson https://t.co/nnnnQVSRJT\n",
      "\n",
      "Rendez lui son paillasson https://t.co/nnnnQVSRJT\n",
      "\n",
      "Rendez lui son paillasson https://t.co/nnnnQVSRJT\n",
      "\n",
      "\n"
     ]
    },
    {
     "data": {
      "image/png": "[encoded data removed]",
      "text/plain": [
       "<Figure size 720x720 with 1 Axes>"
      ]
     },
     "metadata": {
      "needs_background": "light"
     },
     "output_type": "display_data"
    }
   ],
   "source": [
    "parse_results(dbscan_pred, \"dbscan\")"
   ]
  },
  {
   "cell_type": "code",
   "execution_count": 155,
   "id": "e78ec817-a223-4d4b-9d17-0fee6f0ba2c0",
   "metadata": {},
   "outputs": [
    {
     "data": {
      "text/plain": [
       "array([[0.        , 5.38516481, 3.46410162, ..., 4.79583152, 3.87298335,\n",
       "        3.60555128],\n",
       "       [5.38516481, 0.        , 5.56776436, ..., 6.4807407 , 6.        ,\n",
       "        5.83095189],\n",
       "       [3.46410162, 5.56776436, 0.        , ..., 5.        , 4.35889894,\n",
       "        4.12310563],\n",
       "       ...,\n",
       "       [4.79583152, 6.4807407 , 5.        , ..., 0.        , 5.47722558,\n",
       "        5.29150262],\n",
       "       [3.87298335, 6.        , 4.35889894, ..., 5.47722558, 0.        ,\n",
       "        4.47213595],\n",
       "       [3.60555128, 5.83095189, 4.12310563, ..., 5.29150262, 4.47213595,\n",
       "        0.        ]])"
      ]
     },
     "execution_count": 155,
     "metadata": {},
     "output_type": "execute_result"
    }
   ],
   "source": [
    "from sklearn.metrics import pairwise_distances\n",
    "\n",
    "a = dataset_encoded[0]\n",
    "b = dataset_encoded[1]\n",
    "\n",
    "pairwise_distances(dataset_encoded)"
   ]
  },
  {
   "cell_type": "markdown",
   "id": "e3a192a5-548f-481a-bf86-afdd7569133c",
   "metadata": {},
   "source": [
    "### Affinity propagation"
   ]
  },
  {
   "cell_type": "code",
   "execution_count": 156,
   "id": "c323a408-f804-4bb8-b690-6547eaee81ab",
   "metadata": {},
   "outputs": [],
   "source": [
    "from sklearn.cluster import AffinityPropagation"
   ]
  },
  {
   "cell_type": "code",
   "execution_count": 157,
   "id": "e2dbe21c-1494-4d49-b9cf-fac9686764a2",
   "metadata": {},
   "outputs": [
    {
     "name": "stdout",
     "output_type": "stream",
     "text": [
      "CPU times: user 5min 8s, sys: 987 ms, total: 5min 9s\n",
      "Wall time: 5min 9s\n"
     ]
    },
    {
     "name": "stderr",
     "output_type": "stream",
     "text": [
      "/home/victor/fidle/fidle-env/lib/python3.9/site-packages/sklearn/cluster/_affinity_propagation.py:250: ConvergenceWarning: Affinity propagation did not converge, this model will not have any cluster centers.\n",
      "  warnings.warn(\n"
     ]
    }
   ],
   "source": [
    "%%time\n",
    "\n",
    "AP_pred = AffinityPropagation().fit_predict(dataset_encoded)"
   ]
  },
  {
   "cell_type": "code",
   "execution_count": 159,
   "id": "21fe0f13-05c0-4a29-83e1-491150f35527",
   "metadata": {},
   "outputs": [
    {
     "name": "stdout",
     "output_type": "stream",
     "text": [
      "cluster 0 : 5000 messages\n",
      "Les 20 mots les plus fréquents du cluster 0 : a ça plus si quand tout faire fait cette être comme bien va trop non tous quoi merci rt là \n",
      "\n",
      "cluster 0 (clé -1)\n",
      "M. Pokora si les actes ne l’avait pas manqués https://t.co/Q7U9upiEjc\n",
      "\n",
      "Le programme des équipes du CBB jouant à domicile samedi prochain #cherbourgbasketball #cherbourg #basket #CBB #championnat #matchs #region https://t.co/44W849jlGG\n",
      "\n",
      "C'est une de nos qualités quand on est Army😌😌 tmtc\n",
      "\n",
      "\n"
     ]
    },
    {
     "data": {
      "image/png": "[encoded data removed]",
      "text/plain": [
       "<Figure size 720x720 with 1 Axes>"
      ]
     },
     "metadata": {
      "needs_background": "light"
     },
     "output_type": "display_data"
    }
   ],
   "source": [
    "parse_results(AP_pred, \"AP\")"
   ]
  },
  {
   "cell_type": "code",
   "execution_count": null,
   "id": "e12b6c92-cf2f-4703-ab4a-fc0f555f754d",
   "metadata": {},
   "outputs": [],
   "source": []
  }
 ],
 "metadata": {
  "kernelspec": {
   "display_name": "Python 3",
   "language": "python",
   "name": "python3"
  },
  "language_info": {
   "codemirror_mode": {
    "name": "ipython",
    "version": 3
   },
   "file_extension": ".py",
   "mimetype": "text/x-python",
   "name": "python",
   "nbconvert_exporter": "python",
   "pygments_lexer": "ipython3",
   "version": "3.9.2"
  }
 },
 "nbformat": 4,
 "nbformat_minor": 5
}
