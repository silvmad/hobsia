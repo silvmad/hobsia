{
 "cells": [
  {
   "cell_type": "code",
   "execution_count": 2,
   "id": "488d77da-cb87-4153-9f56-60b4f3d1c6f7",
   "metadata": {},
   "outputs": [],
   "source": [
    "import spacy\n",
    "import re\n",
    "from spacy.lang.fr.stop_words import STOP_WORDS as fr_stop"
   ]
  },
  {
   "cell_type": "code",
   "execution_count": 3,
   "id": "30325d32-c5b6-487f-b621-c9c9fa031b41",
   "metadata": {},
   "outputs": [],
   "source": [
    "#le nom du fichier contenant le dataset\n",
    "dataset = \"dataset_hate\" \n",
    "\n",
    "#le nom du fichier contenant la stoplist\n",
    "stoplist = \"stoplist.txt\"\n",
    "\n",
    "#le nom du fichier dans lequel le dataset nettoyé sera sauvegardé\n",
    "clean_dataset = \"clean_dataset_hate\""
   ]
  },
  {
   "cell_type": "code",
   "execution_count": 4,
   "id": "19736e86-cd59-4767-b41e-5f2d2ecb9414",
   "metadata": {},
   "outputs": [],
   "source": [
    "with open(stoplist, \"r\") as f:\n",
    "    stopwords = f.read().splitlines()"
   ]
  },
  {
   "cell_type": "code",
   "execution_count": 5,
   "id": "caf074bb-302d-4f5e-b9a9-283ba237f43e",
   "metadata": {},
   "outputs": [],
   "source": [
    "#importer le vocabulaire français\n",
    "nlp = spacy.load(\"fr_core_news_sm\")"
   ]
  },
  {
   "cell_type": "code",
   "execution_count": 6,
   "id": "2b1948ff-5b13-423b-8ce1-f3c41fecc95c",
   "metadata": {},
   "outputs": [],
   "source": [
    "#Récupération des tweets\n",
    "with open(dataset, \"r\") as file:\n",
    "    raw_data = file.readlines()"
   ]
  },
  {
   "cell_type": "code",
   "execution_count": 7,
   "id": "c983dd9d-a429-4673-a369-5913b93ca03b",
   "metadata": {},
   "outputs": [
    {
     "name": "stdout",
     "output_type": "stream",
     "text": [
      "CPU times: user 56.2 s, sys: 118 ms, total: 56.3 s\n",
      "Wall time: 56.3 s\n"
     ]
    }
   ],
   "source": [
    "%%time \n",
    "\n",
    "#transformer les tweets en objet spacy\n",
    "docs = list(nlp.pipe(raw_data))"
   ]
  },
  {
   "cell_type": "code",
   "execution_count": 8,
   "id": "865c0408-2d49-4bb7-acda-4a9a0e83b9e0",
   "metadata": {},
   "outputs": [
    {
     "name": "stdout",
     "output_type": "stream",
     "text": [
      "CPU times: user 224 ms, sys: 24 ms, total: 248 ms\n",
      "Wall time: 246 ms\n"
     ]
    }
   ],
   "source": [
    "%%time\n",
    "\n",
    "#tokeniser et lemmatiser l'ensemble des tweets\n",
    "\"\"\" -enlever la ponctuation,\n",
    "    - enlever les espaces\n",
    "    -enlever les email\n",
    "    -enlever les urls\"\"\"\n",
    "first_clean_data = [[token.lemma_.lower() for token in doc \n",
    "                               if not token.is_punct and not token.is_space and not token.like_url and not token.like_email and token.tag_!= 'Num'] for doc in docs]"
   ]
  },
  {
   "cell_type": "code",
   "execution_count": 9,
   "id": "5a4cc8e7-9359-4cda-83c3-51ad88572267",
   "metadata": {},
   "outputs": [],
   "source": [
    "#Deuxième passe de nettoyage\n",
    "def clean(msg):\n",
    "    clean_msg = []\n",
    "    for word in msg:\n",
    "        #Supprimer tout ce qui n'est pas des lettres\n",
    "        clean_word = re.sub(r'\\W', '', word)\n",
    "        #Supprimer les chiffres\n",
    "        clean_word = re.sub(r'\\d', '', clean_word)\n",
    "        if clean_word not in stopwords : \n",
    "            clean_msg.append(clean_word)\n",
    "    return clean_msg"
   ]
  },
  {
   "cell_type": "code",
   "execution_count": 10,
   "id": "ea70936e-07df-43be-898b-af5a962c2a68",
   "metadata": {},
   "outputs": [
    {
     "name": "stdout",
     "output_type": "stream",
     "text": [
      "CPU times: user 2.13 s, sys: 3.96 ms, total: 2.13 s\n",
      "Wall time: 2.13 s\n"
     ]
    }
   ],
   "source": [
    "%%time\n",
    "clean_data = []\n",
    "\n",
    "#Nettoyage des tweets\n",
    "for msg in first_clean_data:\n",
    "    clean_data.append(clean(msg))"
   ]
  },
  {
   "cell_type": "code",
   "execution_count": 11,
   "id": "e14b3487-f532-44a6-a5c5-a51c876c6316",
   "metadata": {},
   "outputs": [
    {
     "name": "stdout",
     "output_type": "stream",
     "text": [
      "pov tu construis un rideau avec un sac à linge sale et des bd\n",
      "['pov', 'tu', 'construire', 'un', 'rideau', 'avec', 'un', 'sac', 'à', 'linge', 'sale', 'et', 'de', 'bd']\n",
      "['pov', 'construire', 'rideau', 'sac', 'linge', 'sale', 'bd']\n"
     ]
    }
   ],
   "source": [
    "#On a bien uniquement du texte\n",
    "print(raw_data[0], end='')\n",
    "print(first_clean_data[0])\n",
    "print(clean_data[0])"
   ]
  },
  {
   "cell_type": "code",
   "execution_count": 13,
   "id": "8e0adb10-3171-447f-9ace-bbe8b6dcdca6",
   "metadata": {},
   "outputs": [],
   "source": [
    "#enregistrer sur le disque\n",
    "with open(clean_dataset, \"w\") as f:\n",
    "    for msg in clean_data:\n",
    "        f.write(\" \".join(msg) + '\\n')"
   ]
  },
  {
   "cell_type": "code",
   "execution_count": null,
   "id": "a56ae39b-085d-4051-8989-b441e59253bd",
   "metadata": {},
   "outputs": [],
   "source": []
  }
 ],
 "metadata": {
  "kernelspec": {
   "display_name": "Python 3",
   "language": "python",
   "name": "python3"
  },
  "language_info": {
   "codemirror_mode": {
    "name": "ipython",
    "version": 3
   },
   "file_extension": ".py",
   "mimetype": "text/x-python",
   "name": "python",
   "nbconvert_exporter": "python",
   "pygments_lexer": "ipython3",
   "version": "3.9.2"
  }
 },
 "nbformat": 4,
 "nbformat_minor": 5
}
