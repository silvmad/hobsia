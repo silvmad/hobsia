{
 "cells": [
  {
   "cell_type": "code",
   "execution_count": 1,
   "id": "17deb799-029e-4828-9287-ff97d293eecc",
   "metadata": {},
   "outputs": [],
   "source": [
    "import numpy as np\n",
    "from gensim.models import Word2Vec\n",
    "from gensim.models import Doc2Vec\n",
    "from gensim.models.doc2vec import TaggedDocument\n",
    "from gensim.models import KeyedVectors"
   ]
  },
  {
   "cell_type": "code",
   "execution_count": 4,
   "id": "5837867b-137d-4c77-bc7c-92c2d1dc02d0",
   "metadata": {},
   "outputs": [],
   "source": [
    "clean_dataset_file = \"datasets/global_datasetMin.txt\""
   ]
  },
  {
   "cell_type": "markdown",
   "id": "1533e8ce-414b-423b-bcb4-5f14cb7b0a0c",
   "metadata": {},
   "source": [
    "## Modèles word2vec\n",
    "\n",
    "### Entraînement"
   ]
  },
  {
   "cell_type": "code",
   "execution_count": 3,
   "id": "cfa95f12-c257-4f9f-82fe-6e65581bfbf8",
   "metadata": {},
   "outputs": [],
   "source": [
    "%%time \n",
    "model = Word2Vec(corpus_file=clean_dataset_file, vector_size=100, window=5, min_count=2, workers=8, sg=1)"
   ]
  },
  {
   "cell_type": "code",
   "execution_count": 4,
   "id": "332db7f3-a1c0-4490-9474-b4ccaca2a2c1",
   "metadata": {},
   "outputs": [],
   "source": [
    "%%time \n",
    "model_200 = Word2Vec(corpus_file=clean_dataset_file, vector_size=200, window=5, min_count=2, workers=8, sg=1)"
   ]
  },
  {
   "cell_type": "code",
   "execution_count": 13,
   "id": "bf7a66d0-187c-4205-a454-ac759e4f11d7",
   "metadata": {},
   "outputs": [
    {
     "name": "stdout",
     "output_type": "stream",
     "text": [
      "CPU times: user 15min 12s, sys: 7.89 s, total: 15min 20s\n",
      "Wall time: 2min 20s\n"
     ]
    }
   ],
   "source": [
    "%%time \n",
    "model_300 = Word2Vec(corpus_file=clean_dataset_file, vector_size=300, window=5, min_count=2, workers=8, sg=1)"
   ]
  },
  {
   "cell_type": "markdown",
   "id": "3915b291-fff0-40b6-bb4f-f149b976d07e",
   "metadata": {},
   "source": [
    "### Sauvegarde des modèles"
   ]
  },
  {
   "cell_type": "code",
   "execution_count": 6,
   "id": "229d24a0-3a7a-4102-94f3-9e3a30b19c5a",
   "metadata": {},
   "outputs": [],
   "source": [
    "wv = model.wv\n",
    "wv.save(\"models/w2vec_model_d100_1M\")"
   ]
  },
  {
   "cell_type": "code",
   "execution_count": 7,
   "id": "81f68679-1f97-46b7-98ad-65917e7dbe31",
   "metadata": {},
   "outputs": [],
   "source": [
    "wv = model_200.wv\n",
    "wv.save(\"models/w2vec_model_d200_1M\")"
   ]
  },
  {
   "cell_type": "code",
   "execution_count": 14,
   "id": "56244097-b9c8-43af-8e71-d6f0f591d6de",
   "metadata": {},
   "outputs": [],
   "source": [
    "wv = model_300.wv\n",
    "wv.save(\"models/w2vec_model_d300_global_Min\")"
   ]
  },
  {
   "cell_type": "markdown",
   "id": "7a9846c4-3143-4675-9538-9a5a02288afe",
   "metadata": {},
   "source": [
    "## Modèle doc2vec\n",
    "\n",
    "### Préparation des données"
   ]
  },
  {
   "cell_type": "code",
   "execution_count": 7,
   "id": "ea9b7795-f735-4953-a98a-9c2dfe1f3b29",
   "metadata": {},
   "outputs": [],
   "source": [
    "with open(clean_dataset_file, \"r\") as file:\n",
    "    lines = file.readlines()\n",
    "    \n",
    "clean_data = [line.split() for line in lines]\n",
    "\n",
    "doc_data = [TaggedDocument(words=data, tags=[i]) for i, data in enumerate(clean_data)]"
   ]
  },
  {
   "cell_type": "markdown",
   "id": "7e0d2c4f-8a92-4279-833f-9f27aa97b818",
   "metadata": {},
   "source": [
    "### Entraînement"
   ]
  },
  {
   "cell_type": "code",
   "execution_count": 5,
   "id": "6b3cb30f-8d5e-4ca8-9467-014da0c8d706",
   "metadata": {},
   "outputs": [
    {
     "name": "stdout",
     "output_type": "stream",
     "text": [
      "CPU times: user 9min 19s, sys: 5.54 s, total: 9min 25s\n",
      "Wall time: 1min 24s\n"
     ]
    }
   ],
   "source": [
    "%%time\n",
    "\n",
    "doc2v_model = Doc2Vec(corpus_file=clean_dataset_file, vector_size=300, workers=8, dbow_words = 1, min_count=2, epochs=10)"
   ]
  },
  {
   "cell_type": "markdown",
   "id": "0f42805e-c08c-4e2b-9cd8-0eeef5a71442",
   "metadata": {},
   "source": [
    "### Sauvegarde"
   ]
  },
  {
   "cell_type": "code",
   "execution_count": 6,
   "id": "5aec12d9-21db-41fe-95ef-d00bfe66b994",
   "metadata": {},
   "outputs": [],
   "source": [
    "doc2v_model.save('doc2v_model_global_Min')"
   ]
  },
  {
   "cell_type": "markdown",
   "id": "8b6882bd-89e2-4b5a-b49a-2b99b27c4516",
   "metadata": {},
   "source": [
    "## Exemple d'utilisation"
   ]
  },
  {
   "cell_type": "code",
   "execution_count": 9,
   "id": "ac7c7999-391b-41f5-ac17-8ee8de9d6802",
   "metadata": {},
   "outputs": [],
   "source": [
    "w2v_100d_model = KeyedVectors.load(\"models/w2vec_model_d100_1M\")\n",
    "model_dim = 100"
   ]
  },
  {
   "cell_type": "code",
   "execution_count": 1,
   "id": "080f9d56-585c-442d-abf4-4a6ba2dbb569",
   "metadata": {},
   "outputs": [],
   "source": [
    "def encode(msg, model, dim):\n",
    "    \"\"\"\n",
    "    Encode un message.\n",
    "    msg : liste de chaînes de caractères correspondant aux mots du message\n",
    "    model : le modèle utilisé pour l'encodage\n",
    "    dim : la dimension des vecteurs mots dans ce modèle\n",
    "    Renvoie un vecteur qui est la moyenne de tous les vecteurs correspondants aux mots du message\n",
    "    Si aucun mot du message n'est dans le modèle, renvoie un vecteur de zéros.\n",
    "    \"\"\"\n",
    "    return np.mean([model[word] for word in msg if word in model] or [np.zeros(dim)], axis = 0)"
   ]
  },
  {
   "cell_type": "code",
   "execution_count": 11,
   "id": "de071b97-1d45-4277-b7cf-3f432bd4e076",
   "metadata": {},
   "outputs": [
    {
     "data": {
      "text/plain": [
       "array([ 4.18351516e-02, -3.00552994e-02,  2.93862492e-01, -3.22550237e-01,\n",
       "        5.67456722e-01, -3.53782058e-01,  6.20573759e-04,  8.60297233e-02,\n",
       "       -1.15959801e-01, -2.19277292e-01,  4.27981466e-02, -1.07317016e-01,\n",
       "       -9.58199203e-02,  7.21499473e-02,  2.75918841e-01, -2.22999305e-02,\n",
       "        3.32399011e-01, -3.17189880e-02, -3.35851997e-01, -1.76247358e-01,\n",
       "       -1.28344111e-02, -1.09718651e-01, -4.38710690e-01, -4.01031561e-02,\n",
       "       -1.23104177e-01,  2.94926643e-01, -4.17810678e-01, -1.66892141e-01,\n",
       "       -5.40134430e-01, -2.85382941e-02,  4.30060804e-01, -1.78062543e-01,\n",
       "       -1.87055111e-01, -5.38300157e-01,  2.41067857e-02,  1.73097700e-01,\n",
       "        1.64522097e-01,  2.74127841e-01,  9.55908373e-02, -4.62221682e-01,\n",
       "        2.32840717e-01, -3.88882101e-01, -3.06208700e-01,  1.65211111e-01,\n",
       "        3.99650335e-01,  2.25923762e-01, -1.10780224e-01,  5.52508235e-03,\n",
       "        1.28892869e-01,  2.55674630e-01,  5.34657463e-02, -5.20176888e-02,\n",
       "       -7.70943537e-02, -1.68510929e-01, -2.84271538e-01,  2.09415108e-01,\n",
       "        2.91512311e-01, -6.32457137e-02,  4.13774192e-01,  3.61109793e-01,\n",
       "       -9.43556428e-02,  2.93041646e-01,  3.35970998e-01,  1.59100741e-01,\n",
       "       -9.34155807e-02,  3.91514003e-01,  3.12332287e-02, -1.50042027e-01,\n",
       "       -1.43172190e-01, -6.42080382e-02, -1.05146557e-01,  1.00911543e-01,\n",
       "        6.81315875e-03, -8.07490870e-02,  3.11837316e-01,  1.54168621e-01,\n",
       "        2.53567576e-01, -1.25357524e-01, -1.37967870e-01, -2.51366496e-01,\n",
       "       -2.09942311e-01, -1.69617891e-01, -3.87151957e-01,  1.51331112e-01,\n",
       "       -2.43480623e-01, -7.72106946e-02,  6.83664978e-02,  2.04856582e-02,\n",
       "        2.27483541e-01,  9.44501609e-02,  1.50753036e-01,  2.62935907e-01,\n",
       "       -1.17300451e-01,  3.41683418e-01,  2.43544221e-01,  2.30482236e-01,\n",
       "       -2.13324964e-01, -7.35453442e-02, -5.61929047e-02, -3.27892601e-04],\n",
       "      dtype=float32)"
      ]
     },
     "execution_count": 11,
     "metadata": {},
     "output_type": "execute_result"
    }
   ],
   "source": [
    "phrase = \"Mon tailleur est riche\".split()\n",
    "\n",
    "encode(phrase, w2v_100d_model, model_dim)"
   ]
  },
  {
   "cell_type": "code",
   "execution_count": 8,
   "id": "76532f06-7924-4248-844f-d1ca595a7c83",
   "metadata": {},
   "outputs": [],
   "source": [
    "d2v = Doc2Vec.load(\"models/doc2v_model_global_Min\")"
   ]
  },
  {
   "cell_type": "code",
   "execution_count": 14,
   "id": "4c04a760-96e6-4c5f-a65f-f3fdc50e1014",
   "metadata": {},
   "outputs": [
    {
     "data": {
      "text/plain": [
       "array([ 3.25924344e-02,  9.65289548e-02, -1.87063217e-02,  1.41754434e-01,\n",
       "       -3.84703316e-02, -3.41895707e-02,  4.88149188e-02,  8.10005963e-02,\n",
       "        1.94979366e-02, -4.11345698e-02, -9.99840908e-03,  2.36345623e-02,\n",
       "        1.24998698e-02,  1.59241781e-02, -3.27239893e-02,  1.49624618e-02,\n",
       "        3.52247506e-02, -7.17094466e-02,  5.75929508e-03,  1.43895345e-02,\n",
       "       -2.88615678e-03,  1.86007116e-02,  7.33369816e-05, -2.89414078e-02,\n",
       "        8.62125456e-02, -4.36879881e-02,  2.14435384e-02, -1.96394809e-02,\n",
       "       -2.14762203e-02, -2.17972808e-02, -1.91847719e-02,  1.59782264e-02,\n",
       "       -3.18497978e-02,  3.07049938e-02, -2.11984292e-03,  6.06949488e-03,\n",
       "        2.37713382e-02,  1.33918328e-02,  3.61802205e-02,  1.98899099e-04,\n",
       "       -2.84323655e-02, -1.55254826e-02,  7.29476754e-03, -2.08594166e-02,\n",
       "       -2.01968756e-02,  1.18922833e-02, -1.18742818e-02,  2.64078658e-02,\n",
       "        3.19818370e-02,  1.72190424e-02,  8.82046111e-03,  5.03719710e-02,\n",
       "        1.34704576e-03, -1.36607327e-03, -2.90859304e-03,  1.66076254e-02,\n",
       "       -1.89181864e-02, -1.85547434e-02, -2.01393962e-02, -1.79979410e-02,\n",
       "       -3.41566354e-02, -1.11632301e-02,  5.57532646e-02,  1.94775667e-02,\n",
       "       -3.57550122e-02, -5.07272361e-03, -1.08914254e-02,  4.58082147e-02,\n",
       "       -1.26304412e-02, -5.17611168e-02,  6.13180138e-02,  2.36797389e-02,\n",
       "        8.77728015e-02, -5.09881601e-02,  2.28511821e-02,  1.49009554e-02,\n",
       "       -3.12615708e-02,  1.09271705e-02, -3.06983907e-02, -5.80064114e-03,\n",
       "        1.38317673e-02, -3.04236226e-02, -1.32935317e-02,  3.85789871e-02,\n",
       "        1.37796090e-03, -1.08073149e-02, -3.36836465e-02,  2.00516023e-02,\n",
       "        1.93435811e-02, -7.91180655e-02, -1.01814969e-02,  1.82253460e-03,\n",
       "        4.41951156e-02, -1.42024253e-02,  1.23443082e-01,  1.99075341e-02,\n",
       "        2.66536549e-02, -3.20014767e-02,  3.86460088e-02,  1.92965772e-02,\n",
       "       -3.09642963e-03, -4.22415463e-03,  1.29677802e-02,  1.31899267e-02,\n",
       "        7.61716394e-03,  8.53023492e-03,  1.16329240e-02, -3.22187617e-02,\n",
       "       -3.23444046e-02, -1.97166782e-02,  3.74515653e-02, -5.65442741e-02,\n",
       "        3.36610526e-02, -9.31028277e-04, -1.70711260e-02,  7.39283264e-02,\n",
       "        3.00827739e-03,  3.54874171e-02, -1.29217207e-02, -4.10281941e-02,\n",
       "       -5.21946885e-03, -5.26449271e-02,  1.43472822e-02,  1.34193748e-02,\n",
       "        1.61448326e-02,  1.07996836e-02,  2.33316631e-03, -3.28575261e-02,\n",
       "        3.81202810e-02,  3.82302254e-02, -9.28797666e-03,  4.87732664e-02,\n",
       "        9.32986848e-03, -5.37975244e-02,  1.82320699e-02, -2.80355215e-02,\n",
       "       -2.39642281e-02, -2.15378422e-02, -2.12664362e-02, -3.70098241e-02,\n",
       "        8.00552499e-03, -3.64833847e-02, -4.07113545e-02,  5.93974441e-02,\n",
       "        9.83795058e-03,  2.86263060e-02, -4.32507321e-02, -1.96524058e-03,\n",
       "        5.69561915e-03, -3.15628313e-02,  4.51974664e-03, -6.39397651e-02,\n",
       "       -1.26935001e-02, -5.74713387e-03, -4.61499585e-04,  4.93472591e-02,\n",
       "       -3.93938310e-02,  8.61319434e-03, -3.06993127e-02,  1.46635957e-02,\n",
       "        6.28947094e-03, -1.37245946e-03,  4.68488857e-02, -2.02049478e-03,\n",
       "       -4.35104035e-02,  8.38163216e-03, -2.41218992e-02, -1.23492787e-02,\n",
       "       -7.64889922e-03,  9.08797793e-03,  2.76247934e-02, -4.92622005e-03,\n",
       "        8.99045020e-02,  1.54623874e-02, -7.60692870e-03, -3.99503252e-03,\n",
       "       -5.25764115e-02, -3.22728530e-02, -2.56540086e-02, -2.36089583e-02,\n",
       "       -1.12643745e-02,  1.16449576e-02,  2.10354496e-02, -2.28211395e-02,\n",
       "       -2.00133864e-02,  1.46825071e-02,  1.03097828e-02,  4.43854928e-03,\n",
       "        2.60612126e-02, -5.87106158e-04,  4.25120257e-02,  1.28169926e-02,\n",
       "       -2.15046350e-02, -2.90541295e-02, -4.47550490e-02, -2.08757371e-02,\n",
       "       -6.19913936e-02, -4.73180600e-02,  5.70795313e-02, -7.00420588e-02,\n",
       "        2.42059007e-02, -5.10412641e-02,  2.22132355e-02,  3.69114578e-02,\n",
       "       -6.03526831e-02, -8.38000420e-03, -4.06782106e-02,  1.41933411e-02,\n",
       "        2.36372761e-02, -2.32423982e-03, -1.57904271e-02,  5.56531269e-03,\n",
       "        3.13132303e-03, -3.28637470e-05, -8.31894856e-03, -4.57131565e-02,\n",
       "       -3.61608341e-02, -1.14204269e-03,  4.21185419e-02, -1.15606394e-02,\n",
       "        2.62307422e-03,  3.97728523e-03, -2.72709168e-02, -1.42728630e-02,\n",
       "        2.40416396e-02, -5.82758524e-02, -2.00778507e-02, -1.39280530e-02,\n",
       "       -1.40309231e-02, -9.37747862e-03,  1.50673185e-02, -4.61922958e-02,\n",
       "       -1.93260163e-02,  2.26428229e-02, -4.49200012e-02,  3.54851410e-02,\n",
       "       -2.02415496e-04,  1.45371901e-02,  5.06597897e-03, -8.73570070e-02,\n",
       "        7.95546360e-03, -4.90935743e-02, -1.17197381e-02, -3.20835039e-02,\n",
       "        2.18084995e-02, -2.65834816e-02,  6.14668848e-03,  7.51330284e-03,\n",
       "        3.25898230e-02,  2.98898090e-02,  6.44274405e-04,  2.83521097e-02,\n",
       "        3.64862867e-02,  1.26184560e-02, -5.05836345e-02, -1.94374695e-02,\n",
       "        2.19653640e-02,  3.20483036e-02, -5.83834127e-02, -2.16804184e-02,\n",
       "       -9.26843844e-03,  1.55183896e-02,  2.10262947e-02, -5.37249520e-02,\n",
       "        3.45032290e-03, -8.54251382e-04, -3.41517814e-02,  1.83438100e-02,\n",
       "       -2.35045794e-02,  4.48066667e-02,  3.66653758e-03,  1.36944070e-03,\n",
       "        4.32894519e-03,  2.20782775e-02,  3.83722931e-02,  2.42772698e-02,\n",
       "       -8.45990493e-04, -5.70493825e-02, -2.31284741e-02, -2.07696334e-02,\n",
       "        8.75856727e-03, -2.96462234e-02, -4.04867791e-02, -2.31498554e-02,\n",
       "        2.74858228e-03,  1.74943183e-03, -3.71292643e-02, -1.55192418e-02,\n",
       "       -4.35469747e-02,  4.89679910e-02, -3.19617912e-02,  4.84971665e-02,\n",
       "        3.14519741e-02,  7.31182005e-03, -3.33212093e-02,  3.15477774e-02,\n",
       "       -2.43489929e-02, -1.14253387e-02, -3.57789248e-02, -7.00170407e-03],\n",
       "      dtype=float32)"
      ]
     },
     "execution_count": 14,
     "metadata": {},
     "output_type": "execute_result"
    }
   ],
   "source": [
    "d2v.infer_vector(phrase)"
   ]
  },
  {
   "cell_type": "code",
   "execution_count": null,
   "id": "9af95d46-f079-4616-af99-2f787173d2dd",
   "metadata": {},
   "outputs": [],
   "source": []
  }
 ],
 "metadata": {
  "kernelspec": {
   "display_name": "Python 3 (ipykernel)",
   "language": "python",
   "name": "python3"
  },
  "language_info": {
   "codemirror_mode": {
    "name": "ipython",
    "version": 3
   },
   "file_extension": ".py",
   "mimetype": "text/x-python",
   "name": "python",
   "nbconvert_exporter": "python",
   "pygments_lexer": "ipython3",
   "version": "3.9.2"
  }
 },
 "nbformat": 4,
 "nbformat_minor": 5
}
