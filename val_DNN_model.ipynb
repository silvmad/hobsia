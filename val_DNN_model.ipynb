{
 "cells": [
  {
   "cell_type": "code",
   "execution_count": 27,
   "id": "124bdb38-8baa-43d8-beb3-b3878eb36522",
   "metadata": {},
   "outputs": [],
   "source": [
    "import tensorflow as tf\n",
    "import tensorflow.keras as keras\n",
    "import pandas as pd\n",
    "import numpy as np\n",
    "from gensim.models import KeyedVectors\n",
    "from sklearn.model_selection import train_test_split\n",
    "import matplotlib.pyplot as pyplot\n",
    "import random\n",
    "from confmat import plot_confusion_matrix"
   ]
  },
  {
   "cell_type": "markdown",
   "id": "f7e1b455-070c-4927-8ee1-9ead54a58ac0",
   "metadata": {},
   "source": [
    "### Chargement du modèle d'encodage"
   ]
  },
  {
   "cell_type": "code",
   "execution_count": 40,
   "id": "4f9537d5-86b1-43a2-ae77-d8bc9b2d4c4e",
   "metadata": {},
   "outputs": [],
   "source": [
    "emb_model = KeyedVectors.load(\"models/w2vec_model_d300_global_Min\")\n",
    "dim = 300\n",
    "\n",
    "def encode(msg, model, dim):\n",
    "    \"\"\"\n",
    "    Encode un message\n",
    "    msg : liste de chaînes de caractères correspondant aux mots du message\n",
    "    model : le modèle utilisé pour l'encodage\n",
    "    dim : la dimension des vecteurs mots dans ce modèle\n",
    "    Renvoie un vecteur qui est la moyenne de tous les vecteurs correspondants aux mots du message\n",
    "    Si aucun mot du message n'est dans le modèle, renvoie un vecteur de zéros.\n",
    "    \"\"\"\n",
    "    return np.mean([model[word] for word in msg if word in model] or [np.zeros(dim)], axis = 0)"
   ]
  },
  {
   "cell_type": "markdown",
   "id": "52a93aa2-13ba-4955-8f62-02d95c15e602",
   "metadata": {},
   "source": [
    "### Chargement du jeu de données"
   ]
  },
  {
   "cell_type": "code",
   "execution_count": 11,
   "id": "d33cbc92-9337-49f9-9261-9912a4d842b1",
   "metadata": {},
   "outputs": [],
   "source": [
    "data_hate = pd.read_pickle(\"data_hate.pkl\")"
   ]
  },
  {
   "cell_type": "code",
   "execution_count": 12,
   "id": "0ef5b730-d96f-443e-8284-9e05411b215c",
   "metadata": {},
   "outputs": [],
   "source": [
    "tweets = data_hate['clean_tweet_min']\n",
    "sentiment = data_hate['sentiment']"
   ]
  },
  {
   "cell_type": "markdown",
   "id": "0feca8f3-4182-48fe-b09c-6811becb0a31",
   "metadata": {},
   "source": [
    "### Équilibrer le jeu de données à la hache"
   ]
  },
  {
   "cell_type": "code",
   "execution_count": 13,
   "id": "458bc7c7-c53b-4921-98d9-c36d0b05bb94",
   "metadata": {},
   "outputs": [],
   "source": [
    "h = 0\n",
    "n = 0\n",
    "for i in sentiment:\n",
    "    if (i==0) : n+=1\n",
    "    elif (i==1) : h+=1"
   ]
  },
  {
   "cell_type": "code",
   "execution_count": 14,
   "id": "2b11fdc5-e073-4257-b272-fdf45a67cfba",
   "metadata": {},
   "outputs": [],
   "source": [
    "nlist = []\n",
    "hlist = []\n",
    "for i, m in enumerate(data_hate['clean_tweet_min']):\n",
    "    if (data_hate['sentiment'][i] == 1):\n",
    "        hlist.append((m, 1))\n",
    "    else:\n",
    "        nlist.append((m, 0))"
   ]
  },
  {
   "cell_type": "code",
   "execution_count": 42,
   "id": "6ad726df-049c-4beb-ab6b-3fd24b081278",
   "metadata": {},
   "outputs": [
    {
     "data": {
      "text/plain": [
       "3193"
      ]
     },
     "execution_count": 42,
     "metadata": {},
     "output_type": "execute_result"
    }
   ],
   "source": [
    "len(hlist)"
   ]
  },
  {
   "cell_type": "code",
   "execution_count": 15,
   "id": "304cf61f-102e-48af-9814-b85ce59cc651",
   "metadata": {},
   "outputs": [],
   "source": [
    "hsample = random.Random(0).sample(hlist, len(nlist))"
   ]
  },
  {
   "cell_type": "code",
   "execution_count": 16,
   "id": "ae522d91-8221-446a-a25d-d0a211685f97",
   "metadata": {},
   "outputs": [],
   "source": [
    "balanced_dataset = hsample + nlist\n",
    "random.Random(0).shuffle(balanced_dataset)"
   ]
  },
  {
   "cell_type": "code",
   "execution_count": 17,
   "id": "d14feca1-a81f-4c68-9431-00f87f500e38",
   "metadata": {},
   "outputs": [],
   "source": [
    "dataset = []\n",
    "sentiment = []\n",
    "for m, lab in balanced_dataset:\n",
    "    dataset.append(m.split())\n",
    "    sentiment.append(lab)"
   ]
  },
  {
   "cell_type": "markdown",
   "id": "e4d44688-41a4-4054-8d62-1ad048952953",
   "metadata": {},
   "source": [
    "### Encodage"
   ]
  },
  {
   "cell_type": "code",
   "execution_count": 18,
   "id": "00b6f193-4bb2-4ceb-9b65-ffd9d9ad804e",
   "metadata": {},
   "outputs": [
    {
     "name": "stdout",
     "output_type": "stream",
     "text": [
      "CPU times: user 76.7 ms, sys: 0 ns, total: 76.7 ms\n",
      "Wall time: 76.4 ms\n"
     ]
    }
   ],
   "source": [
    "%%time\n",
    "dataset_encoded = np.array([encode(msg, emb_model, dim) for msg in dataset])"
   ]
  },
  {
   "cell_type": "code",
   "execution_count": 19,
   "id": "7373d14a-8d81-4d92-b973-f7c384e57280",
   "metadata": {},
   "outputs": [],
   "source": [
    "sentiment = np.array(sentiment)"
   ]
  },
  {
   "cell_type": "markdown",
   "id": "a6add1c8-2f11-4229-b6b0-380cc4443451",
   "metadata": {},
   "source": [
    "### Séparation des données d'entraînement et de test"
   ]
  },
  {
   "cell_type": "code",
   "execution_count": 20,
   "id": "e7732d19-41ba-4b39-a4c8-4434e83da82a",
   "metadata": {},
   "outputs": [],
   "source": [
    "x_train, x_test, y_train, y_test = train_test_split(dataset_encoded, sentiment, test_size=0.2, random_state=0)"
   ]
  },
  {
   "cell_type": "markdown",
   "id": "75a6728a-2bf0-4ff7-9a1c-5be742889a9b",
   "metadata": {},
   "source": [
    "### Construction du modèle"
   ]
  },
  {
   "cell_type": "code",
   "execution_count": 141,
   "id": "94664ac8-ef3f-4a55-9e9c-ee409e38f690",
   "metadata": {},
   "outputs": [],
   "source": [
    "model = keras.Sequential()\n",
    "model.add(keras.layers.Input(shape = (300,) ))\n",
    "model.add(keras.layers.Dense(256, activation = \"relu\"))\n",
    "model.add(keras.layers.Dropout(0.2))\n",
    "model.add(keras.layers.Dense(256, activation = \"relu\"))\n",
    "model.add(keras.layers.Dropout(0.2))\n",
    "model.add(keras.layers.Dense(256, activation = \"relu\"))\n",
    "model.add(keras.layers.Dropout(0.2))\n",
    "model.add(keras.layers.Dense(64, activation = \"relu\"))\n",
    "model.add(keras.layers.Dropout(0.2))\n",
    "model.add(keras.layers.Dense(32, activation = \"relu\"))\n",
    "model.add(keras.layers.Dropout(0.1))\n",
    "model.add(keras.layers.Dense(1, activation = \"sigmoid\"))"
   ]
  },
  {
   "cell_type": "code",
   "execution_count": 142,
   "id": "72aa0501-88f6-47f8-b74b-f3bdc29f08be",
   "metadata": {},
   "outputs": [],
   "source": [
    "model.compile(optimizer = \"adam\", loss = \"binary_crossentropy\", metrics = [\"accuracy\"])"
   ]
  },
  {
   "cell_type": "code",
   "execution_count": 143,
   "id": "a0f1bcf5-8c69-42b6-b530-3cd908989f97",
   "metadata": {},
   "outputs": [
    {
     "name": "stdout",
     "output_type": "stream",
     "text": [
      "Model: \"sequential_5\"\n",
      "_________________________________________________________________\n",
      " Layer (type)                Output Shape              Param #   \n",
      "=================================================================\n",
      " dense_26 (Dense)            (None, 256)               77056     \n",
      "                                                                 \n",
      " dropout_21 (Dropout)        (None, 256)               0         \n",
      "                                                                 \n",
      " dense_27 (Dense)            (None, 256)               65792     \n",
      "                                                                 \n",
      " dropout_22 (Dropout)        (None, 256)               0         \n",
      "                                                                 \n",
      " dense_28 (Dense)            (None, 256)               65792     \n",
      "                                                                 \n",
      " dropout_23 (Dropout)        (None, 256)               0         \n",
      "                                                                 \n",
      " dense_29 (Dense)            (None, 64)                16448     \n",
      "                                                                 \n",
      " dropout_24 (Dropout)        (None, 64)                0         \n",
      "                                                                 \n",
      " dense_30 (Dense)            (None, 32)                2080      \n",
      "                                                                 \n",
      " dropout_25 (Dropout)        (None, 32)                0         \n",
      "                                                                 \n",
      " dense_31 (Dense)            (None, 1)                 33        \n",
      "                                                                 \n",
      "=================================================================\n",
      "Total params: 227,201\n",
      "Trainable params: 227,201\n",
      "Non-trainable params: 0\n",
      "_________________________________________________________________\n"
     ]
    }
   ],
   "source": [
    "model.summary()"
   ]
  },
  {
   "cell_type": "markdown",
   "id": "e945c3dc-d094-4e55-abda-93449685b666",
   "metadata": {},
   "source": [
    "#### Création d'un callback permettant de sauvegarder le meilleur modèle"
   ]
  },
  {
   "cell_type": "code",
   "execution_count": 144,
   "id": "3847dae4-f6a1-4145-8ecd-518729334873",
   "metadata": {},
   "outputs": [],
   "source": [
    "savemodel_callback = keras.callbacks.ModelCheckpoint(filepath=\"validation_DNN_model_2022_06_23_4\", verbose=0, save_best_only=True)"
   ]
  },
  {
   "cell_type": "markdown",
   "id": "7453d116-9fd6-4522-9509-cc24118c67fc",
   "metadata": {},
   "source": [
    "### Entraînement"
   ]
  },
  {
   "cell_type": "code",
   "execution_count": 145,
   "id": "2127ac68-6a5f-4fc4-9b6e-aceeb636a1c1",
   "metadata": {},
   "outputs": [
    {
     "name": "stdout",
     "output_type": "stream",
     "text": [
      "Epoch 1/50\n",
      "1/1 [==============================] - ETA: 0s - loss: 0.6964 - accuracy: 0.4752INFO:tensorflow:Assets written to: validation_DNN_model_2022_06_23_4/assets\n",
      "1/1 [==============================] - 2s 2s/step - loss: 0.6964 - accuracy: 0.4752 - val_loss: 0.6892 - val_accuracy: 0.6201\n",
      "Epoch 2/50\n",
      "1/1 [==============================] - ETA: 0s - loss: 0.6913 - accuracy: 0.5347INFO:tensorflow:Assets written to: validation_DNN_model_2022_06_23_4/assets\n",
      "1/1 [==============================] - 1s 1s/step - loss: 0.6913 - accuracy: 0.5347 - val_loss: 0.6859 - val_accuracy: 0.6140\n",
      "Epoch 3/50\n",
      "1/1 [==============================] - ETA: 0s - loss: 0.6877 - accuracy: 0.5659INFO:tensorflow:Assets written to: validation_DNN_model_2022_06_23_4/assets\n",
      "1/1 [==============================] - 1s 1s/step - loss: 0.6877 - accuracy: 0.5659 - val_loss: 0.6812 - val_accuracy: 0.6231\n",
      "Epoch 4/50\n",
      "1/1 [==============================] - ETA: 0s - loss: 0.6853 - accuracy: 0.5765INFO:tensorflow:Assets written to: validation_DNN_model_2022_06_23_4/assets\n",
      "1/1 [==============================] - 1s 1s/step - loss: 0.6853 - accuracy: 0.5765 - val_loss: 0.6753 - val_accuracy: 0.6565\n",
      "Epoch 5/50\n",
      "1/1 [==============================] - ETA: 0s - loss: 0.6809 - accuracy: 0.5819INFO:tensorflow:Assets written to: validation_DNN_model_2022_06_23_4/assets\n",
      "1/1 [==============================] - 1s 1s/step - loss: 0.6809 - accuracy: 0.5819 - val_loss: 0.6670 - val_accuracy: 0.6596\n",
      "Epoch 6/50\n",
      "1/1 [==============================] - ETA: 0s - loss: 0.6740 - accuracy: 0.6078INFO:tensorflow:Assets written to: validation_DNN_model_2022_06_23_4/assets\n",
      "1/1 [==============================] - 1s 1s/step - loss: 0.6740 - accuracy: 0.6078 - val_loss: 0.6566 - val_accuracy: 0.6596\n",
      "Epoch 7/50\n",
      "1/1 [==============================] - ETA: 0s - loss: 0.6689 - accuracy: 0.6078INFO:tensorflow:Assets written to: validation_DNN_model_2022_06_23_4/assets\n",
      "1/1 [==============================] - 1s 1s/step - loss: 0.6689 - accuracy: 0.6078 - val_loss: 0.6465 - val_accuracy: 0.6505\n",
      "Epoch 8/50\n",
      "1/1 [==============================] - ETA: 0s - loss: 0.6593 - accuracy: 0.6139INFO:tensorflow:Assets written to: validation_DNN_model_2022_06_23_4/assets\n",
      "1/1 [==============================] - 1s 972ms/step - loss: 0.6593 - accuracy: 0.6139 - val_loss: 0.6363 - val_accuracy: 0.6565\n",
      "Epoch 9/50\n",
      "1/1 [==============================] - ETA: 0s - loss: 0.6508 - accuracy: 0.6276INFO:tensorflow:Assets written to: validation_DNN_model_2022_06_23_4/assets\n",
      "1/1 [==============================] - 1s 1s/step - loss: 0.6508 - accuracy: 0.6276 - val_loss: 0.6281 - val_accuracy: 0.6565\n",
      "Epoch 10/50\n",
      "1/1 [==============================] - ETA: 0s - loss: 0.6466 - accuracy: 0.6123INFO:tensorflow:Assets written to: validation_DNN_model_2022_06_23_4/assets\n",
      "1/1 [==============================] - 1s 1s/step - loss: 0.6466 - accuracy: 0.6123 - val_loss: 0.6214 - val_accuracy: 0.6596\n",
      "Epoch 11/50\n",
      "1/1 [==============================] - ETA: 0s - loss: 0.6357 - accuracy: 0.6382INFO:tensorflow:Assets written to: validation_DNN_model_2022_06_23_4/assets\n",
      "1/1 [==============================] - 1s 1s/step - loss: 0.6357 - accuracy: 0.6382 - val_loss: 0.6156 - val_accuracy: 0.6717\n",
      "Epoch 12/50\n",
      "1/1 [==============================] - ETA: 0s - loss: 0.6303 - accuracy: 0.6306INFO:tensorflow:Assets written to: validation_DNN_model_2022_06_23_4/assets\n",
      "1/1 [==============================] - 1s 987ms/step - loss: 0.6303 - accuracy: 0.6306 - val_loss: 0.6120 - val_accuracy: 0.6748\n",
      "Epoch 13/50\n",
      "1/1 [==============================] - ETA: 0s - loss: 0.6253 - accuracy: 0.6512INFO:tensorflow:Assets written to: validation_DNN_model_2022_06_23_4/assets\n",
      "1/1 [==============================] - 1s 1s/step - loss: 0.6253 - accuracy: 0.6512 - val_loss: 0.6083 - val_accuracy: 0.6717\n",
      "Epoch 14/50\n",
      "1/1 [==============================] - ETA: 0s - loss: 0.6229 - accuracy: 0.6588INFO:tensorflow:Assets written to: validation_DNN_model_2022_06_23_4/assets\n",
      "1/1 [==============================] - 1s 1s/step - loss: 0.6229 - accuracy: 0.6588 - val_loss: 0.6039 - val_accuracy: 0.6809\n",
      "Epoch 15/50\n",
      "1/1 [==============================] - ETA: 0s - loss: 0.6196 - accuracy: 0.6657INFO:tensorflow:Assets written to: validation_DNN_model_2022_06_23_4/assets\n",
      "1/1 [==============================] - 1s 1s/step - loss: 0.6196 - accuracy: 0.6657 - val_loss: 0.6010 - val_accuracy: 0.6900\n",
      "Epoch 16/50\n",
      "1/1 [==============================] - ETA: 0s - loss: 0.6139 - accuracy: 0.6641INFO:tensorflow:Assets written to: validation_DNN_model_2022_06_23_4/assets\n",
      "1/1 [==============================] - 1s 1s/step - loss: 0.6139 - accuracy: 0.6641 - val_loss: 0.5959 - val_accuracy: 0.6960\n",
      "Epoch 17/50\n",
      "1/1 [==============================] - ETA: 0s - loss: 0.6213 - accuracy: 0.6634INFO:tensorflow:Assets written to: validation_DNN_model_2022_06_23_4/assets\n",
      "1/1 [==============================] - 1s 1s/step - loss: 0.6213 - accuracy: 0.6634 - val_loss: 0.5928 - val_accuracy: 0.7143\n",
      "Epoch 18/50\n",
      "1/1 [==============================] - 0s 28ms/step - loss: 0.6018 - accuracy: 0.6786 - val_loss: 0.5943 - val_accuracy: 0.6869\n",
      "Epoch 19/50\n",
      "1/1 [==============================] - ETA: 0s - loss: 0.6008 - accuracy: 0.6839INFO:tensorflow:Assets written to: validation_DNN_model_2022_06_23_4/assets\n",
      "1/1 [==============================] - 1s 962ms/step - loss: 0.6008 - accuracy: 0.6839 - val_loss: 0.5908 - val_accuracy: 0.6991\n",
      "Epoch 20/50\n",
      "1/1 [==============================] - 0s 26ms/step - loss: 0.5924 - accuracy: 0.6893 - val_loss: 0.5920 - val_accuracy: 0.6869\n",
      "Epoch 21/50\n",
      "1/1 [==============================] - ETA: 0s - loss: 0.5969 - accuracy: 0.6915INFO:tensorflow:Assets written to: validation_DNN_model_2022_06_23_4/assets\n",
      "1/1 [==============================] - 1s 1s/step - loss: 0.5969 - accuracy: 0.6915 - val_loss: 0.5893 - val_accuracy: 0.6900\n",
      "Epoch 22/50\n",
      "1/1 [==============================] - 0s 30ms/step - loss: 0.5899 - accuracy: 0.7053 - val_loss: 0.5929 - val_accuracy: 0.6869\n",
      "Epoch 23/50\n",
      "1/1 [==============================] - ETA: 0s - loss: 0.5951 - accuracy: 0.6946INFO:tensorflow:Assets written to: validation_DNN_model_2022_06_23_4/assets\n",
      "1/1 [==============================] - 1s 1s/step - loss: 0.5951 - accuracy: 0.6946 - val_loss: 0.5872 - val_accuracy: 0.6991\n",
      "Epoch 24/50\n",
      "1/1 [==============================] - 0s 28ms/step - loss: 0.5783 - accuracy: 0.6969 - val_loss: 0.5889 - val_accuracy: 0.6900\n",
      "Epoch 25/50\n",
      "1/1 [==============================] - 0s 34ms/step - loss: 0.5818 - accuracy: 0.6969 - val_loss: 0.5886 - val_accuracy: 0.6960\n",
      "Epoch 26/50\n",
      "1/1 [==============================] - 0s 34ms/step - loss: 0.5621 - accuracy: 0.7235 - val_loss: 0.5959 - val_accuracy: 0.6930\n",
      "Epoch 27/50\n",
      "1/1 [==============================] - 0s 30ms/step - loss: 0.5713 - accuracy: 0.7205 - val_loss: 0.5907 - val_accuracy: 0.6839\n",
      "Epoch 28/50\n",
      "1/1 [==============================] - 0s 28ms/step - loss: 0.5656 - accuracy: 0.7258 - val_loss: 0.5926 - val_accuracy: 0.6839\n",
      "Epoch 29/50\n",
      "1/1 [==============================] - 0s 35ms/step - loss: 0.5594 - accuracy: 0.7266 - val_loss: 0.5998 - val_accuracy: 0.7021\n",
      "Epoch 30/50\n",
      "1/1 [==============================] - 0s 34ms/step - loss: 0.5518 - accuracy: 0.7296 - val_loss: 0.5956 - val_accuracy: 0.7052\n",
      "Epoch 31/50\n",
      "1/1 [==============================] - 0s 32ms/step - loss: 0.5464 - accuracy: 0.7350 - val_loss: 0.5959 - val_accuracy: 0.6869\n",
      "Epoch 32/50\n",
      "1/1 [==============================] - 0s 28ms/step - loss: 0.5478 - accuracy: 0.7327 - val_loss: 0.5947 - val_accuracy: 0.6991\n",
      "Epoch 33/50\n",
      "1/1 [==============================] - 0s 29ms/step - loss: 0.5478 - accuracy: 0.7365 - val_loss: 0.6064 - val_accuracy: 0.6900\n",
      "Epoch 34/50\n",
      "1/1 [==============================] - 0s 28ms/step - loss: 0.5387 - accuracy: 0.7449 - val_loss: 0.5971 - val_accuracy: 0.7021\n",
      "Epoch 35/50\n",
      "1/1 [==============================] - 0s 36ms/step - loss: 0.5378 - accuracy: 0.7494 - val_loss: 0.6030 - val_accuracy: 0.6930\n",
      "Epoch 36/50\n",
      "1/1 [==============================] - 0s 29ms/step - loss: 0.5343 - accuracy: 0.7380 - val_loss: 0.6055 - val_accuracy: 0.6960\n",
      "Epoch 37/50\n",
      "1/1 [==============================] - 0s 30ms/step - loss: 0.5294 - accuracy: 0.7510 - val_loss: 0.6128 - val_accuracy: 0.6869\n",
      "Epoch 38/50\n",
      "1/1 [==============================] - 0s 30ms/step - loss: 0.5269 - accuracy: 0.7441 - val_loss: 0.6086 - val_accuracy: 0.6869\n",
      "Epoch 39/50\n",
      "1/1 [==============================] - 0s 29ms/step - loss: 0.5133 - accuracy: 0.7639 - val_loss: 0.6128 - val_accuracy: 0.6900\n",
      "Epoch 40/50\n",
      "1/1 [==============================] - 0s 29ms/step - loss: 0.5095 - accuracy: 0.7715 - val_loss: 0.6240 - val_accuracy: 0.6778\n",
      "Epoch 41/50\n",
      "1/1 [==============================] - 0s 30ms/step - loss: 0.5097 - accuracy: 0.7708 - val_loss: 0.6231 - val_accuracy: 0.6900\n",
      "Epoch 42/50\n",
      "1/1 [==============================] - 0s 31ms/step - loss: 0.4913 - accuracy: 0.7845 - val_loss: 0.6283 - val_accuracy: 0.7021\n",
      "Epoch 43/50\n",
      "1/1 [==============================] - 0s 29ms/step - loss: 0.4942 - accuracy: 0.7768 - val_loss: 0.6414 - val_accuracy: 0.6748\n",
      "Epoch 44/50\n",
      "1/1 [==============================] - 0s 29ms/step - loss: 0.4873 - accuracy: 0.7867 - val_loss: 0.6430 - val_accuracy: 0.6900\n",
      "Epoch 45/50\n",
      "1/1 [==============================] - 0s 31ms/step - loss: 0.4724 - accuracy: 0.7883 - val_loss: 0.6532 - val_accuracy: 0.6778\n",
      "Epoch 46/50\n",
      "1/1 [==============================] - 0s 31ms/step - loss: 0.4655 - accuracy: 0.7966 - val_loss: 0.6643 - val_accuracy: 0.6657\n",
      "Epoch 47/50\n",
      "1/1 [==============================] - 0s 31ms/step - loss: 0.4506 - accuracy: 0.8065 - val_loss: 0.6693 - val_accuracy: 0.6839\n",
      "Epoch 48/50\n",
      "1/1 [==============================] - 0s 30ms/step - loss: 0.4536 - accuracy: 0.7944 - val_loss: 0.6936 - val_accuracy: 0.6626\n",
      "Epoch 49/50\n",
      "1/1 [==============================] - 0s 29ms/step - loss: 0.4522 - accuracy: 0.7966 - val_loss: 0.6911 - val_accuracy: 0.6869\n",
      "Epoch 50/50\n",
      "1/1 [==============================] - 0s 30ms/step - loss: 0.4460 - accuracy: 0.8126 - val_loss: 0.7152 - val_accuracy: 0.6505\n",
      "CPU times: user 24.5 s, sys: 209 ms, total: 24.8 s\n",
      "Wall time: 24.9 s\n"
     ]
    }
   ],
   "source": [
    "%%time\n",
    "\n",
    "history = model.fit(x_train,\n",
    "                    y_train,\n",
    "                    epochs          = 50,\n",
    "                    batch_size      = 1313,\n",
    "                    validation_data = (x_test, y_test),\n",
    "                    verbose         = 1,\n",
    "                    callbacks       = [savemodel_callback])"
   ]
  },
  {
   "cell_type": "markdown",
   "id": "4179c7ee-122a-43f6-8e78-a74d3228c370",
   "metadata": {},
   "source": [
    "### Historique de l'entraînement\n",
    "\n",
    "On remarque le suraprentissage à partir de l'epoch 20-25."
   ]
  },
  {
   "cell_type": "code",
   "execution_count": 146,
   "id": "80f59138-39b6-4fbd-9128-0ab09fd61d05",
   "metadata": {},
   "outputs": [
    {
     "data": {
      "image/png": "[encoded data removed]",
      "text/plain": [
       "<Figure size 432x288 with 2 Axes>"
      ]
     },
     "metadata": {
      "needs_background": "light"
     },
     "output_type": "display_data"
    }
   ],
   "source": [
    "# Graphique de la fonction de perte\n",
    "pyplot.subplot(211)\n",
    "pyplot.title('Loss')\n",
    "pyplot.plot(history.history['loss'], label='train')\n",
    "pyplot.plot(history.history['val_loss'], label='test')\n",
    "pyplot.legend()\n",
    "# Graphique de l'accuracy\n",
    "pyplot.subplot(212)\n",
    "pyplot.title('Accuracy')\n",
    "pyplot.plot(history.history['accuracy'], label='train')\n",
    "pyplot.plot(history.history['val_accuracy'], label='test')\n",
    "pyplot.legend()\n",
    "pyplot.show()"
   ]
  },
  {
   "cell_type": "markdown",
   "id": "64d09f36-0971-4be7-8fb2-56dde7c28266",
   "metadata": {},
   "source": [
    "### Matrice de confusion du dernier modèle"
   ]
  },
  {
   "cell_type": "code",
   "execution_count": 147,
   "id": "3bc720d3-449c-4ce5-9d46-5f6d7de8d243",
   "metadata": {},
   "outputs": [],
   "source": [
    "pred = model.predict(x_test)"
   ]
  },
  {
   "cell_type": "code",
   "execution_count": 148,
   "id": "7146b4fe-8ce4-4d7a-8b54-36307d6b9228",
   "metadata": {},
   "outputs": [],
   "source": [
    "norm_pred = np.array([0 if e < 0.5 else 1 for e in pred ])"
   ]
  },
  {
   "cell_type": "code",
   "execution_count": 149,
   "id": "4dcd3d21-9cdc-4cab-b95c-15eaf41f7c1e",
   "metadata": {},
   "outputs": [
    {
     "data": {
      "image/png": "[encoded data removed]",
      "text/plain": [
       "<Figure size 720x576 with 2 Axes>"
      ]
     },
     "metadata": {
      "needs_background": "light"
     },
     "output_type": "display_data"
    }
   ],
   "source": [
    "plot_confusion_matrix(y_test, norm_pred, target_names=None)"
   ]
  },
  {
   "cell_type": "markdown",
   "id": "608aa1d3-924b-47b6-94a0-76a924a96b1c",
   "metadata": {},
   "source": [
    "### Chargement du meilleur modèle et impression de sa matrice de confusion"
   ]
  },
  {
   "cell_type": "code",
   "execution_count": 150,
   "id": "36473cba-1e39-4ad2-98cc-a0be6e1a5a23",
   "metadata": {},
   "outputs": [],
   "source": [
    "load_model = keras.models.load_model(\"validation_DNN_model_2022_06_23_4\")"
   ]
  },
  {
   "cell_type": "code",
   "execution_count": 151,
   "id": "a58682bc-f233-4b89-ac6e-3eb594dd1086",
   "metadata": {},
   "outputs": [],
   "source": [
    "lpred = load_model.predict(x_test)"
   ]
  },
  {
   "cell_type": "code",
   "execution_count": 152,
   "id": "cc465909-5f35-43d2-848c-e982a92e513c",
   "metadata": {},
   "outputs": [],
   "source": [
    "norm_lpred = np.array([0 if e < 0.5 else 1 for e in lpred ])"
   ]
  },
  {
   "cell_type": "code",
   "execution_count": 153,
   "id": "fac14c5b-d441-4052-b418-f9a6e192e186",
   "metadata": {},
   "outputs": [
    {
     "data": {
      "image/png": "[encoded data removed]",
      "text/plain": [
       "<Figure size 720x576 with 2 Axes>"
      ]
     },
     "metadata": {
      "needs_background": "light"
     },
     "output_type": "display_data"
    }
   ],
   "source": [
    "plot_confusion_matrix(y_test, norm_lpred, target_names=None)"
   ]
  },
  {
   "cell_type": "code",
   "execution_count": null,
   "id": "4c1bcb07-3412-4a08-a141-93bec787fedf",
   "metadata": {},
   "outputs": [],
   "source": []
  }
 ],
 "metadata": {
  "kernelspec": {
   "display_name": "Python 3 (ipykernel)",
   "language": "python",
   "name": "python3"
  },
  "language_info": {
   "codemirror_mode": {
    "name": "ipython",
    "version": 3
   },
   "file_extension": ".py",
   "mimetype": "text/x-python",
   "name": "python",
   "nbconvert_exporter": "python",
   "pygments_lexer": "ipython3",
   "version": "3.9.2"
  }
 },
 "nbformat": 4,
 "nbformat_minor": 5
}
