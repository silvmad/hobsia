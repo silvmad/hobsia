{
 "cells": [
  {
   "cell_type": "code",
   "execution_count": 22,
   "id": "7e297cc0-12c8-48bc-b488-53fd3f625f8c",
   "metadata": {},
   "outputs": [],
   "source": [
    "from tensorflow import keras\n",
    "import random\n",
    "import numpy as np"
   ]
  },
  {
   "cell_type": "markdown",
   "id": "d6687a7b-2d41-4784-b34b-82cdaf3c1e5d",
   "metadata": {},
   "source": [
    "### Chargement du modèle d'autoencoder et séparation de la partie encodeur"
   ]
  },
  {
   "cell_type": "code",
   "execution_count": 26,
   "id": "3bf60edb-ceaf-4419-b4c6-1b1ce0fbcf07",
   "metadata": {},
   "outputs": [],
   "source": [
    "autoencoder = keras.models.load_model(\"models/ae_Min_feature_extr\")"
   ]
  },
  {
   "cell_type": "markdown",
   "id": "5cc18b5c-ecea-4083-add6-f8b680914a10",
   "metadata": {},
   "source": [
    "Afin d'isoler l'encodeur , on recrée un petit modèle avec une couche d'entrée et les trois couches du modèle d'autoencodeur correspondant à l'encodeur. C'est à dire les trois première couches à l'exception de la couche d'entrée."
   ]
  },
  {
   "cell_type": "code",
   "execution_count": 27,
   "id": "b66a0d2a-3ce4-4094-8986-83587c07b097",
   "metadata": {},
   "outputs": [],
   "source": [
    "inp = keras.Input(shape=(300,))\n",
    "outp = autoencoder.layers[1](inp)\n",
    "outp = autoencoder.layers[2](outp)\n",
    "outp = autoencoder.layers[3](outp)\n",
    "encoder = keras.Model(inp, outp)"
   ]
  },
  {
   "cell_type": "markdown",
   "id": "56bd8837-a68a-4034-acd1-b188c49d4c6d",
   "metadata": {},
   "source": [
    "### Encodage du dataset"
   ]
  },
  {
   "cell_type": "code",
   "execution_count": 8,
   "id": "78e709c3-55d4-4aa8-b6a9-70de32a88210",
   "metadata": {},
   "outputs": [],
   "source": [
    "from gensim.models import KeyedVectors"
   ]
  },
  {
   "cell_type": "code",
   "execution_count": 9,
   "id": "7bd00e55-7f27-4e13-af3e-2eb2cbfd3db4",
   "metadata": {},
   "outputs": [],
   "source": [
    "model = KeyedVectors.load(\"models/w2vec_model_d300_global_Min\")"
   ]
  },
  {
   "cell_type": "code",
   "execution_count": 10,
   "id": "4a955cdd-22e3-4910-8825-1f3ef3dc0a29",
   "metadata": {},
   "outputs": [],
   "source": [
    "dim = 300\n",
    "\n",
    "def encode(msg, model, dim):\n",
    "    return np.mean([model[word] for word in msg if word in model] or [np.zeros(dim)], axis = 0)"
   ]
  },
  {
   "cell_type": "code",
   "execution_count": 11,
   "id": "73b1bd3f-befb-49ac-9221-482e3fe1670e",
   "metadata": {},
   "outputs": [],
   "source": [
    "clean_dataset_file = \"datasets/global_datasetLem.txt\""
   ]
  },
  {
   "cell_type": "code",
   "execution_count": 17,
   "id": "f8bda5e7-4021-4a45-8446-acca2eef1cb3",
   "metadata": {},
   "outputs": [],
   "source": [
    "with open(clean_dataset_file, \"r\") as file:\n",
    "    clean_dataset = file.read().splitlines()"
   ]
  },
  {
   "cell_type": "markdown",
   "id": "4aec18b6-f286-4080-97e5-3149f4c331b5",
   "metadata": {},
   "source": [
    "Pour la démonstration on travaille avec un petit échantillon de 50 messages"
   ]
  },
  {
   "cell_type": "code",
   "execution_count": 18,
   "id": "e934e0a9-d2b1-4814-a52a-30ae8054154f",
   "metadata": {},
   "outputs": [],
   "source": [
    "sample_size = 50\n",
    "\n",
    "idx_list = random.sample(range(len(clean_dataset)), sample_size)\n",
    "clean_dataset = [clean_dataset[i] for i in idx_list]"
   ]
  },
  {
   "cell_type": "markdown",
   "id": "96c381d8-dd40-4e90-af14-52425e23e85b",
   "metadata": {},
   "source": [
    "La fonction encode attend une liste de mots on sépare donc les mots des messages."
   ]
  },
  {
   "cell_type": "code",
   "execution_count": 31,
   "id": "c17173a1-48c1-4ebe-9e11-0b23a1e40b8e",
   "metadata": {},
   "outputs": [],
   "source": [
    "clean_dataset = [msg.split() for msg in clean_dataset]"
   ]
  },
  {
   "cell_type": "code",
   "execution_count": 37,
   "id": "33c70af7-fdc5-42d3-a3b5-f66c4d4df297",
   "metadata": {},
   "outputs": [],
   "source": [
    "dataset_encoded = np.array([encode(msg, model, dim) for msg in clean_dataset])"
   ]
  },
  {
   "cell_type": "markdown",
   "id": "c24a2de6-f3ab-4cc7-8bfc-2fc88e331739",
   "metadata": {},
   "source": [
    "Une fois l'encodage effectué on a bien 50 vecteurs de 300 composantes dans le dataset encodé."
   ]
  },
  {
   "cell_type": "code",
   "execution_count": 38,
   "id": "cee05282-2512-45c3-a037-e1165853ebda",
   "metadata": {},
   "outputs": [
    {
     "data": {
      "text/plain": [
       "(50, 300)"
      ]
     },
     "execution_count": 38,
     "metadata": {},
     "output_type": "execute_result"
    }
   ],
   "source": [
    "dataset_encoded.shape"
   ]
  },
  {
   "cell_type": "markdown",
   "id": "2aa52067-c0c8-4f3a-a6e8-220a5afa55bc",
   "metadata": {},
   "source": [
    "### Transformation du dataset encodé\n",
    "On utilise l'encodeur pour réduire le nombre de composantes de chaque vecteur à 16."
   ]
  },
  {
   "cell_type": "code",
   "execution_count": 40,
   "id": "4d33866a-f23e-4f5f-ab8e-912dd7c19dac",
   "metadata": {},
   "outputs": [],
   "source": [
    "dataset_16_features = encoder.predict(dataset_encoded)"
   ]
  },
  {
   "cell_type": "markdown",
   "id": "92e8b488-a35e-4f6a-b8a6-b308fa7383c6",
   "metadata": {},
   "source": [
    "On a bien 50 vecteurs a 16 composantes"
   ]
  },
  {
   "cell_type": "code",
   "execution_count": 41,
   "id": "fdd55147-0c05-4ae8-8d7d-29ddf38d64cf",
   "metadata": {},
   "outputs": [
    {
     "data": {
      "text/plain": [
       "(50, 16)"
      ]
     },
     "execution_count": 41,
     "metadata": {},
     "output_type": "execute_result"
    }
   ],
   "source": [
    "dataset_16_features.shape"
   ]
  },
  {
   "cell_type": "code",
   "execution_count": null,
   "id": "c4a57e18-7f1a-4532-8de5-de6e961d176b",
   "metadata": {},
   "outputs": [],
   "source": []
  }
 ],
 "metadata": {
  "kernelspec": {
   "display_name": "Python 3 (ipykernel)",
   "language": "python",
   "name": "python3"
  },
  "language_info": {
   "codemirror_mode": {
    "name": "ipython",
    "version": 3
   },
   "file_extension": ".py",
   "mimetype": "text/x-python",
   "name": "python",
   "nbconvert_exporter": "python",
   "pygments_lexer": "ipython3",
   "version": "3.9.2"
  }
 },
 "nbformat": 4,
 "nbformat_minor": 5
}
