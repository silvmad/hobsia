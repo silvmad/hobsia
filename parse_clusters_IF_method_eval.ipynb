{
 "cells": [
  {
   "cell_type": "markdown",
   "id": "aded9bfd-8753-4d77-ab8e-3601e985899b",
   "metadata": {},
   "source": [
    "On cherche dans ce notebook à comparer l'efficacité des différents taux de contamination pour l'algorithme isolation forest.\n",
    "\n",
    "Trois méthodes ont été utilisées :\n",
    "- auto : on laisse l'algorithme décider du taux\n",
    "- fixe : on fixe le taux à 15%\n",
    "- var : on fixe un taux différent pour chaque cluster, égal au pourcentage de messages détectés comme non haineux par le modèle de validation (en espérant que l'algorithme se débarasse de ces messages)\n",
    "\n",
    "### Imports et initialisations"
   ]
  },
  {
   "cell_type": "code",
   "execution_count": 1,
   "id": "39b8505d-9fac-4d89-b340-89d90b4c2a78",
   "metadata": {},
   "outputs": [],
   "source": [
    "from clustertools import *"
   ]
  },
  {
   "cell_type": "code",
   "execution_count": 2,
   "id": "13dffc48-6ffc-4954-8b28-a5e1c0532d7b",
   "metadata": {},
   "outputs": [],
   "source": [
    "clusters_dir = \"clusters/no_outliers_bert_som25/clean_bert_som25/\""
   ]
  },
  {
   "cell_type": "markdown",
   "id": "9f3cd118-0a68-4aed-a217-879bd5ee602d",
   "metadata": {},
   "source": [
    "### Charger les clusters en mémoire"
   ]
  },
  {
   "cell_type": "code",
   "execution_count": 3,
   "id": "f2d59c09-ea54-4c59-a7d8-54e30fcfc2df",
   "metadata": {},
   "outputs": [],
   "source": [
    "dir_it = os.scandir(path=clusters_dir)"
   ]
  },
  {
   "cell_type": "code",
   "execution_count": 4,
   "id": "9c1a0272-0661-45d4-9fc8-9e5f27cf8699",
   "metadata": {},
   "outputs": [],
   "source": [
    "names = [entry.name for entry in dir_it]"
   ]
  },
  {
   "cell_type": "code",
   "execution_count": 5,
   "id": "bb3b7842-1cca-4f5f-91cc-3c03950e2df7",
   "metadata": {},
   "outputs": [],
   "source": [
    "def extr_num(string):\n",
    "    num = re.search(\"([0-9]+)\", string)\n",
    "    return int(num.group(1)) if num else -1"
   ]
  },
  {
   "cell_type": "code",
   "execution_count": 6,
   "id": "2847a1e6-a64d-4960-8bef-12d13fa98e9e",
   "metadata": {},
   "outputs": [],
   "source": [
    "names.sort(key=extr_num)"
   ]
  },
  {
   "cell_type": "code",
   "execution_count": 7,
   "id": "a604a162-41a4-4119-af94-f0b2d7c41cd5",
   "metadata": {},
   "outputs": [
    {
     "data": {
      "text/plain": [
       "['auto_clean_0',\n",
       " 'fixe_clean_0',\n",
       " 'var_clean_0',\n",
       " 'auto_clean_12',\n",
       " 'fixe_clean_12',\n",
       " 'var_clean_12',\n",
       " 'auto_clean_13',\n",
       " 'fixe_clean_13',\n",
       " 'var_clean_13',\n",
       " 'auto_clean_14',\n",
       " 'fixe_clean_14',\n",
       " 'var_clean_14',\n",
       " 'auto_clean_17',\n",
       " 'fixe_clean_17',\n",
       " 'var_clean_17',\n",
       " 'auto_clean_19',\n",
       " 'fixe_clean_19',\n",
       " 'var_clean_19']"
      ]
     },
     "execution_count": 7,
     "metadata": {},
     "output_type": "execute_result"
    }
   ],
   "source": [
    "names"
   ]
  },
  {
   "cell_type": "code",
   "execution_count": 8,
   "id": "b3f64b07-1974-44b9-be63-a81ae508d74f",
   "metadata": {},
   "outputs": [],
   "source": [
    "auto_rc = [load_cluster(clusters_dir + name) for name in names if 'auto' in name]\n",
    "var_rc = [load_cluster(clusters_dir + name) for name in names if 'var' in name]\n",
    "fixe_rc = [load_cluster(clusters_dir + name) for name in names if 'fixe' in name]\n",
    "auto_cc = [[m.split() for m in c] for c in auto_rc]\n",
    "var_cc = [[m.split() for m in c] for c in var_rc]\n",
    "fixe_cc = [[m.split() for m in c] for c in fixe_rc]"
   ]
  },
  {
   "cell_type": "markdown",
   "id": "f9187f69-28d9-46e0-8e79-bcd6053c5b0f",
   "metadata": {},
   "source": [
    "### Chargement du modèle de validation"
   ]
  },
  {
   "cell_type": "code",
   "execution_count": 9,
   "id": "2e4afefc-ef53-421a-9f68-7e5ede88d35b",
   "metadata": {},
   "outputs": [],
   "source": [
    "import torch \n",
    "from transformers import CamembertForSequenceClassification, CamembertTokenizer\n",
    "\n",
    "tokenizer = CamembertTokenizer.from_pretrained(\"models/tweetbert\", do_lowercase=False)\n",
    "classifier = CamembertForSequenceClassification.from_pretrained(\"models/tweetbert_FT_rand_balanced\")"
   ]
  },
  {
   "cell_type": "code",
   "execution_count": 10,
   "id": "43e03bba-5213-41fc-8959-3201dfcf7cc4",
   "metadata": {},
   "outputs": [],
   "source": [
    "device = torch.device('cuda') if torch.cuda.is_available() else torch.device('cpu')\n",
    "r = classifier.to(device)"
   ]
  },
  {
   "cell_type": "markdown",
   "id": "1429cc3f-45b3-4630-8f23-cc33908a1e79",
   "metadata": {},
   "source": [
    "#### Prédiction du pourcentage de messages haineux"
   ]
  },
  {
   "cell_type": "code",
   "execution_count": 11,
   "id": "8b16e3c1-b726-4106-ba59-6b64f99f44c9",
   "metadata": {},
   "outputs": [],
   "source": [
    "def predict(sample):\n",
    "    pred = []\n",
    "    for n in range(0, len(sample), 10):\n",
    "        phrases = sample[n:n+10]\n",
    "        enc = tokenizer(phrases, padding=True, truncation=True, max_length=512, return_tensors='pt')\n",
    "        enc.to('cuda:0')\n",
    "        with torch.no_grad():\n",
    "            outp = classifier(**enc)\n",
    "        p = torch.nn.functional.softmax(outp.logits, dim=1)\n",
    "        labels = torch.argmax(p, dim=1)\n",
    "        pred.append(labels)\n",
    "    return torch.cat(pred)"
   ]
  },
  {
   "cell_type": "code",
   "execution_count": 12,
   "id": "d6b06d4a-db08-4afa-840c-fc3efb0a40f9",
   "metadata": {},
   "outputs": [
    {
     "name": "stdout",
     "output_type": "stream",
     "text": [
      "CPU times: user 15.9 s, sys: 0 ns, total: 15.9 s\n",
      "Wall time: 15.9 s\n"
     ]
    }
   ],
   "source": [
    "%%time \n",
    "auto_pred = []\n",
    "for clust in auto_rc:\n",
    "    auto_pred.append(predict(clust))\n",
    "    \n",
    "fixe_pred = []\n",
    "for clust in fixe_rc:\n",
    "    fixe_pred.append(predict(clust))\n",
    "\n",
    "var_pred = []\n",
    "for clust in var_rc:\n",
    "    var_pred.append(predict(clust))"
   ]
  },
  {
   "cell_type": "code",
   "execution_count": 13,
   "id": "823da4d3-f927-45ce-be7c-2e908f571e4e",
   "metadata": {},
   "outputs": [],
   "source": [
    "def hate_perc(hate_pred):\n",
    "    hper = []\n",
    "    for i, p in enumerate(hate_pred):\n",
    "        bc = torch.bincount(p, minlength=2)\n",
    "        perc = (bc[1] / (bc[0]+bc[1])).item() * 100\n",
    "        hper.append(perc)\n",
    "    return hper"
   ]
  },
  {
   "cell_type": "code",
   "execution_count": 14,
   "id": "f3132a95-0966-49e0-bbf6-2cdd5eb763f5",
   "metadata": {},
   "outputs": [],
   "source": [
    "auto_per = hate_perc(auto_pred)\n",
    "fixe_per = hate_perc(fixe_pred)\n",
    "var_per = hate_perc(var_pred)"
   ]
  },
  {
   "cell_type": "markdown",
   "id": "3e1a83ce-f7ef-4439-942d-2b9ed00d6075",
   "metadata": {},
   "source": [
    "Pourcentage et nombre de messages pour les clusters avant passage d'isolation forest"
   ]
  },
  {
   "cell_type": "code",
   "execution_count": 15,
   "id": "366f3a31-e4b2-49e6-8e2b-573802b99980",
   "metadata": {},
   "outputs": [],
   "source": [
    "no_IF_hper = [19.11, 11.27, 14.29, 83.51, 1.37, 98.31]\n",
    "no_IF_n_msg = [225, 142, 133, 97, 73, 354]"
   ]
  },
  {
   "cell_type": "code",
   "execution_count": 16,
   "id": "65a262c0-848e-4ae1-aa4d-021abf3b2cf2",
   "metadata": {},
   "outputs": [],
   "source": [
    "def print_res(hper):\n",
    "    s = 0\n",
    "    sp = 0\n",
    "    print(\"% sans\\t| % avec| diff\\t| diff pondérée par nb msg\\n---------------------------------\")\n",
    "    for nh, nm, ih in zip(no_IF_hper, no_IF_n_msg, hper):#, n_msg):\n",
    "        diff = nh-ih if nh < 50 else ih-nh\n",
    "        diffp = diff*nm\n",
    "        print(\"{}\\t| {:.2f}\\t| {:.2f}\\t| {:.2f}\".format(nh, ih, diff, diffp))\n",
    "        s += diff\n",
    "        sp += diffp\n",
    "    print(\"\\ntotal diff : {:.2f}\\ttotal diff pondérée par nb msg : {:.2f}\\n\".format(s, sp))    "
   ]
  },
  {
   "cell_type": "markdown",
   "id": "60482466-3b16-421d-a0d7-36a6dbed5a72",
   "metadata": {},
   "source": [
    "#### On compare les résultats de chaque méthode aux clusters de base\n",
    "- pour chaque cluster on calcule le pourcentage de messages détectés comme haineux par le modèle de validation\n",
    "- on compare avec le pourcentage des clusters de base\n",
    "- si le cluster de base a moins de 20% de messages haineux, on cherche à faire diminuer ce pourcentage avec IF, la différence absolue entre les deux sera donc comptabilisée comme positive si le pourcentage post IF est inférieur à celui du cluster de base et négative sinon\n",
    "- inversement si le cluster de base a plus de 80% de messages haineux, on cherche à faire augmenter ce pourcentage avec IF, la différence absolue entre les deux sera donc comptabilisée comme négative si le pourcentage post IF est inférieur à celui du cluster de base et positive sinon"
   ]
  },
  {
   "cell_type": "code",
   "execution_count": 17,
   "id": "25c5a8da-ceef-4d81-9bd8-60fbd54d0750",
   "metadata": {},
   "outputs": [
    {
     "name": "stdout",
     "output_type": "stream",
     "text": [
      "Auto :\n",
      "% sans\t| % avec| diff\t| diff pondérée par nb msg\n",
      "---------------------------------\n",
      "19.11\t| 18.75\t| 0.36\t| 81.00\n",
      "11.27\t| 12.32\t| -1.05\t| -148.94\n",
      "14.29\t| 11.63\t| 2.66\t| 354.06\n",
      "83.51\t| 86.32\t| 2.81\t| 272.16\n",
      "1.37\t| 2.94\t| -1.57\t| -114.70\n",
      "98.31\t| 98.57\t| 0.26\t| 92.54\n",
      "\n",
      "total diff : 3.47\ttotal diff pondérée par nb msg : 536.13\n",
      "\n",
      "Fixe :\n",
      "% sans\t| % avec| diff\t| diff pondérée par nb msg\n",
      "---------------------------------\n",
      "19.11\t| 18.85\t| 0.26\t| 58.91\n",
      "11.27\t| 12.50\t| -1.23\t| -174.66\n",
      "14.29\t| 11.50\t| 2.79\t| 370.48\n",
      "83.51\t| 87.80\t| 4.29\t| 416.60\n",
      "1.37\t| 3.23\t| -1.86\t| -135.47\n",
      "98.31\t| 99.00\t| 0.69\t| 245.44\n",
      "\n",
      "total diff : 4.95\ttotal diff pondérée par nb msg : 781.30\n",
      "\n",
      "Var :\n",
      "% sans\t| % avec| diff\t| diff pondérée par nb msg\n",
      "---------------------------------\n",
      "19.11\t| 19.23\t| -0.12\t| -27.17\n",
      "11.27\t| 11.90\t| -0.63\t| -90.14\n",
      "14.29\t| 11.40\t| 2.89\t| 383.90\n",
      "83.51\t| 87.65\t| 4.14\t| 402.00\n",
      "1.37\t| 2.78\t| -1.41\t| -102.77\n",
      "98.31\t| 98.56\t| 0.25\t| 89.64\n",
      "\n",
      "total diff : 5.12\ttotal diff pondérée par nb msg : 655.46\n",
      "\n"
     ]
    }
   ],
   "source": [
    "print(\"Auto :\")\n",
    "print_res(auto_per)\n",
    "print(\"Fixe :\")\n",
    "print_res(fixe_per)\n",
    "print(\"Var :\")\n",
    "print_res(var_per)"
   ]
  },
  {
   "cell_type": "markdown",
   "id": "665580c5-af76-4ea4-9226-016ccdceb3fe",
   "metadata": {},
   "source": [
    "Toutes les méthodes améliorent la pertinence des cluster et une contamination fixe à 15% donne les meilleurs résultats"
   ]
  },
  {
   "cell_type": "code",
   "execution_count": null,
   "id": "51460cad-6f7f-4cd3-ba47-4384b005de69",
   "metadata": {},
   "outputs": [],
   "source": []
  }
 ],
 "metadata": {
  "kernelspec": {
   "display_name": "Python 3 (ipykernel)",
   "language": "python",
   "name": "python3"
  },
  "language_info": {
   "codemirror_mode": {
    "name": "ipython",
    "version": 3
   },
   "file_extension": ".py",
   "mimetype": "text/x-python",
   "name": "python",
   "nbconvert_exporter": "python",
   "pygments_lexer": "ipython3",
   "version": "3.9.2"
  }
 },
 "nbformat": 4,
 "nbformat_minor": 5
}
